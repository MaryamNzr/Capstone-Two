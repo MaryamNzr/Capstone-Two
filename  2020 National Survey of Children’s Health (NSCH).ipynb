{
 "cells": [
  {
   "cell_type": "code",
   "execution_count": 5,
   "id": "b109c372",
   "metadata": {},
   "outputs": [],
   "source": [
    "#Import pandas, matplotlib.pyplot, and seaborn in the correct lines below\n",
    "import pandas as pd\n",
    "import matplotlib.pyplot as plt\n",
    "import seaborn as sns\n",
    "import os\n",
    "import statistics\n",
    "import numpy as np\n"
   ]
  },
  {
   "cell_type": "code",
   "execution_count": 6,
   "id": "b587156c",
   "metadata": {},
   "outputs": [],
   "source": [
    "# the supplied CSV data file is the raw_data directory\n",
    "survey_data = pd.read_csv('2020 NSCH_Topical_CAHMI_DRC_Dataset.csv')"
   ]
  },
  {
   "cell_type": "code",
   "execution_count": 7,
   "id": "dd17599f",
   "metadata": {},
   "outputs": [
    {
     "data": {
      "text/html": [
       "<div>\n",
       "<style scoped>\n",
       "    .dataframe tbody tr th:only-of-type {\n",
       "        vertical-align: middle;\n",
       "    }\n",
       "\n",
       "    .dataframe tbody tr th {\n",
       "        vertical-align: top;\n",
       "    }\n",
       "\n",
       "    .dataframe thead th {\n",
       "        text-align: right;\n",
       "    }\n",
       "</style>\n",
       "<table border=\"1\" class=\"dataframe\">\n",
       "  <thead>\n",
       "    <tr style=\"text-align: right;\">\n",
       "      <th></th>\n",
       "      <th>FIPSST</th>\n",
       "      <th>STRATUM</th>\n",
       "      <th>HHID</th>\n",
       "      <th>FORMTYPE</th>\n",
       "      <th>TOTKIDS_R</th>\n",
       "      <th>TENURE</th>\n",
       "      <th>HHLANGUAGE</th>\n",
       "      <th>SC_AGE_YEARS</th>\n",
       "      <th>SC_SEX</th>\n",
       "      <th>K2Q35A_1_YEARS</th>\n",
       "      <th>...</th>\n",
       "      <th>npm15AdIns_20</th>\n",
       "      <th>nom14TthDec_20</th>\n",
       "      <th>nom17_1CSHCN_20</th>\n",
       "      <th>nom17_2sysCSHCN_20</th>\n",
       "      <th>nom17_3ASD_20</th>\n",
       "      <th>nom17_4ADHD_20</th>\n",
       "      <th>nom18MHlth_20</th>\n",
       "      <th>nom19ChHSt_20</th>\n",
       "      <th>nom20obese_20</th>\n",
       "      <th>nom25ForgoneHC_20</th>\n",
       "    </tr>\n",
       "  </thead>\n",
       "  <tbody>\n",
       "    <tr>\n",
       "      <th>0</th>\n",
       "      <td>17</td>\n",
       "      <td>1</td>\n",
       "      <td>20000003</td>\n",
       "      <td>1</td>\n",
       "      <td>2</td>\n",
       "      <td>1</td>\n",
       "      <td>1</td>\n",
       "      <td>3</td>\n",
       "      <td>1</td>\n",
       "      <td>95</td>\n",
       "      <td>...</td>\n",
       "      <td>1</td>\n",
       "      <td>2</td>\n",
       "      <td>2</td>\n",
       "      <td>95</td>\n",
       "      <td>3</td>\n",
       "      <td>3</td>\n",
       "      <td>95</td>\n",
       "      <td>1</td>\n",
       "      <td>90</td>\n",
       "      <td>2</td>\n",
       "    </tr>\n",
       "    <tr>\n",
       "      <th>1</th>\n",
       "      <td>29</td>\n",
       "      <td>2</td>\n",
       "      <td>20000004</td>\n",
       "      <td>3</td>\n",
       "      <td>1</td>\n",
       "      <td>1</td>\n",
       "      <td>1</td>\n",
       "      <td>14</td>\n",
       "      <td>2</td>\n",
       "      <td>95</td>\n",
       "      <td>...</td>\n",
       "      <td>1</td>\n",
       "      <td>2</td>\n",
       "      <td>1</td>\n",
       "      <td>1</td>\n",
       "      <td>3</td>\n",
       "      <td>3</td>\n",
       "      <td>1</td>\n",
       "      <td>1</td>\n",
       "      <td>2</td>\n",
       "      <td>2</td>\n",
       "    </tr>\n",
       "    <tr>\n",
       "      <th>2</th>\n",
       "      <td>47</td>\n",
       "      <td>1</td>\n",
       "      <td>20000005</td>\n",
       "      <td>1</td>\n",
       "      <td>1</td>\n",
       "      <td>1</td>\n",
       "      <td>1</td>\n",
       "      <td>1</td>\n",
       "      <td>2</td>\n",
       "      <td>95</td>\n",
       "      <td>...</td>\n",
       "      <td>1</td>\n",
       "      <td>2</td>\n",
       "      <td>2</td>\n",
       "      <td>95</td>\n",
       "      <td>95</td>\n",
       "      <td>95</td>\n",
       "      <td>95</td>\n",
       "      <td>1</td>\n",
       "      <td>90</td>\n",
       "      <td>2</td>\n",
       "    </tr>\n",
       "    <tr>\n",
       "      <th>3</th>\n",
       "      <td>28</td>\n",
       "      <td>1</td>\n",
       "      <td>20000014</td>\n",
       "      <td>3</td>\n",
       "      <td>2</td>\n",
       "      <td>1</td>\n",
       "      <td>1</td>\n",
       "      <td>15</td>\n",
       "      <td>2</td>\n",
       "      <td>95</td>\n",
       "      <td>...</td>\n",
       "      <td>2</td>\n",
       "      <td>1</td>\n",
       "      <td>2</td>\n",
       "      <td>95</td>\n",
       "      <td>3</td>\n",
       "      <td>3</td>\n",
       "      <td>95</td>\n",
       "      <td>3</td>\n",
       "      <td>2</td>\n",
       "      <td>2</td>\n",
       "    </tr>\n",
       "    <tr>\n",
       "      <th>4</th>\n",
       "      <td>55</td>\n",
       "      <td>1</td>\n",
       "      <td>20000015</td>\n",
       "      <td>3</td>\n",
       "      <td>2</td>\n",
       "      <td>2</td>\n",
       "      <td>1</td>\n",
       "      <td>16</td>\n",
       "      <td>2</td>\n",
       "      <td>95</td>\n",
       "      <td>...</td>\n",
       "      <td>2</td>\n",
       "      <td>2</td>\n",
       "      <td>1</td>\n",
       "      <td>2</td>\n",
       "      <td>3</td>\n",
       "      <td>3</td>\n",
       "      <td>95</td>\n",
       "      <td>1</td>\n",
       "      <td>3</td>\n",
       "      <td>2</td>\n",
       "    </tr>\n",
       "  </tbody>\n",
       "</table>\n",
       "<p>5 rows × 831 columns</p>\n",
       "</div>"
      ],
      "text/plain": [
       "   FIPSST  STRATUM      HHID  FORMTYPE  TOTKIDS_R  TENURE  HHLANGUAGE  \\\n",
       "0      17        1  20000003         1          2       1           1   \n",
       "1      29        2  20000004         3          1       1           1   \n",
       "2      47        1  20000005         1          1       1           1   \n",
       "3      28        1  20000014         3          2       1           1   \n",
       "4      55        1  20000015         3          2       2           1   \n",
       "\n",
       "   SC_AGE_YEARS  SC_SEX  K2Q35A_1_YEARS  ...  npm15AdIns_20  nom14TthDec_20  \\\n",
       "0             3       1              95  ...              1               2   \n",
       "1            14       2              95  ...              1               2   \n",
       "2             1       2              95  ...              1               2   \n",
       "3            15       2              95  ...              2               1   \n",
       "4            16       2              95  ...              2               2   \n",
       "\n",
       "   nom17_1CSHCN_20  nom17_2sysCSHCN_20  nom17_3ASD_20  nom17_4ADHD_20  \\\n",
       "0                2                  95              3               3   \n",
       "1                1                   1              3               3   \n",
       "2                2                  95             95              95   \n",
       "3                2                  95              3               3   \n",
       "4                1                   2              3               3   \n",
       "\n",
       "   nom18MHlth_20  nom19ChHSt_20  nom20obese_20  nom25ForgoneHC_20  \n",
       "0             95              1             90                  2  \n",
       "1              1              1              2                  2  \n",
       "2             95              1             90                  2  \n",
       "3             95              3              2                  2  \n",
       "4             95              1              3                  2  \n",
       "\n",
       "[5 rows x 831 columns]"
      ]
     },
     "execution_count": 7,
     "metadata": {},
     "output_type": "execute_result"
    }
   ],
   "source": [
    "survey_data.head()"
   ]
  },
  {
   "cell_type": "code",
   "execution_count": 133,
   "id": "636f0749",
   "metadata": {},
   "outputs": [
    {
     "data": {
      "image/png": "[encoded data removed]",
      "text/plain": [
       "<Figure size 792x576 with 1 Axes>"
      ]
     },
     "metadata": {},
     "output_type": "display_data"
    }
   ],
   "source": [
    "sns.set(rc = {'figure.figsize':(11,8)})\n",
    "sns.countplot(data=survey_data,\n",
    "              x='MOMAGE')\n",
    "plt.xlabel('Moms age')\n",
    "plt.ylabel('Frequency')\n",
    "plt.title('')\n",
    "sns.despine()\n",
    "plt.show()"
   ]
  },
  {
   "cell_type": "markdown",
   "id": "86a926f3",
   "metadata": {},
   "source": [
    "Moms age is between 18-99. The 99 value is suspicious and might be coded for missing values. So, it makes sense to remove all the rows with mom age of 99. \n"
   ]
  },
  {
   "cell_type": "code",
   "execution_count": 134,
   "id": "54d147d8",
   "metadata": {},
   "outputs": [],
   "source": [
    "survey_data = survey_data[survey_data[\"MOMAGE\"] !=99]"
   ]
  },
  {
   "cell_type": "code",
   "execution_count": 135,
   "id": "8b888a3d",
   "metadata": {},
   "outputs": [
    {
     "data": {
      "image/png": "[encoded data removed]",
      "text/plain": [
       "<Figure size 792x576 with 1 Axes>"
      ]
     },
     "metadata": {},
     "output_type": "display_data"
    }
   ],
   "source": [
    "sns.set(rc = {'figure.figsize':(11,8)})\n",
    "sns.countplot(data=survey_data,\n",
    "              x='MOMAGE')\n",
    "plt.xlabel('Moms age')\n",
    "plt.ylabel('Frequency')\n",
    "plt.title('')\n",
    "sns.despine()\n",
    "plt.show()"
   ]
  },
  {
   "cell_type": "markdown",
   "id": "2c625f16",
   "metadata": {},
   "source": [
    "It seems that there are some moms wth age under 20 years old and we are interested to see if there is any pattern in their state of residencey which is presented in the \"FIPS\" column. \n",
    "   "
   ]
  },
  {
   "cell_type": "markdown",
   "id": "96cb81c5",
   "metadata": {},
   "source": [
    "     FIPS code     name\n",
    "   -----------   -------\n",
    "       01        ALABAMA\n",
    "       02        ALASKA\n",
    "       04        ARIZONA\n",
    "       05        ARKANSAS\n",
    "       06        CALIFORNIA\n",
    "       08        COLORADO\n",
    "       09        CONNECTICUT\n",
    "       10        DELAWARE\n",
    "       11        DISTRICT OF COLUMBIA\n",
    "       12        FLORIDA\n",
    "       13        GEORGIA\n",
    "       15        HAWAII\n",
    "       16        IDAHO\n",
    "       17        ILLINOIS\n",
    "       18        INDIANA\n",
    "       19        IOWA\n",
    "       20        KANSAS\n",
    "       21        KENTUCKY\n",
    "       22        LOUISIANA\n",
    "       23        MAINE\n",
    "       24        MARYLAND\n",
    "       25        MASSACHUSETTS\n",
    "       26        MICHIGAN\n",
    "       27        MINNESOTA\n",
    "       28        MISSISSIPPI\n",
    "       29        MISSOURI\n",
    "       30        MONTANA\n",
    "       31        NEBRASKA\n",
    "       32        NEVADA\n",
    "       33        NEW HAMPSHIRE\n",
    "       34        NEW JERSEY\n",
    "       35        NEW MEXICO\n",
    "       36        NEW YORK\n",
    "       37        NORTH CAROLINA\n",
    "       38        NORTH DAKOTA\n",
    "       39        OHIO\n",
    "       40        OKLAHOMA\n",
    "       41        OREGON\n",
    "       42        PENNSYLVANIA\n",
    "       44        RHODE ISLAND\n",
    "       45        SOUTH CAROLINA\n",
    "       46        SOUTH DAKOTA\n",
    "       47        TENNESSEE\n",
    "       48        TEXAS\n",
    "       49        UTAH\n",
    "       50        VERMONT\n",
    "       51        VIRGINIA\n",
    "       53        WASHINGTON\n",
    "       54        WEST VIRGINIA\n",
    "       55        WISCONSIN\n",
    "       56        WYOMING"
   ]
  },
  {
   "cell_type": "code",
   "execution_count": 136,
   "id": "dd5dfdbd",
   "metadata": {},
   "outputs": [],
   "source": [
    "moms_under20= survey_data[survey_data[\"MOMAGE\"]<20]"
   ]
  },
  {
   "cell_type": "code",
   "execution_count": 138,
   "id": "ef4cbb88",
   "metadata": {},
   "outputs": [
    {
     "data": {
      "image/png": "[encoded data removed]",
      "text/plain": [
       "<Figure size 792x576 with 1 Axes>"
      ]
     },
     "metadata": {},
     "output_type": "display_data"
    }
   ],
   "source": [
    "sns.set(rc = {'figure.figsize':(11,8)})\n",
    "sns.countplot(data=moms_under20,\n",
    "              x='FIPSST')\n",
    "plt.xlabel('state code')\n",
    "plt.ylabel('Frequency')\n",
    "plt.title('')\n",
    "sns.despine()\n",
    "plt.show()"
   ]
  },
  {
   "cell_type": "markdown",
   "id": "e6ab9c56",
   "metadata": {},
   "source": [
    "It seems that state 41(oregon) has the most mom under age of 20.We are now interested to see if there is any relation between mom ages and kids with ADHD/ADD('ADHD_20\").\n",
    "\n",
    "VALUE LABELS ADHD_20\n",
    "1 \"Does not have condition\"\n",
    "2 \"Ever told, but does not currently have condition\"\n",
    "3 \"Currently has condition\"\n",
    "99 \"Missing\"\n",
    "95\"Children age 0-2 years\"."
   ]
  },
  {
   "cell_type": "code",
   "execution_count": 147,
   "id": "015ceef8",
   "metadata": {},
   "outputs": [
    {
     "data": {
      "text/plain": [
       "0         1\n",
       "1         1\n",
       "2        95\n",
       "3         1\n",
       "4         1\n",
       "         ..\n",
       "42772     3\n",
       "42773     1\n",
       "42774     3\n",
       "42775     1\n",
       "42776     3\n",
       "Name: ADHD_20, Length: 41851, dtype: int64"
      ]
     },
     "execution_count": 147,
     "metadata": {},
     "output_type": "execute_result"
    }
   ],
   "source": [
    "survey_data['ADHD_20']"
   ]
  },
  {
   "cell_type": "code",
   "execution_count": 8,
   "id": "20284798",
   "metadata": {},
   "outputs": [],
   "source": [
    "dfx = survey_data.iloc[:,:20]"
   ]
  },
  {
   "cell_type": "code",
   "execution_count": 148,
   "id": "03841be9",
   "metadata": {},
   "outputs": [
    {
     "data": {
      "image/png": "[encoded data removed]",
      "text/plain": [
       "<Figure size 792x576 with 1 Axes>"
      ]
     },
     "metadata": {},
     "output_type": "display_data"
    }
   ],
   "source": [
    "sns.set(rc = {'figure.figsize':(11,8)})\n",
    "sns.countplot(data=survey_data,\n",
    "              x='ADHD_20')\n",
    "plt.xlabel('ADHD/ADD')\n",
    "plt.ylabel('Frequency')\n",
    "plt.title('')\n",
    "sns.despine()\n",
    "plt.show()"
   ]
  },
  {
   "cell_type": "code",
   "execution_count": 170,
   "id": "9e1d25ba",
   "metadata": {},
   "outputs": [
    {
     "data": {
      "image/png": "[encoded data removed]",
      "text/plain": [
       "<Figure size 792x576 with 1 Axes>"
      ]
     },
     "metadata": {},
     "output_type": "display_data"
    }
   ],
   "source": [
    "#define data\n",
    "#data = [15, 25, 25, 30, 5]\n",
    "#labels = ['Group 1', 'Group 2', 'Group 3', 'Group 4', 'Group 5']\n",
    "\n",
    "#define Seaborn color palette to use\n",
    "#colors = sns.color_palette('bright')[0:5]\n",
    "\n",
    "\n",
    "#create pie chart\n",
    "#plt.pie(data, labels = labels, colors = colors, autopct='%.0f%%')\n",
    "#plt.show()\n",
    "\n",
    "#sns.set(rc = {'figure.figsize':(11,8)})\n",
    "#sns.(data=survey_data,\n",
    "              #x='ADHD_20')\n",
    "#plt.xlabel('ADHD/ADD')\n",
    "#plt.ylabel('Frequency')\n",
    "#plt.title('')\n",
    "#sns.despine()\n",
    "#plt.show()\n",
    "data = list(survey_data[\"ADHD_20\"].value_counts()/len(survey_data[\"ADHD_20\"])*100)\n",
    "labels= [\"Does not have condition\",\"Ever told but does not currently have condition\", \"Currently has condition\",\"Missing\",\n",
    "\"Children age 0-2 years\"]\n",
    "\n",
    "colors = sns.color_palette('bright')[0:5]\n",
    "\n",
    "\n",
    "#create pie chart\n",
    "plt.pie(data, labels = labels, colors = colors, autopct='%.0f%%')\n",
    "plt.show()"
   ]
  },
  {
   "cell_type": "code",
   "execution_count": null,
   "id": "96124ef3",
   "metadata": {},
   "outputs": [],
   "source": []
  },
  {
   "cell_type": "code",
   "execution_count": 164,
   "id": "5552d080",
   "metadata": {},
   "outputs": [
    {
     "data": {
      "image/png": "[encoded data removed]",
      "text/plain": [
       "<Figure size 792x576 with 1 Axes>"
      ]
     },
     "metadata": {},
     "output_type": "display_data"
    }
   ],
   "source": [
    "sns.set(rc = {'figure.figsize':(11,8)})\n",
    "sns.countplot(data=survey_data,\n",
    "              x='BIRTH_MO')\n",
    "plt.xlabel('month')\n",
    "plt.ylabel('Frequency')\n",
    "plt.title('')\n",
    "sns.despine()\n",
    "plt.show()"
   ]
  },
  {
   "cell_type": "markdown",
   "id": "554fb4eb",
   "metadata": {},
   "source": [
    "Kids who were born in month of october and November have lower rate of ADHD."
   ]
  },
  {
   "cell_type": "code",
   "execution_count": 162,
   "id": "c2713aff",
   "metadata": {},
   "outputs": [
    {
     "data": {
      "image/png": "[encoded data removed]",
      "text/plain": [
       "<Figure size 792x576 with 1 Axes>"
      ]
     },
     "metadata": {},
     "output_type": "display_data"
    }
   ],
   "source": [
    "with_ADHD=survey_data[survey_data[\"ADHD_20\"]==3]\n",
    "sns.set(rc = {'figure.figsize':(11,8)})\n",
    "sns.countplot(data=with_ADHD,\n",
    "              x='BIRTH_MO')\n",
    "plt.xlabel('month')\n",
    "plt.ylabel('Frequency')\n",
    "plt.title('')\n",
    "sns.despine()\n",
    "plt.show()"
   ]
  },
  {
   "cell_type": "code",
   "execution_count": 9,
   "id": "b0cdf15e",
   "metadata": {},
   "outputs": [],
   "source": [
    "dfy= survey_data.iloc[:,113:117]"
   ]
  },
  {
   "cell_type": "code",
   "execution_count": 10,
   "id": "c6feb411",
   "metadata": {},
   "outputs": [
    {
     "data": {
      "text/html": [
       "<div>\n",
       "<style scoped>\n",
       "    .dataframe tbody tr th:only-of-type {\n",
       "        vertical-align: middle;\n",
       "    }\n",
       "\n",
       "    .dataframe tbody tr th {\n",
       "        vertical-align: top;\n",
       "    }\n",
       "\n",
       "    .dataframe thead th {\n",
       "        text-align: right;\n",
       "    }\n",
       "</style>\n",
       "<table border=\"1\" class=\"dataframe\">\n",
       "  <thead>\n",
       "    <tr style=\"text-align: right;\">\n",
       "      <th></th>\n",
       "      <th>FIPSST</th>\n",
       "      <th>STRATUM</th>\n",
       "      <th>HHID</th>\n",
       "      <th>FORMTYPE</th>\n",
       "      <th>TOTKIDS_R</th>\n",
       "      <th>TENURE</th>\n",
       "      <th>HHLANGUAGE</th>\n",
       "      <th>SC_AGE_YEARS</th>\n",
       "      <th>SC_SEX</th>\n",
       "      <th>K2Q35A_1_YEARS</th>\n",
       "      <th>...</th>\n",
       "      <th>K6Q42R_NEVER</th>\n",
       "      <th>K6Q43R_NEVER</th>\n",
       "      <th>K6Q13A</th>\n",
       "      <th>K6Q13B</th>\n",
       "      <th>K6Q14A</th>\n",
       "      <th>K6Q14B</th>\n",
       "      <th>K2Q31A</th>\n",
       "      <th>K2Q31B</th>\n",
       "      <th>K2Q31D</th>\n",
       "      <th>ADDTREAT</th>\n",
       "    </tr>\n",
       "  </thead>\n",
       "  <tbody>\n",
       "    <tr>\n",
       "      <th>0</th>\n",
       "      <td>17</td>\n",
       "      <td>1</td>\n",
       "      <td>20000003</td>\n",
       "      <td>1</td>\n",
       "      <td>2</td>\n",
       "      <td>1</td>\n",
       "      <td>1</td>\n",
       "      <td>3</td>\n",
       "      <td>1</td>\n",
       "      <td>95</td>\n",
       "      <td>...</td>\n",
       "      <td>1</td>\n",
       "      <td>2</td>\n",
       "      <td>95</td>\n",
       "      <td>95</td>\n",
       "      <td>95</td>\n",
       "      <td>95</td>\n",
       "      <td>2</td>\n",
       "      <td>95</td>\n",
       "      <td>95</td>\n",
       "      <td>95</td>\n",
       "    </tr>\n",
       "    <tr>\n",
       "      <th>1</th>\n",
       "      <td>29</td>\n",
       "      <td>2</td>\n",
       "      <td>20000004</td>\n",
       "      <td>3</td>\n",
       "      <td>1</td>\n",
       "      <td>1</td>\n",
       "      <td>1</td>\n",
       "      <td>14</td>\n",
       "      <td>2</td>\n",
       "      <td>95</td>\n",
       "      <td>...</td>\n",
       "      <td>90</td>\n",
       "      <td>90</td>\n",
       "      <td>90</td>\n",
       "      <td>90</td>\n",
       "      <td>90</td>\n",
       "      <td>90</td>\n",
       "      <td>2</td>\n",
       "      <td>95</td>\n",
       "      <td>95</td>\n",
       "      <td>95</td>\n",
       "    </tr>\n",
       "    <tr>\n",
       "      <th>2</th>\n",
       "      <td>47</td>\n",
       "      <td>1</td>\n",
       "      <td>20000005</td>\n",
       "      <td>1</td>\n",
       "      <td>1</td>\n",
       "      <td>1</td>\n",
       "      <td>1</td>\n",
       "      <td>1</td>\n",
       "      <td>2</td>\n",
       "      <td>95</td>\n",
       "      <td>...</td>\n",
       "      <td>2</td>\n",
       "      <td>2</td>\n",
       "      <td>95</td>\n",
       "      <td>95</td>\n",
       "      <td>95</td>\n",
       "      <td>95</td>\n",
       "      <td>2</td>\n",
       "      <td>95</td>\n",
       "      <td>95</td>\n",
       "      <td>95</td>\n",
       "    </tr>\n",
       "    <tr>\n",
       "      <th>3</th>\n",
       "      <td>28</td>\n",
       "      <td>1</td>\n",
       "      <td>20000014</td>\n",
       "      <td>3</td>\n",
       "      <td>2</td>\n",
       "      <td>1</td>\n",
       "      <td>1</td>\n",
       "      <td>15</td>\n",
       "      <td>2</td>\n",
       "      <td>95</td>\n",
       "      <td>...</td>\n",
       "      <td>90</td>\n",
       "      <td>90</td>\n",
       "      <td>90</td>\n",
       "      <td>90</td>\n",
       "      <td>90</td>\n",
       "      <td>90</td>\n",
       "      <td>2</td>\n",
       "      <td>95</td>\n",
       "      <td>95</td>\n",
       "      <td>95</td>\n",
       "    </tr>\n",
       "    <tr>\n",
       "      <th>4</th>\n",
       "      <td>55</td>\n",
       "      <td>1</td>\n",
       "      <td>20000015</td>\n",
       "      <td>3</td>\n",
       "      <td>2</td>\n",
       "      <td>2</td>\n",
       "      <td>1</td>\n",
       "      <td>16</td>\n",
       "      <td>2</td>\n",
       "      <td>95</td>\n",
       "      <td>...</td>\n",
       "      <td>90</td>\n",
       "      <td>90</td>\n",
       "      <td>90</td>\n",
       "      <td>90</td>\n",
       "      <td>90</td>\n",
       "      <td>90</td>\n",
       "      <td>2</td>\n",
       "      <td>95</td>\n",
       "      <td>95</td>\n",
       "      <td>95</td>\n",
       "    </tr>\n",
       "  </tbody>\n",
       "</table>\n",
       "<p>5 rows × 24 columns</p>\n",
       "</div>"
      ],
      "text/plain": [
       "   FIPSST  STRATUM      HHID  FORMTYPE  TOTKIDS_R  TENURE  HHLANGUAGE  \\\n",
       "0      17        1  20000003         1          2       1           1   \n",
       "1      29        2  20000004         3          1       1           1   \n",
       "2      47        1  20000005         1          1       1           1   \n",
       "3      28        1  20000014         3          2       1           1   \n",
       "4      55        1  20000015         3          2       2           1   \n",
       "\n",
       "   SC_AGE_YEARS  SC_SEX  K2Q35A_1_YEARS  ...  K6Q42R_NEVER  K6Q43R_NEVER  \\\n",
       "0             3       1              95  ...             1             2   \n",
       "1            14       2              95  ...            90            90   \n",
       "2             1       2              95  ...             2             2   \n",
       "3            15       2              95  ...            90            90   \n",
       "4            16       2              95  ...            90            90   \n",
       "\n",
       "   K6Q13A  K6Q13B  K6Q14A  K6Q14B  K2Q31A  K2Q31B  K2Q31D  ADDTREAT  \n",
       "0      95      95      95      95       2      95      95        95  \n",
       "1      90      90      90      90       2      95      95        95  \n",
       "2      95      95      95      95       2      95      95        95  \n",
       "3      90      90      90      90       2      95      95        95  \n",
       "4      90      90      90      90       2      95      95        95  \n",
       "\n",
       "[5 rows x 24 columns]"
      ]
     },
     "execution_count": 10,
     "metadata": {},
     "output_type": "execute_result"
    }
   ],
   "source": [
    "tot = pd.concat([dfx, dfy], axis=1)\n",
    "tot.head()"
   ]
  },
  {
   "cell_type": "code",
   "execution_count": 11,
   "id": "79d6e45d",
   "metadata": {},
   "outputs": [
    {
     "data": {
      "text/html": [
       "<div>\n",
       "<style scoped>\n",
       "    .dataframe tbody tr th:only-of-type {\n",
       "        vertical-align: middle;\n",
       "    }\n",
       "\n",
       "    .dataframe tbody tr th {\n",
       "        vertical-align: top;\n",
       "    }\n",
       "\n",
       "    .dataframe thead th {\n",
       "        text-align: right;\n",
       "    }\n",
       "</style>\n",
       "<table border=\"1\" class=\"dataframe\">\n",
       "  <thead>\n",
       "    <tr style=\"text-align: right;\">\n",
       "      <th></th>\n",
       "      <th>count</th>\n",
       "      <th>%</th>\n",
       "    </tr>\n",
       "  </thead>\n",
       "  <tbody>\n",
       "    <tr>\n",
       "      <th>FIPSST</th>\n",
       "      <td>0</td>\n",
       "      <td>0.0</td>\n",
       "    </tr>\n",
       "    <tr>\n",
       "      <th>STRATUM</th>\n",
       "      <td>0</td>\n",
       "      <td>0.0</td>\n",
       "    </tr>\n",
       "    <tr>\n",
       "      <th>K2Q31D</th>\n",
       "      <td>0</td>\n",
       "      <td>0.0</td>\n",
       "    </tr>\n",
       "    <tr>\n",
       "      <th>K2Q31B</th>\n",
       "      <td>0</td>\n",
       "      <td>0.0</td>\n",
       "    </tr>\n",
       "    <tr>\n",
       "      <th>K2Q31A</th>\n",
       "      <td>0</td>\n",
       "      <td>0.0</td>\n",
       "    </tr>\n",
       "    <tr>\n",
       "      <th>K6Q14B</th>\n",
       "      <td>0</td>\n",
       "      <td>0.0</td>\n",
       "    </tr>\n",
       "    <tr>\n",
       "      <th>K6Q14A</th>\n",
       "      <td>0</td>\n",
       "      <td>0.0</td>\n",
       "    </tr>\n",
       "    <tr>\n",
       "      <th>K6Q13B</th>\n",
       "      <td>0</td>\n",
       "      <td>0.0</td>\n",
       "    </tr>\n",
       "    <tr>\n",
       "      <th>K6Q13A</th>\n",
       "      <td>0</td>\n",
       "      <td>0.0</td>\n",
       "    </tr>\n",
       "    <tr>\n",
       "      <th>K6Q43R_NEVER</th>\n",
       "      <td>0</td>\n",
       "      <td>0.0</td>\n",
       "    </tr>\n",
       "    <tr>\n",
       "      <th>K6Q42R_NEVER</th>\n",
       "      <td>0</td>\n",
       "      <td>0.0</td>\n",
       "    </tr>\n",
       "    <tr>\n",
       "      <th>K6Q41R_STILL</th>\n",
       "      <td>0</td>\n",
       "      <td>0.0</td>\n",
       "    </tr>\n",
       "    <tr>\n",
       "      <th>MOMAGE</th>\n",
       "      <td>0</td>\n",
       "      <td>0.0</td>\n",
       "    </tr>\n",
       "    <tr>\n",
       "      <th>BIRTH_YR</th>\n",
       "      <td>0</td>\n",
       "      <td>0.0</td>\n",
       "    </tr>\n",
       "    <tr>\n",
       "      <th>BIRTH_MO</th>\n",
       "      <td>0</td>\n",
       "      <td>0.0</td>\n",
       "    </tr>\n",
       "    <tr>\n",
       "      <th>K2Q35A_1_YEARS</th>\n",
       "      <td>0</td>\n",
       "      <td>0.0</td>\n",
       "    </tr>\n",
       "    <tr>\n",
       "      <th>SC_SEX</th>\n",
       "      <td>0</td>\n",
       "      <td>0.0</td>\n",
       "    </tr>\n",
       "    <tr>\n",
       "      <th>SC_AGE_YEARS</th>\n",
       "      <td>0</td>\n",
       "      <td>0.0</td>\n",
       "    </tr>\n",
       "    <tr>\n",
       "      <th>HHLANGUAGE</th>\n",
       "      <td>0</td>\n",
       "      <td>0.0</td>\n",
       "    </tr>\n",
       "    <tr>\n",
       "      <th>TENURE</th>\n",
       "      <td>0</td>\n",
       "      <td>0.0</td>\n",
       "    </tr>\n",
       "    <tr>\n",
       "      <th>TOTKIDS_R</th>\n",
       "      <td>0</td>\n",
       "      <td>0.0</td>\n",
       "    </tr>\n",
       "    <tr>\n",
       "      <th>FORMTYPE</th>\n",
       "      <td>0</td>\n",
       "      <td>0.0</td>\n",
       "    </tr>\n",
       "    <tr>\n",
       "      <th>HHID</th>\n",
       "      <td>0</td>\n",
       "      <td>0.0</td>\n",
       "    </tr>\n",
       "    <tr>\n",
       "      <th>ADDTREAT</th>\n",
       "      <td>0</td>\n",
       "      <td>0.0</td>\n",
       "    </tr>\n",
       "  </tbody>\n",
       "</table>\n",
       "</div>"
      ],
      "text/plain": [
       "                count    %\n",
       "FIPSST              0  0.0\n",
       "STRATUM             0  0.0\n",
       "K2Q31D              0  0.0\n",
       "K2Q31B              0  0.0\n",
       "K2Q31A              0  0.0\n",
       "K6Q14B              0  0.0\n",
       "K6Q14A              0  0.0\n",
       "K6Q13B              0  0.0\n",
       "K6Q13A              0  0.0\n",
       "K6Q43R_NEVER        0  0.0\n",
       "K6Q42R_NEVER        0  0.0\n",
       "K6Q41R_STILL        0  0.0\n",
       "MOMAGE              0  0.0\n",
       "BIRTH_YR            0  0.0\n",
       "BIRTH_MO            0  0.0\n",
       "K2Q35A_1_YEARS      0  0.0\n",
       "SC_SEX              0  0.0\n",
       "SC_AGE_YEARS        0  0.0\n",
       "HHLANGUAGE          0  0.0\n",
       "TENURE              0  0.0\n",
       "TOTKIDS_R           0  0.0\n",
       "FORMTYPE            0  0.0\n",
       "HHID                0  0.0\n",
       "ADDTREAT            0  0.0"
      ]
     },
     "execution_count": 11,
     "metadata": {},
     "output_type": "execute_result"
    }
   ],
   "source": [
    "missing = pd.concat([tot.isnull().sum(), 100 * tot.isnull().mean()], axis=1)\n",
    "missing.columns=['count', '%']\n",
    "missing.sort_values(by='count',ascending=False)"
   ]
  },
  {
   "cell_type": "code",
   "execution_count": 12,
   "id": "b7e4b7d5",
   "metadata": {},
   "outputs": [
    {
     "name": "stdout",
     "output_type": "stream",
     "text": [
      "<class 'pandas.core.frame.DataFrame'>\n",
      "RangeIndex: 42777 entries, 0 to 42776\n",
      "Data columns (total 24 columns):\n",
      " #   Column          Non-Null Count  Dtype\n",
      "---  ------          --------------  -----\n",
      " 0   FIPSST          42777 non-null  int64\n",
      " 1   STRATUM         42777 non-null  int64\n",
      " 2   HHID            42777 non-null  int64\n",
      " 3   FORMTYPE        42777 non-null  int64\n",
      " 4   TOTKIDS_R       42777 non-null  int64\n",
      " 5   TENURE          42777 non-null  int64\n",
      " 6   HHLANGUAGE      42777 non-null  int64\n",
      " 7   SC_AGE_YEARS    42777 non-null  int64\n",
      " 8   SC_SEX          42777 non-null  int64\n",
      " 9   K2Q35A_1_YEARS  42777 non-null  int64\n",
      " 10  BIRTH_MO        42777 non-null  int64\n",
      " 11  BIRTH_YR        42777 non-null  int64\n",
      " 12  MOMAGE          42777 non-null  int64\n",
      " 13  K6Q41R_STILL    42777 non-null  int64\n",
      " 14  K6Q42R_NEVER    42777 non-null  int64\n",
      " 15  K6Q43R_NEVER    42777 non-null  int64\n",
      " 16  K6Q13A          42777 non-null  int64\n",
      " 17  K6Q13B          42777 non-null  int64\n",
      " 18  K6Q14A          42777 non-null  int64\n",
      " 19  K6Q14B          42777 non-null  int64\n",
      " 20  K2Q31A          42777 non-null  int64\n",
      " 21  K2Q31B          42777 non-null  int64\n",
      " 22  K2Q31D          42777 non-null  int64\n",
      " 23  ADDTREAT        42777 non-null  int64\n",
      "dtypes: int64(24)\n",
      "memory usage: 7.8 MB\n"
     ]
    }
   ],
   "source": [
    "tot.info()"
   ]
  },
  {
   "cell_type": "code",
   "execution_count": 13,
   "id": "67b61ecf",
   "metadata": {},
   "outputs": [
    {
     "data": {
      "text/plain": [
       "<AxesSubplot:>"
      ]
     },
     "execution_count": 13,
     "metadata": {},
     "output_type": "execute_result"
    },
    {
     "data": {
      "image/png": "[encoded data removed]",
      "text/plain": [
       "<Figure size 432x288 with 1 Axes>"
      ]
     },
     "metadata": {
      "needs_background": "light"
     },
     "output_type": "display_data"
    }
   ],
   "source": [
    "tot[\"HHID\"].hist()"
   ]
  },
  {
   "cell_type": "code",
   "execution_count": 14,
   "id": "d906025b",
   "metadata": {},
   "outputs": [
    {
     "data": {
      "text/plain": [
       "1    30205\n",
       "3     7823\n",
       "2     4349\n",
       "4      400\n",
       "Name: TENURE, dtype: int64"
      ]
     },
     "execution_count": 14,
     "metadata": {},
     "output_type": "execute_result"
    }
   ],
   "source": [
    "#TENURE (“Is this house, apartment, or mobile home”)\n",
    "tot['TENURE'].value_counts()"
   ]
  },
  {
   "cell_type": "code",
   "execution_count": 15,
   "id": "4673f49c",
   "metadata": {},
   "outputs": [
    {
     "data": {
      "text/plain": [
       "1     39480\n",
       "2      1605\n",
       "3      1538\n",
       "99      154\n",
       "Name: HHLANGUAGE, dtype: int64"
      ]
     },
     "execution_count": 15,
     "metadata": {},
     "output_type": "execute_result"
    }
   ],
   "source": [
    "#1 \"Hispanic children, non-English PHH language\"\n",
    "#2 \"Hispanic children, English PHH language\"\n",
    "#3 \"Non-Hispanic child\"\n",
    "#99 \"Missing to any\".\n",
    "tot['HHLANGUAGE'].value_counts()"
   ]
  },
  {
   "cell_type": "code",
   "execution_count": 16,
   "id": "a72ca0fd",
   "metadata": {},
   "outputs": [],
   "source": [
    "#imputing the 99 values by mode of the column\n",
    "tot[tot['HHLANGUAGE']==99]= statistics.mode(tot['HHLANGUAGE'])"
   ]
  },
  {
   "cell_type": "code",
   "execution_count": 17,
   "id": "7c7704e2",
   "metadata": {},
   "outputs": [
    {
     "data": {
      "text/plain": [
       "1    39634\n",
       "2     1605\n",
       "3     1538\n",
       "Name: HHLANGUAGE, dtype: int64"
      ]
     },
     "execution_count": 17,
     "metadata": {},
     "output_type": "execute_result"
    }
   ],
   "source": [
    "tot['HHLANGUAGE'].value_counts()"
   ]
  },
  {
   "cell_type": "code",
   "execution_count": 18,
   "id": "6ce5c0cb",
   "metadata": {},
   "outputs": [
    {
     "data": {
      "text/plain": [
       "17    3286\n",
       "16    3285\n",
       "15    3003\n",
       "14    2732\n",
       "13    2683\n",
       "12    2474\n",
       "11    2408\n",
       "2     2329\n",
       "10    2290\n",
       "5     2272\n",
       "3     2241\n",
       "4     2235\n",
       "9     2146\n",
       "7     2126\n",
       "8     2091\n",
       "6     1993\n",
       "1     1793\n",
       "0     1390\n",
       "Name: SC_AGE_YEARS, dtype: int64"
      ]
     },
     "execution_count": 18,
     "metadata": {},
     "output_type": "execute_result"
    }
   ],
   "source": [
    "tot[\"SC_AGE_YEARS\"].value_counts()"
   ]
  },
  {
   "cell_type": "code",
   "execution_count": 19,
   "id": "4c13ad0d",
   "metadata": {},
   "outputs": [
    {
     "data": {
      "text/plain": [
       "95    41194\n",
       "99      273\n",
       "2       246\n",
       "3       231\n",
       "1       192\n",
       "4       135\n",
       "5       118\n",
       "8        67\n",
       "7        66\n",
       "6        66\n",
       "9        51\n",
       "10       35\n",
       "12       29\n",
       "13       28\n",
       "11       24\n",
       "15       22\n",
       "Name: K2Q35A_1_YEARS, dtype: int64"
      ]
     },
     "execution_count": 19,
     "metadata": {},
     "output_type": "execute_result"
    }
   ],
   "source": [
    "#Autism ASD - First Told Age in Years\n",
    "tot[\"K2Q35A_1_YEARS\"].value_counts()"
   ]
  },
  {
   "cell_type": "code",
   "execution_count": 20,
   "id": "b6ba0c09",
   "metadata": {},
   "outputs": [
    {
     "data": {
      "text/plain": [
       "95"
      ]
     },
     "execution_count": 20,
     "metadata": {},
     "output_type": "execute_result"
    }
   ],
   "source": [
    "statistics.mode(tot[\"K2Q35A_1_YEARS\"])\n"
   ]
  },
  {
   "cell_type": "code",
   "execution_count": 21,
   "id": "777746d6",
   "metadata": {},
   "outputs": [],
   "source": [
    "#Droping the rows with value of 99\n",
    "tot = tot[tot[\"K2Q35A_1_YEARS\"] !=99]"
   ]
  },
  {
   "cell_type": "code",
   "execution_count": 22,
   "id": "b2e014a2",
   "metadata": {},
   "outputs": [
    {
     "data": {
      "text/plain": [
       "8     3723\n",
       "9     3708\n",
       "10    3633\n",
       "6     3630\n",
       "3     3579\n",
       "5     3577\n",
       "1     3520\n",
       "7     3515\n",
       "12    3514\n",
       "4     3424\n",
       "11    3322\n",
       "2     3101\n",
       "99     258\n",
       "Name: BIRTH_MO, dtype: int64"
      ]
     },
     "execution_count": 22,
     "metadata": {},
     "output_type": "execute_result"
    }
   ],
   "source": [
    "#Birth Month\n",
    "tot[\"BIRTH_MO\"].value_counts()"
   ]
  },
  {
   "cell_type": "code",
   "execution_count": 23,
   "id": "304625b9",
   "metadata": {},
   "outputs": [
    {
     "data": {
      "text/plain": [
       "7.0"
      ]
     },
     "execution_count": 23,
     "metadata": {},
     "output_type": "execute_result"
    }
   ],
   "source": [
    "statistics.median(tot[\"BIRTH_MO\"])"
   ]
  },
  {
   "cell_type": "code",
   "execution_count": 24,
   "id": "27eff548",
   "metadata": {},
   "outputs": [],
   "source": [
    "#imputing missing values by median\n",
    "tot[tot['BIRTH_MO']==99]= statistics.median(tot['BIRTH_MO'])"
   ]
  },
  {
   "cell_type": "code",
   "execution_count": 25,
   "id": "d102eb7e",
   "metadata": {},
   "outputs": [
    {
     "data": {
      "text/plain": [
       "2003    3170\n",
       "2004    3080\n",
       "2005    2787\n",
       "2006    2653\n",
       "2007    2574\n",
       "2008    2368\n",
       "2018    2285\n",
       "2009    2262\n",
       "2015    2259\n",
       "2016    2249\n",
       "2010    2205\n",
       "2017    2153\n",
       "2011    2148\n",
       "2014    2079\n",
       "2013    2065\n",
       "2012    2036\n",
       "2019    1556\n",
       "2002    1063\n",
       "2020     947\n",
       "7        258\n",
       "1        154\n",
       "99       153\n",
       "Name: BIRTH_YR, dtype: int64"
      ]
     },
     "execution_count": 25,
     "metadata": {},
     "output_type": "execute_result"
    }
   ],
   "source": [
    "#Birth Year\n",
    "tot[\"BIRTH_YR\"].value_counts()"
   ]
  },
  {
   "cell_type": "code",
   "execution_count": 26,
   "id": "7676298b",
   "metadata": {},
   "outputs": [],
   "source": [
    "tot = tot[(tot[\"BIRTH_YR\"] !=99) & (tot[\"BIRTH_YR\"] !=7) &(tot[\"BIRTH_YR\"] !=1)]"
   ]
  },
  {
   "cell_type": "code",
   "execution_count": 29,
   "id": "8dcd2447",
   "metadata": {},
   "outputs": [
    {
     "name": "stdout",
     "output_type": "stream",
     "text": [
      "<class 'pandas.core.frame.DataFrame'>\n",
      "Int64Index: 41231 entries, 0 to 42776\n",
      "Data columns (total 24 columns):\n",
      " #   Column          Non-Null Count  Dtype\n",
      "---  ------          --------------  -----\n",
      " 0   FIPSST          41231 non-null  int64\n",
      " 1   STRATUM         41231 non-null  int64\n",
      " 2   HHID            41231 non-null  int64\n",
      " 3   FORMTYPE        41231 non-null  int64\n",
      " 4   TOTKIDS_R       41231 non-null  int64\n",
      " 5   TENURE          41231 non-null  int64\n",
      " 6   HHLANGUAGE      41231 non-null  int64\n",
      " 7   SC_AGE_YEARS    41231 non-null  int64\n",
      " 8   SC_SEX          41231 non-null  int64\n",
      " 9   K2Q35A_1_YEARS  41231 non-null  int64\n",
      " 10  BIRTH_MO        41231 non-null  int64\n",
      " 11  BIRTH_YR        41231 non-null  int64\n",
      " 12  MOMAGE          41231 non-null  int64\n",
      " 13  K6Q41R_STILL    41231 non-null  int64\n",
      " 14  K6Q42R_NEVER    41231 non-null  int64\n",
      " 15  K6Q43R_NEVER    41231 non-null  int64\n",
      " 16  K6Q13A          41231 non-null  int64\n",
      " 17  K6Q13B          41231 non-null  int64\n",
      " 18  K6Q14A          41231 non-null  int64\n",
      " 19  K6Q14B          41231 non-null  int64\n",
      " 20  K2Q31A          41231 non-null  int64\n",
      " 21  K2Q31B          41231 non-null  int64\n",
      " 22  K2Q31D          41231 non-null  int64\n",
      " 23  ADDTREAT        41231 non-null  int64\n",
      "dtypes: int64(24)\n",
      "memory usage: 7.9 MB\n"
     ]
    }
   ],
   "source": [
    "tot.info()"
   ]
  },
  {
   "cell_type": "code",
   "execution_count": 30,
   "id": "1872b2f5",
   "metadata": {},
   "outputs": [
    {
     "data": {
      "text/plain": [
       "90    29408\n",
       "2      8613\n",
       "95     1655\n",
       "1      1264\n",
       "99      291\n",
       "Name: K6Q41R_STILL, dtype: int64"
      ]
     },
     "execution_count": 30,
     "metadata": {},
     "output_type": "execute_result"
    }
   ],
   "source": [
    "#Stopped Breastfeeding - Still Breastfeeding\n",
    "#1 \"Less than 6 months\"\n",
    "#2 \"6 months or longer, or still breastfeeding\"\n",
    "#95 \"Never breastfeed\"\n",
    "#99 \"Missing\"\n",
    "#90 \"Children age 6-17 years\"\n",
    "tot[\"K6Q41R_STILL\"].value_counts()"
   ]
  },
  {
   "cell_type": "code",
   "execution_count": 31,
   "id": "a4e94483",
   "metadata": {},
   "outputs": [
    {
     "data": {
      "text/plain": [
       "90"
      ]
     },
     "execution_count": 31,
     "metadata": {},
     "output_type": "execute_result"
    }
   ],
   "source": [
    "statistics.median(tot[\"K6Q41R_STILL\"])"
   ]
  },
  {
   "cell_type": "code",
   "execution_count": 32,
   "id": "e6312752",
   "metadata": {},
   "outputs": [],
   "source": [
    "#Computing missing data by median/mode\n",
    "tot[tot['K6Q41R_STILL']==99]= statistics.median(tot[\"K6Q41R_STILL\"])"
   ]
  },
  {
   "cell_type": "code",
   "execution_count": 33,
   "id": "39ae767f",
   "metadata": {},
   "outputs": [
    {
     "data": {
      "text/plain": [
       "90    29699\n",
       "2      8613\n",
       "95     1655\n",
       "1      1264\n",
       "Name: K6Q41R_STILL, dtype: int64"
      ]
     },
     "execution_count": 33,
     "metadata": {},
     "output_type": "execute_result"
    }
   ],
   "source": [
    "#90 \"Children age 6-17 years\"\n",
    "tot[\"K6Q41R_STILL\"].value_counts()"
   ]
  },
  {
   "cell_type": "code",
   "execution_count": null,
   "id": "9eae3603",
   "metadata": {},
   "outputs": [],
   "source": []
  },
  {
   "cell_type": "code",
   "execution_count": 34,
   "id": "5ee1f562",
   "metadata": {},
   "outputs": [
    {
     "data": {
      "text/plain": [
       "90    29699\n",
       "2      8341\n",
       "1      3157\n",
       "99       34\n",
       "Name: K6Q42R_NEVER, dtype: int64"
      ]
     },
     "execution_count": 34,
     "metadata": {},
     "output_type": "execute_result"
    }
   ],
   "source": [
    "#Fed formula earlier than 6 months, after 6 months or never\n",
    "#1 \"Earlier than 6 months\"\n",
    "#2 \"6 months or after or never fed formula\"\n",
    "#99 \"Missing\"\n",
    "#90 \"Children age 6-17 years\".\n",
    "tot[\"K6Q42R_NEVER\"].value_counts()"
   ]
  },
  {
   "cell_type": "code",
   "execution_count": 35,
   "id": "1bc5c7e8",
   "metadata": {},
   "outputs": [
    {
     "data": {
      "text/plain": [
       "90"
      ]
     },
     "execution_count": 35,
     "metadata": {},
     "output_type": "execute_result"
    }
   ],
   "source": [
    "statistics.median(tot[\"K6Q42R_NEVER\"])"
   ]
  },
  {
   "cell_type": "code",
   "execution_count": 36,
   "id": "365c42f3",
   "metadata": {},
   "outputs": [],
   "source": [
    "tot[tot['K6Q42R_NEVER']==99]= statistics.median(tot[\"K6Q42R_NEVER\"])"
   ]
  },
  {
   "cell_type": "code",
   "execution_count": 37,
   "id": "865ea37b",
   "metadata": {},
   "outputs": [
    {
     "data": {
      "text/plain": [
       "90    29733\n",
       "2     10593\n",
       "1       847\n",
       "99       58\n",
       "Name: K6Q43R_NEVER, dtype: int64"
      ]
     },
     "execution_count": 37,
     "metadata": {},
     "output_type": "execute_result"
    }
   ],
   "source": [
    "#Fed other food earlier than 6 months, after 6 months or never\n",
    "#1 \"Earlier than 6 months\"\n",
    "#2 \"6 months or after or never fed other food\"\n",
    "#99 \"Missing\"\n",
    "#90 \"Children age 6-17 years\".\n",
    "tot[\"K6Q43R_NEVER\"].value_counts()"
   ]
  },
  {
   "cell_type": "code",
   "execution_count": 38,
   "id": "e9adc561",
   "metadata": {},
   "outputs": [
    {
     "data": {
      "text/plain": [
       "90"
      ]
     },
     "execution_count": 38,
     "metadata": {},
     "output_type": "execute_result"
    }
   ],
   "source": [
    "statistics.median(tot[\"K6Q43R_NEVER\"])"
   ]
  },
  {
   "cell_type": "code",
   "execution_count": 39,
   "id": "2de671d5",
   "metadata": {},
   "outputs": [],
   "source": [
    "tot[tot['K6Q43R_NEVER']==99]= statistics.median(tot[\"K6Q43R_NEVER\"])"
   ]
  },
  {
   "cell_type": "code",
   "execution_count": 40,
   "id": "fe0bcb61",
   "metadata": {},
   "outputs": [
    {
     "data": {
      "text/plain": [
       "90    29791\n",
       "2     10593\n",
       "1       847\n",
       "Name: K6Q43R_NEVER, dtype: int64"
      ]
     },
     "execution_count": 40,
     "metadata": {},
     "output_type": "execute_result"
    }
   ],
   "source": [
    "tot[\"K6Q43R_NEVER\"].value_counts()"
   ]
  },
  {
   "cell_type": "code",
   "execution_count": 41,
   "id": "7b1ecf23",
   "metadata": {},
   "outputs": [
    {
     "data": {
      "text/plain": [
       "90    29791\n",
       "95    10555\n",
       "1       825\n",
       "2        40\n",
       "99       20\n",
       "Name: K6Q13A, dtype: int64"
      ]
     },
     "execution_count": 41,
     "metadata": {},
     "output_type": "execute_result"
    }
   ],
   "source": [
    "#Questionnaire Covers Talks or Speech Sounds Concerns\n",
    "tot[\"K6Q13A\"].value_counts()"
   ]
  },
  {
   "cell_type": "markdown",
   "id": "d6d2abeb",
   "metadata": {},
   "source": [
    "#Parent respondents for all children between 9 months and 5 years old were asked the following question: \n",
    "\"During the past 12 months, did a doctor or other health care provider have you or another caregiver fill out a questionnaire about specific concerns or observations you may have about this child’s development, communication, or social behaviors?\" (K6Q12).\n",
    "If the response to K6Q12 was “Yes”, parents were asked if the questionnaire covered language or social development (K6Q13 and K6Q13A, respectively, for ages 9-23 months, and K6Q14A and K6Q14B for ages 2-5 years). The measure is considered missing if both types of contents are missing"
   ]
  },
  {
   "cell_type": "code",
   "execution_count": 42,
   "id": "11ad5ded",
   "metadata": {
    "scrolled": true
   },
   "outputs": [
    {
     "data": {
      "text/plain": [
       "90    29791\n",
       "95    10555\n",
       "1       825\n",
       "2        40\n",
       "99       20\n",
       "Name: K6Q13A, dtype: int64"
      ]
     },
     "execution_count": 42,
     "metadata": {},
     "output_type": "execute_result"
    }
   ],
   "source": [
    "#1 \"Yes to both types or Yes to one and Missing to another type of content\"\n",
    "#2 \"No to at least one type of content\"\n",
    "#99 \"Missing to both types of content\"\n",
    "#95 \"Children age 0-8 months or 2-5 years\"\n",
    "#90 \"Children age 6-17 years\".\n",
    "\n",
    "tot[\"K6Q13A\"].value_counts()"
   ]
  },
  {
   "cell_type": "code",
   "execution_count": 43,
   "id": "366c9e8f",
   "metadata": {},
   "outputs": [],
   "source": [
    "tot = tot[tot[\"K6Q13A\"] !=99]"
   ]
  },
  {
   "cell_type": "code",
   "execution_count": 44,
   "id": "8fe507cb",
   "metadata": {},
   "outputs": [
    {
     "data": {
      "text/plain": [
       "90    29791\n",
       "95     7954\n",
       "1      3032\n",
       "2       349\n",
       "99       85\n",
       "Name: K6Q14A, dtype: int64"
      ]
     },
     "execution_count": 44,
     "metadata": {},
     "output_type": "execute_result"
    }
   ],
   "source": [
    "tot[\"K6Q14A\"].value_counts()"
   ]
  },
  {
   "cell_type": "code",
   "execution_count": 45,
   "id": "5bc39dae",
   "metadata": {},
   "outputs": [],
   "source": [
    "tot = tot[tot[\"K6Q14A\"] !=99]"
   ]
  },
  {
   "cell_type": "code",
   "execution_count": 46,
   "id": "be7e5523",
   "metadata": {},
   "outputs": [
    {
     "data": {
      "text/plain": [
       "90    29791\n",
       "95     7954\n",
       "1      2980\n",
       "2       401\n",
       "Name: K6Q14B, dtype: int64"
      ]
     },
     "execution_count": 46,
     "metadata": {},
     "output_type": "execute_result"
    }
   ],
   "source": [
    "tot[\"K6Q14B\"].value_counts()"
   ]
  },
  {
   "cell_type": "markdown",
   "id": "90b881ac",
   "metadata": {},
   "source": [
    "This measure is derived from responses to two questions: whether parents were ever told by a health care provider that the child has Attention Deficit Disorder/Attention Deficit Hyperactivity Disorder (ADD/ADHD) (K2Q31A); and, if the response to the previous question is \"Yes\", whether the child currently has the condition (K2Q31B). Respondents were grouped according to whether they currently have ADD/ADHD. Please note that in the NSCH, all information about children's health conditions is based on parent recollection and is not independently verified. Further, a response of \"Yes\" to having \"ever been told\" that a child has a specific health condition (e.g., K2Q31A = Yes) DOES NOT indicate whether the child currently has that particular condition and therefore should not be interpreted as current prevalence. Last, even though the 2020 NSCH asked these questions among all children 0-17 years old, this measure only includes children 3 to 17 years old."
   ]
  },
  {
   "cell_type": "code",
   "execution_count": 47,
   "id": "d67786be",
   "metadata": {},
   "outputs": [
    {
     "data": {
      "text/plain": [
       "2     36529\n",
       "1      4084\n",
       "90      383\n",
       "99      130\n",
       "Name: K2Q31A, dtype: int64"
      ]
     },
     "execution_count": 47,
     "metadata": {},
     "output_type": "execute_result"
    }
   ],
   "source": [
    "#K2Q31A: ADD/ADHD\n",
    "#1 \"Does not have condition\"\n",
    "#2 \"Ever told, but does not currently have condition\"\n",
    "#3 \"Currently has condition\"\n",
    "#99 \"Missing\"\n",
    "#95\"Children age 0-2 years\".\n",
    "#MISSING VALUES ADHD_20(95,99)\n",
    "tot[\"K2Q31A\"].value_counts()"
   ]
  },
  {
   "cell_type": "code",
   "execution_count": 48,
   "id": "5d176ebd",
   "metadata": {},
   "outputs": [
    {
     "data": {
      "text/plain": [
       "2     36529\n",
       "1      4084\n",
       "90      383\n",
       "99      130\n",
       "Name: K2Q31A, dtype: int64"
      ]
     },
     "execution_count": 48,
     "metadata": {},
     "output_type": "execute_result"
    }
   ],
   "source": [
    "tot[\"K2Q31A\"].value_counts()"
   ]
  },
  {
   "cell_type": "code",
   "execution_count": 49,
   "id": "8a8eb173",
   "metadata": {},
   "outputs": [],
   "source": [
    "tot = tot[(tot[\"K2Q31A\"] !=99) & (tot[\"K2Q31B\"] !=95)]"
   ]
  },
  {
   "cell_type": "code",
   "execution_count": 50,
   "id": "d8214f05",
   "metadata": {},
   "outputs": [
    {
     "data": {
      "text/plain": [
       "1     3696\n",
       "90     383\n",
       "2      299\n",
       "99      89\n",
       "Name: K2Q31B, dtype: int64"
      ]
     },
     "execution_count": 50,
     "metadata": {},
     "output_type": "execute_result"
    }
   ],
   "source": [
    "#ADD/ADHD Currently\n",
    "#1 \"Does not have condition\"\n",
    "#2 \"Ever told, but does not currently have condition\"\n",
    "#3 \"Currently has condition\"\n",
    "#99 \"Missing\"\n",
    "#95\"Children age 0-2 years\".\n",
    "tot[\"K2Q31B\"].value_counts()"
   ]
  },
  {
   "cell_type": "code",
   "execution_count": 51,
   "id": "9183f4bd",
   "metadata": {},
   "outputs": [],
   "source": [
    "tot = tot[(tot[\"K2Q31B\"] !=99) & (tot[\"K2Q31B\"] !=90) & (tot[\"K2Q31B\"] !=95)]"
   ]
  },
  {
   "cell_type": "code",
   "execution_count": 52,
   "id": "48885898",
   "metadata": {},
   "outputs": [
    {
     "data": {
      "text/plain": [
       "1    3696\n",
       "2     299\n",
       "Name: K2Q31B, dtype: int64"
      ]
     },
     "execution_count": 52,
     "metadata": {},
     "output_type": "execute_result"
    }
   ],
   "source": [
    "#95\"Children age 0-2 years\".\n",
    "tot[\"K2Q31B\"].value_counts()"
   ]
  },
  {
   "cell_type": "code",
   "execution_count": 53,
   "id": "b4f8738d",
   "metadata": {},
   "outputs": [
    {
     "data": {
      "text/plain": [
       "1     2146\n",
       "2     1830\n",
       "99      19\n",
       "Name: K2Q31D, dtype: int64"
      ]
     },
     "execution_count": 53,
     "metadata": {},
     "output_type": "execute_result"
    }
   ],
   "source": [
    "tot[\"K2Q31D\"].value_counts()"
   ]
  },
  {
   "cell_type": "code",
   "execution_count": 54,
   "id": "da614150",
   "metadata": {},
   "outputs": [],
   "source": [
    "tot = tot[(tot[\"K2Q31D\"] !=99) & (tot[\"K2Q31D\"] !=90) & (tot[\"K2Q31B\"] !=95)]"
   ]
  },
  {
   "cell_type": "code",
   "execution_count": 55,
   "id": "ff5d2c89",
   "metadata": {},
   "outputs": [
    {
     "data": {
      "text/plain": [
       "2     2302\n",
       "1     1663\n",
       "99      11\n",
       "Name: ADDTREAT, dtype: int64"
      ]
     },
     "execution_count": 55,
     "metadata": {},
     "output_type": "execute_result"
    }
   ],
   "source": [
    "tot[\"ADDTREAT\"].value_counts()"
   ]
  },
  {
   "cell_type": "code",
   "execution_count": 56,
   "id": "794ef4b1",
   "metadata": {},
   "outputs": [],
   "source": [
    "tot = tot[tot[\"ADDTREAT\"] !=99]"
   ]
  },
  {
   "cell_type": "code",
   "execution_count": 57,
   "id": "ea40a83b",
   "metadata": {},
   "outputs": [
    {
     "name": "stdout",
     "output_type": "stream",
     "text": [
      "<class 'pandas.core.frame.DataFrame'>\n",
      "Int64Index: 3965 entries, 7 to 42776\n",
      "Data columns (total 24 columns):\n",
      " #   Column          Non-Null Count  Dtype\n",
      "---  ------          --------------  -----\n",
      " 0   FIPSST          3965 non-null   int64\n",
      " 1   STRATUM         3965 non-null   int64\n",
      " 2   HHID            3965 non-null   int64\n",
      " 3   FORMTYPE        3965 non-null   int64\n",
      " 4   TOTKIDS_R       3965 non-null   int64\n",
      " 5   TENURE          3965 non-null   int64\n",
      " 6   HHLANGUAGE      3965 non-null   int64\n",
      " 7   SC_AGE_YEARS    3965 non-null   int64\n",
      " 8   SC_SEX          3965 non-null   int64\n",
      " 9   K2Q35A_1_YEARS  3965 non-null   int64\n",
      " 10  BIRTH_MO        3965 non-null   int64\n",
      " 11  BIRTH_YR        3965 non-null   int64\n",
      " 12  MOMAGE          3965 non-null   int64\n",
      " 13  K6Q41R_STILL    3965 non-null   int64\n",
      " 14  K6Q42R_NEVER    3965 non-null   int64\n",
      " 15  K6Q43R_NEVER    3965 non-null   int64\n",
      " 16  K6Q13A          3965 non-null   int64\n",
      " 17  K6Q13B          3965 non-null   int64\n",
      " 18  K6Q14A          3965 non-null   int64\n",
      " 19  K6Q14B          3965 non-null   int64\n",
      " 20  K2Q31A          3965 non-null   int64\n",
      " 21  K2Q31B          3965 non-null   int64\n",
      " 22  K2Q31D          3965 non-null   int64\n",
      " 23  ADDTREAT        3965 non-null   int64\n",
      "dtypes: int64(24)\n",
      "memory usage: 774.4 KB\n"
     ]
    }
   ],
   "source": [
    "tot.info()"
   ]
  },
  {
   "cell_type": "code",
   "execution_count": 58,
   "id": "60c97176",
   "metadata": {},
   "outputs": [
    {
     "data": {
      "text/html": [
       "<div>\n",
       "<style scoped>\n",
       "    .dataframe tbody tr th:only-of-type {\n",
       "        vertical-align: middle;\n",
       "    }\n",
       "\n",
       "    .dataframe tbody tr th {\n",
       "        vertical-align: top;\n",
       "    }\n",
       "\n",
       "    .dataframe thead th {\n",
       "        text-align: right;\n",
       "    }\n",
       "</style>\n",
       "<table border=\"1\" class=\"dataframe\">\n",
       "  <thead>\n",
       "    <tr style=\"text-align: right;\">\n",
       "      <th></th>\n",
       "      <th>count</th>\n",
       "      <th>mean</th>\n",
       "      <th>std</th>\n",
       "      <th>min</th>\n",
       "      <th>25%</th>\n",
       "      <th>50%</th>\n",
       "      <th>75%</th>\n",
       "      <th>max</th>\n",
       "    </tr>\n",
       "  </thead>\n",
       "  <tbody>\n",
       "    <tr>\n",
       "      <th>FIPSST</th>\n",
       "      <td>3965.0</td>\n",
       "      <td>2.957856e+01</td>\n",
       "      <td>15.747349</td>\n",
       "      <td>1.0</td>\n",
       "      <td>17.0</td>\n",
       "      <td>30.0</td>\n",
       "      <td>42.0</td>\n",
       "      <td>56.0</td>\n",
       "    </tr>\n",
       "    <tr>\n",
       "      <th>STRATUM</th>\n",
       "      <td>3965.0</td>\n",
       "      <td>1.064565e+00</td>\n",
       "      <td>0.245788</td>\n",
       "      <td>1.0</td>\n",
       "      <td>1.0</td>\n",
       "      <td>1.0</td>\n",
       "      <td>1.0</td>\n",
       "      <td>2.0</td>\n",
       "    </tr>\n",
       "    <tr>\n",
       "      <th>HHID</th>\n",
       "      <td>3965.0</td>\n",
       "      <td>2.011950e+07</td>\n",
       "      <td>69340.491743</td>\n",
       "      <td>20000041.0</td>\n",
       "      <td>20059545.0</td>\n",
       "      <td>20119060.0</td>\n",
       "      <td>20178894.0</td>\n",
       "      <td>20239999.0</td>\n",
       "    </tr>\n",
       "    <tr>\n",
       "      <th>FORMTYPE</th>\n",
       "      <td>3965.0</td>\n",
       "      <td>2.583607e+00</td>\n",
       "      <td>0.548720</td>\n",
       "      <td>1.0</td>\n",
       "      <td>2.0</td>\n",
       "      <td>3.0</td>\n",
       "      <td>3.0</td>\n",
       "      <td>3.0</td>\n",
       "    </tr>\n",
       "    <tr>\n",
       "      <th>TOTKIDS_R</th>\n",
       "      <td>3965.0</td>\n",
       "      <td>1.780580e+00</td>\n",
       "      <td>0.857552</td>\n",
       "      <td>1.0</td>\n",
       "      <td>1.0</td>\n",
       "      <td>2.0</td>\n",
       "      <td>2.0</td>\n",
       "      <td>4.0</td>\n",
       "    </tr>\n",
       "    <tr>\n",
       "      <th>TENURE</th>\n",
       "      <td>3965.0</td>\n",
       "      <td>1.553342e+00</td>\n",
       "      <td>0.851183</td>\n",
       "      <td>1.0</td>\n",
       "      <td>1.0</td>\n",
       "      <td>1.0</td>\n",
       "      <td>2.0</td>\n",
       "      <td>4.0</td>\n",
       "    </tr>\n",
       "    <tr>\n",
       "      <th>HHLANGUAGE</th>\n",
       "      <td>3965.0</td>\n",
       "      <td>1.036066e+00</td>\n",
       "      <td>0.230081</td>\n",
       "      <td>1.0</td>\n",
       "      <td>1.0</td>\n",
       "      <td>1.0</td>\n",
       "      <td>1.0</td>\n",
       "      <td>3.0</td>\n",
       "    </tr>\n",
       "    <tr>\n",
       "      <th>SC_AGE_YEARS</th>\n",
       "      <td>3965.0</td>\n",
       "      <td>1.234653e+01</td>\n",
       "      <td>3.470645</td>\n",
       "      <td>2.0</td>\n",
       "      <td>10.0</td>\n",
       "      <td>13.0</td>\n",
       "      <td>15.0</td>\n",
       "      <td>17.0</td>\n",
       "    </tr>\n",
       "    <tr>\n",
       "      <th>SC_SEX</th>\n",
       "      <td>3965.0</td>\n",
       "      <td>1.310719e+00</td>\n",
       "      <td>0.462846</td>\n",
       "      <td>1.0</td>\n",
       "      <td>1.0</td>\n",
       "      <td>1.0</td>\n",
       "      <td>2.0</td>\n",
       "      <td>2.0</td>\n",
       "    </tr>\n",
       "    <tr>\n",
       "      <th>K2Q35A_1_YEARS</th>\n",
       "      <td>3965.0</td>\n",
       "      <td>8.322421e+01</td>\n",
       "      <td>30.174441</td>\n",
       "      <td>1.0</td>\n",
       "      <td>95.0</td>\n",
       "      <td>95.0</td>\n",
       "      <td>95.0</td>\n",
       "      <td>95.0</td>\n",
       "    </tr>\n",
       "    <tr>\n",
       "      <th>BIRTH_MO</th>\n",
       "      <td>3965.0</td>\n",
       "      <td>6.334678e+00</td>\n",
       "      <td>3.377482</td>\n",
       "      <td>1.0</td>\n",
       "      <td>4.0</td>\n",
       "      <td>6.0</td>\n",
       "      <td>9.0</td>\n",
       "      <td>12.0</td>\n",
       "    </tr>\n",
       "    <tr>\n",
       "      <th>BIRTH_YR</th>\n",
       "      <td>3965.0</td>\n",
       "      <td>2.007436e+03</td>\n",
       "      <td>3.587074</td>\n",
       "      <td>2002.0</td>\n",
       "      <td>2004.0</td>\n",
       "      <td>2007.0</td>\n",
       "      <td>2010.0</td>\n",
       "      <td>2020.0</td>\n",
       "    </tr>\n",
       "    <tr>\n",
       "      <th>MOMAGE</th>\n",
       "      <td>3965.0</td>\n",
       "      <td>2.906683e+01</td>\n",
       "      <td>6.301844</td>\n",
       "      <td>18.0</td>\n",
       "      <td>24.0</td>\n",
       "      <td>29.0</td>\n",
       "      <td>34.0</td>\n",
       "      <td>45.0</td>\n",
       "    </tr>\n",
       "    <tr>\n",
       "      <th>K6Q41R_STILL</th>\n",
       "      <td>3965.0</td>\n",
       "      <td>8.824515e+01</td>\n",
       "      <td>12.464923</td>\n",
       "      <td>2.0</td>\n",
       "      <td>90.0</td>\n",
       "      <td>90.0</td>\n",
       "      <td>90.0</td>\n",
       "      <td>95.0</td>\n",
       "    </tr>\n",
       "    <tr>\n",
       "      <th>K6Q42R_NEVER</th>\n",
       "      <td>3965.0</td>\n",
       "      <td>8.744262e+01</td>\n",
       "      <td>14.799093</td>\n",
       "      <td>1.0</td>\n",
       "      <td>90.0</td>\n",
       "      <td>90.0</td>\n",
       "      <td>90.0</td>\n",
       "      <td>90.0</td>\n",
       "    </tr>\n",
       "    <tr>\n",
       "      <th>K6Q43R_NEVER</th>\n",
       "      <td>3965.0</td>\n",
       "      <td>8.744590e+01</td>\n",
       "      <td>14.780036</td>\n",
       "      <td>1.0</td>\n",
       "      <td>90.0</td>\n",
       "      <td>90.0</td>\n",
       "      <td>90.0</td>\n",
       "      <td>90.0</td>\n",
       "    </tr>\n",
       "    <tr>\n",
       "      <th>K6Q13A</th>\n",
       "      <td>3965.0</td>\n",
       "      <td>9.014502e+01</td>\n",
       "      <td>0.839191</td>\n",
       "      <td>90.0</td>\n",
       "      <td>90.0</td>\n",
       "      <td>90.0</td>\n",
       "      <td>90.0</td>\n",
       "      <td>95.0</td>\n",
       "    </tr>\n",
       "    <tr>\n",
       "      <th>K6Q13B</th>\n",
       "      <td>3965.0</td>\n",
       "      <td>9.014502e+01</td>\n",
       "      <td>0.839191</td>\n",
       "      <td>90.0</td>\n",
       "      <td>90.0</td>\n",
       "      <td>90.0</td>\n",
       "      <td>90.0</td>\n",
       "      <td>95.0</td>\n",
       "    </tr>\n",
       "    <tr>\n",
       "      <th>K6Q14A</th>\n",
       "      <td>3965.0</td>\n",
       "      <td>8.837276e+01</td>\n",
       "      <td>12.101416</td>\n",
       "      <td>1.0</td>\n",
       "      <td>90.0</td>\n",
       "      <td>90.0</td>\n",
       "      <td>90.0</td>\n",
       "      <td>95.0</td>\n",
       "    </tr>\n",
       "    <tr>\n",
       "      <th>K6Q14B</th>\n",
       "      <td>3965.0</td>\n",
       "      <td>8.836822e+01</td>\n",
       "      <td>12.133969</td>\n",
       "      <td>1.0</td>\n",
       "      <td>90.0</td>\n",
       "      <td>90.0</td>\n",
       "      <td>90.0</td>\n",
       "      <td>95.0</td>\n",
       "    </tr>\n",
       "    <tr>\n",
       "      <th>K2Q31A</th>\n",
       "      <td>3965.0</td>\n",
       "      <td>1.000000e+00</td>\n",
       "      <td>0.000000</td>\n",
       "      <td>1.0</td>\n",
       "      <td>1.0</td>\n",
       "      <td>1.0</td>\n",
       "      <td>1.0</td>\n",
       "      <td>1.0</td>\n",
       "    </tr>\n",
       "    <tr>\n",
       "      <th>K2Q31B</th>\n",
       "      <td>3965.0</td>\n",
       "      <td>1.073644e+00</td>\n",
       "      <td>0.261224</td>\n",
       "      <td>1.0</td>\n",
       "      <td>1.0</td>\n",
       "      <td>1.0</td>\n",
       "      <td>1.0</td>\n",
       "      <td>2.0</td>\n",
       "    </tr>\n",
       "    <tr>\n",
       "      <th>K2Q31D</th>\n",
       "      <td>3965.0</td>\n",
       "      <td>1.459773e+00</td>\n",
       "      <td>0.498442</td>\n",
       "      <td>1.0</td>\n",
       "      <td>1.0</td>\n",
       "      <td>1.0</td>\n",
       "      <td>2.0</td>\n",
       "      <td>2.0</td>\n",
       "    </tr>\n",
       "    <tr>\n",
       "      <th>ADDTREAT</th>\n",
       "      <td>3965.0</td>\n",
       "      <td>1.580580e+00</td>\n",
       "      <td>0.493526</td>\n",
       "      <td>1.0</td>\n",
       "      <td>1.0</td>\n",
       "      <td>2.0</td>\n",
       "      <td>2.0</td>\n",
       "      <td>2.0</td>\n",
       "    </tr>\n",
       "  </tbody>\n",
       "</table>\n",
       "</div>"
      ],
      "text/plain": [
       "                 count          mean           std         min         25%  \\\n",
       "FIPSST          3965.0  2.957856e+01     15.747349         1.0        17.0   \n",
       "STRATUM         3965.0  1.064565e+00      0.245788         1.0         1.0   \n",
       "HHID            3965.0  2.011950e+07  69340.491743  20000041.0  20059545.0   \n",
       "FORMTYPE        3965.0  2.583607e+00      0.548720         1.0         2.0   \n",
       "TOTKIDS_R       3965.0  1.780580e+00      0.857552         1.0         1.0   \n",
       "TENURE          3965.0  1.553342e+00      0.851183         1.0         1.0   \n",
       "HHLANGUAGE      3965.0  1.036066e+00      0.230081         1.0         1.0   \n",
       "SC_AGE_YEARS    3965.0  1.234653e+01      3.470645         2.0        10.0   \n",
       "SC_SEX          3965.0  1.310719e+00      0.462846         1.0         1.0   \n",
       "K2Q35A_1_YEARS  3965.0  8.322421e+01     30.174441         1.0        95.0   \n",
       "BIRTH_MO        3965.0  6.334678e+00      3.377482         1.0         4.0   \n",
       "BIRTH_YR        3965.0  2.007436e+03      3.587074      2002.0      2004.0   \n",
       "MOMAGE          3965.0  2.906683e+01      6.301844        18.0        24.0   \n",
       "K6Q41R_STILL    3965.0  8.824515e+01     12.464923         2.0        90.0   \n",
       "K6Q42R_NEVER    3965.0  8.744262e+01     14.799093         1.0        90.0   \n",
       "K6Q43R_NEVER    3965.0  8.744590e+01     14.780036         1.0        90.0   \n",
       "K6Q13A          3965.0  9.014502e+01      0.839191        90.0        90.0   \n",
       "K6Q13B          3965.0  9.014502e+01      0.839191        90.0        90.0   \n",
       "K6Q14A          3965.0  8.837276e+01     12.101416         1.0        90.0   \n",
       "K6Q14B          3965.0  8.836822e+01     12.133969         1.0        90.0   \n",
       "K2Q31A          3965.0  1.000000e+00      0.000000         1.0         1.0   \n",
       "K2Q31B          3965.0  1.073644e+00      0.261224         1.0         1.0   \n",
       "K2Q31D          3965.0  1.459773e+00      0.498442         1.0         1.0   \n",
       "ADDTREAT        3965.0  1.580580e+00      0.493526         1.0         1.0   \n",
       "\n",
       "                       50%         75%         max  \n",
       "FIPSST                30.0        42.0        56.0  \n",
       "STRATUM                1.0         1.0         2.0  \n",
       "HHID            20119060.0  20178894.0  20239999.0  \n",
       "FORMTYPE               3.0         3.0         3.0  \n",
       "TOTKIDS_R              2.0         2.0         4.0  \n",
       "TENURE                 1.0         2.0         4.0  \n",
       "HHLANGUAGE             1.0         1.0         3.0  \n",
       "SC_AGE_YEARS          13.0        15.0        17.0  \n",
       "SC_SEX                 1.0         2.0         2.0  \n",
       "K2Q35A_1_YEARS        95.0        95.0        95.0  \n",
       "BIRTH_MO               6.0         9.0        12.0  \n",
       "BIRTH_YR            2007.0      2010.0      2020.0  \n",
       "MOMAGE                29.0        34.0        45.0  \n",
       "K6Q41R_STILL          90.0        90.0        95.0  \n",
       "K6Q42R_NEVER          90.0        90.0        90.0  \n",
       "K6Q43R_NEVER          90.0        90.0        90.0  \n",
       "K6Q13A                90.0        90.0        95.0  \n",
       "K6Q13B                90.0        90.0        95.0  \n",
       "K6Q14A                90.0        90.0        95.0  \n",
       "K6Q14B                90.0        90.0        95.0  \n",
       "K2Q31A                 1.0         1.0         1.0  \n",
       "K2Q31B                 1.0         1.0         2.0  \n",
       "K2Q31D                 1.0         2.0         2.0  \n",
       "ADDTREAT               2.0         2.0         2.0  "
      ]
     },
     "execution_count": 58,
     "metadata": {},
     "output_type": "execute_result"
    }
   ],
   "source": [
    "tot.describe().T"
   ]
  },
  {
   "cell_type": "code",
   "execution_count": 59,
   "id": "0c50d388",
   "metadata": {},
   "outputs": [
    {
     "data": {
      "image/png": "[encoded data removed]",
      "text/plain": [
       "<Figure size 1080x720 with 25 Axes>"
      ]
     },
     "metadata": {
      "needs_background": "light"
     },
     "output_type": "display_data"
    }
   ],
   "source": [
    "tot.hist(figsize=(15,10))\n",
    "plt.subplots_adjust(hspace=0.5);"
   ]
  },
  {
   "cell_type": "code",
   "execution_count": 60,
   "id": "229061df",
   "metadata": {},
   "outputs": [
    {
     "name": "stdout",
     "output_type": "stream",
     "text": [
      "<class 'pandas.core.frame.DataFrame'>\n",
      "Int64Index: 3965 entries, 7 to 42776\n",
      "Data columns (total 24 columns):\n",
      " #   Column          Non-Null Count  Dtype\n",
      "---  ------          --------------  -----\n",
      " 0   FIPSST          3965 non-null   int64\n",
      " 1   STRATUM         3965 non-null   int64\n",
      " 2   HHID            3965 non-null   int64\n",
      " 3   FORMTYPE        3965 non-null   int64\n",
      " 4   TOTKIDS_R       3965 non-null   int64\n",
      " 5   TENURE          3965 non-null   int64\n",
      " 6   HHLANGUAGE      3965 non-null   int64\n",
      " 7   SC_AGE_YEARS    3965 non-null   int64\n",
      " 8   SC_SEX          3965 non-null   int64\n",
      " 9   K2Q35A_1_YEARS  3965 non-null   int64\n",
      " 10  BIRTH_MO        3965 non-null   int64\n",
      " 11  BIRTH_YR        3965 non-null   int64\n",
      " 12  MOMAGE          3965 non-null   int64\n",
      " 13  K6Q41R_STILL    3965 non-null   int64\n",
      " 14  K6Q42R_NEVER    3965 non-null   int64\n",
      " 15  K6Q43R_NEVER    3965 non-null   int64\n",
      " 16  K6Q13A          3965 non-null   int64\n",
      " 17  K6Q13B          3965 non-null   int64\n",
      " 18  K6Q14A          3965 non-null   int64\n",
      " 19  K6Q14B          3965 non-null   int64\n",
      " 20  K2Q31A          3965 non-null   int64\n",
      " 21  K2Q31B          3965 non-null   int64\n",
      " 22  K2Q31D          3965 non-null   int64\n",
      " 23  ADDTREAT        3965 non-null   int64\n",
      "dtypes: int64(24)\n",
      "memory usage: 774.4 KB\n"
     ]
    }
   ],
   "source": [
    "tot.info()"
   ]
  },
  {
   "cell_type": "code",
   "execution_count": 61,
   "id": "2705048d",
   "metadata": {},
   "outputs": [],
   "source": [
    "from sklearn.linear_model import LogisticRegression"
   ]
  },
  {
   "cell_type": "code",
   "execution_count": 62,
   "id": "6905686c",
   "metadata": {},
   "outputs": [],
   "source": [
    "from sklearn.discriminant_analysis import LinearDiscriminantAnalysis\n",
    "from sklearn.neighbors import KNeighborsClassifier\n",
    "from sklearn.naive_bayes import GaussianNB\n",
    "from sklearn.tree import DecisionTreeClassifier\n",
    "from sklearn.svm import SVC"
   ]
  },
  {
   "cell_type": "code",
   "execution_count": 63,
   "id": "23459a52",
   "metadata": {},
   "outputs": [],
   "source": [
    "from sklearn.model_selection import train_test_split, cross_validate, GridSearchCV, learning_curve"
   ]
  },
  {
   "cell_type": "code",
   "execution_count": 64,
   "id": "74327f8a",
   "metadata": {},
   "outputs": [],
   "source": [
    "x_variables= tot[['FIPSST', 'STRATUM', 'TOTKIDS_R', 'TENURE','HHLANGUAGE', 'SC_AGE_YEARS', 'SC_SEX', 'K2Q35A_1_YEARS', 'SC_SEX', 'K2Q35A_1_YEARS','BIRTH_MO', 'BIRTH_YR', 'MOMAGE', 'K6Q41R_STILL', 'K6Q42R_NEVER', 'K6Q43R_NEVER', 'K6Q13A','K6Q13B', 'K6Q14A', 'K6Q14B']]\n",
    "y_variables= tot['K2Q31B']"
   ]
  },
  {
   "cell_type": "code",
   "execution_count": 65,
   "id": "508b3042",
   "metadata": {},
   "outputs": [],
   "source": [
    "X_train, X_test, y_train, y_test= train_test_split(x_variables, y_variables, test_size=0.20, random_state=27)"
   ]
  },
  {
   "cell_type": "code",
   "execution_count": 66,
   "id": "fa71f24e",
   "metadata": {},
   "outputs": [
    {
     "name": "stdout",
     "output_type": "stream",
     "text": [
      "28854    1\n",
      "26332    1\n",
      "26008    1\n",
      "13069    1\n",
      "809      2\n",
      "        ..\n",
      "42042    1\n",
      "27380    1\n",
      "42210    1\n",
      "40734    1\n",
      "11083    1\n",
      "Name: K2Q31B, Length: 3172, dtype: int64\n"
     ]
    }
   ],
   "source": [
    "print(y_train)"
   ]
  },
  {
   "cell_type": "code",
   "execution_count": 67,
   "id": "f4425b4f",
   "metadata": {},
   "outputs": [
    {
     "name": "stdout",
     "output_type": "stream",
     "text": [
      "       FIPSST  STRATUM  TOTKIDS_R  TENURE  HHLANGUAGE  SC_AGE_YEARS  SC_SEX  \\\n",
      "28854      28        2          2       3           1             9       2   \n",
      "26332       8        1          2       3           1            11       1   \n",
      "26008      41        1          2       1           1            12       2   \n",
      "13069      45        1          3       1           1            12       2   \n",
      "809        35        1          2       1           1            13       1   \n",
      "...       ...      ...        ...     ...         ...           ...     ...   \n",
      "42042      21        1          4       2           1            11       1   \n",
      "27380      51        1          1       1           1            17       1   \n",
      "42210       9        1          2       1           1             7       1   \n",
      "40734      49        1          1       2           1            17       1   \n",
      "11083       5        1          1       1           1            15       2   \n",
      "\n",
      "       K2Q35A_1_YEARS  SC_SEX  K2Q35A_1_YEARS  BIRTH_MO  BIRTH_YR  MOMAGE  \\\n",
      "28854              95       2              95        11      2010      18   \n",
      "26332              95       1              95         7      2009      20   \n",
      "26008              95       2              95         1      2008      35   \n",
      "13069              95       2              95         1      2008      30   \n",
      "809                95       1              95         2      2007      20   \n",
      "...               ...     ...             ...       ...       ...     ...   \n",
      "42042              95       1              95        10      2008      19   \n",
      "27380              95       1              95         8      2003      35   \n",
      "42210              95       1              95         5      2013      30   \n",
      "40734              95       1              95        11      2002      32   \n",
      "11083              95       2              95         4      2005      34   \n",
      "\n",
      "       K6Q41R_STILL  K6Q42R_NEVER  K6Q43R_NEVER  K6Q13A  K6Q13B  K6Q14A  \\\n",
      "28854            90            90            90      90      90      90   \n",
      "26332            90            90            90      90      90      90   \n",
      "26008            90            90            90      90      90      90   \n",
      "13069            90            90            90      90      90      90   \n",
      "809              90            90            90      90      90      90   \n",
      "...             ...           ...           ...     ...     ...     ...   \n",
      "42042            90            90            90      90      90      90   \n",
      "27380            90            90            90      90      90      90   \n",
      "42210            90            90            90      90      90      90   \n",
      "40734            90            90            90      90      90      90   \n",
      "11083            90            90            90      90      90      90   \n",
      "\n",
      "       K6Q14B  \n",
      "28854      90  \n",
      "26332      90  \n",
      "26008      90  \n",
      "13069      90  \n",
      "809        90  \n",
      "...       ...  \n",
      "42042      90  \n",
      "27380      90  \n",
      "42210      90  \n",
      "40734      90  \n",
      "11083      90  \n",
      "\n",
      "[3172 rows x 20 columns]\n"
     ]
    }
   ],
   "source": [
    "print(X_train)"
   ]
  },
  {
   "cell_type": "code",
   "execution_count": 68,
   "id": "92e3dea2",
   "metadata": {},
   "outputs": [],
   "source": [
    "logreg_clf = LogisticRegression()"
   ]
  },
  {
   "cell_type": "code",
   "execution_count": 69,
   "id": "4f8f720d",
   "metadata": {},
   "outputs": [
    {
     "name": "stderr",
     "output_type": "stream",
     "text": [
      "/Users/maryamnozari/opt/anaconda3/lib/python3.9/site-packages/sklearn/linear_model/_logistic.py:814: ConvergenceWarning: lbfgs failed to converge (status=1):\n",
      "STOP: TOTAL NO. of ITERATIONS REACHED LIMIT.\n",
      "\n",
      "Increase the number of iterations (max_iter) or scale the data as shown in:\n",
      "    https://scikit-learn.org/stable/modules/preprocessing.html\n",
      "Please also refer to the documentation for alternative solver options:\n",
      "    https://scikit-learn.org/stable/modules/linear_model.html#logistic-regression\n",
      "  n_iter_i = _check_optimize_result(\n"
     ]
    },
    {
     "data": {
      "text/plain": [
       "LogisticRegression()"
      ]
     },
     "execution_count": 69,
     "metadata": {},
     "output_type": "execute_result"
    }
   ],
   "source": [
    "logreg_clf.fit(X_train,y_train)"
   ]
  },
  {
   "cell_type": "code",
   "execution_count": 70,
   "id": "de01f9f5",
   "metadata": {},
   "outputs": [],
   "source": [
    "from sklearn import preprocessing"
   ]
  },
  {
   "cell_type": "code",
   "execution_count": 71,
   "id": "a0904791",
   "metadata": {},
   "outputs": [],
   "source": [
    "scaler = preprocessing.StandardScaler().fit(X_train)"
   ]
  },
  {
   "cell_type": "code",
   "execution_count": 72,
   "id": "21c7cfea",
   "metadata": {},
   "outputs": [],
   "source": [
    "X_scaled = scaler.transform(X_train)"
   ]
  },
  {
   "cell_type": "code",
   "execution_count": 73,
   "id": "4318d95e",
   "metadata": {},
   "outputs": [
    {
     "data": {
      "text/plain": [
       "LogisticRegression()"
      ]
     },
     "execution_count": 73,
     "metadata": {},
     "output_type": "execute_result"
    }
   ],
   "source": [
    "logreg_clf.fit(X_scaled,y_train)"
   ]
  },
  {
   "cell_type": "code",
   "execution_count": 74,
   "id": "c6a30b29",
   "metadata": {},
   "outputs": [
    {
     "data": {
      "text/html": [
       "<div>\n",
       "<style scoped>\n",
       "    .dataframe tbody tr th:only-of-type {\n",
       "        vertical-align: middle;\n",
       "    }\n",
       "\n",
       "    .dataframe tbody tr th {\n",
       "        vertical-align: top;\n",
       "    }\n",
       "\n",
       "    .dataframe thead th {\n",
       "        text-align: right;\n",
       "    }\n",
       "</style>\n",
       "<table border=\"1\" class=\"dataframe\">\n",
       "  <thead>\n",
       "    <tr style=\"text-align: right;\">\n",
       "      <th></th>\n",
       "      <th>FIPSST</th>\n",
       "      <th>STRATUM</th>\n",
       "      <th>TOTKIDS_R</th>\n",
       "      <th>TENURE</th>\n",
       "      <th>HHLANGUAGE</th>\n",
       "      <th>SC_AGE_YEARS</th>\n",
       "      <th>SC_SEX</th>\n",
       "      <th>K2Q35A_1_YEARS</th>\n",
       "      <th>SC_SEX</th>\n",
       "      <th>K2Q35A_1_YEARS</th>\n",
       "      <th>BIRTH_MO</th>\n",
       "      <th>BIRTH_YR</th>\n",
       "      <th>MOMAGE</th>\n",
       "      <th>K6Q41R_STILL</th>\n",
       "      <th>K6Q42R_NEVER</th>\n",
       "      <th>K6Q43R_NEVER</th>\n",
       "      <th>K6Q13A</th>\n",
       "      <th>K6Q13B</th>\n",
       "      <th>K6Q14A</th>\n",
       "      <th>K6Q14B</th>\n",
       "    </tr>\n",
       "  </thead>\n",
       "  <tbody>\n",
       "    <tr>\n",
       "      <th>FIPSST</th>\n",
       "      <td>1.000000</td>\n",
       "      <td>-0.027317</td>\n",
       "      <td>-0.005411</td>\n",
       "      <td>0.008142</td>\n",
       "      <td>0.016729</td>\n",
       "      <td>-0.000766</td>\n",
       "      <td>-0.009269</td>\n",
       "      <td>0.008756</td>\n",
       "      <td>-0.009269</td>\n",
       "      <td>0.008756</td>\n",
       "      <td>-0.027006</td>\n",
       "      <td>0.000487</td>\n",
       "      <td>-0.010462</td>\n",
       "      <td>-0.005613</td>\n",
       "      <td>-0.003855</td>\n",
       "      <td>-0.003895</td>\n",
       "      <td>0.003862</td>\n",
       "      <td>0.003862</td>\n",
       "      <td>-0.018561</td>\n",
       "      <td>-0.018619</td>\n",
       "    </tr>\n",
       "    <tr>\n",
       "      <th>STRATUM</th>\n",
       "      <td>-0.027317</td>\n",
       "      <td>1.000000</td>\n",
       "      <td>-0.039291</td>\n",
       "      <td>0.120998</td>\n",
       "      <td>0.012344</td>\n",
       "      <td>-0.036290</td>\n",
       "      <td>0.020969</td>\n",
       "      <td>0.008592</td>\n",
       "      <td>0.020969</td>\n",
       "      <td>0.008592</td>\n",
       "      <td>0.012557</td>\n",
       "      <td>0.036139</td>\n",
       "      <td>-0.040898</td>\n",
       "      <td>-0.003191</td>\n",
       "      <td>-0.040108</td>\n",
       "      <td>-0.040288</td>\n",
       "      <td>0.040208</td>\n",
       "      <td>0.040208</td>\n",
       "      <td>-0.014200</td>\n",
       "      <td>-0.014318</td>\n",
       "    </tr>\n",
       "    <tr>\n",
       "      <th>TOTKIDS_R</th>\n",
       "      <td>-0.005411</td>\n",
       "      <td>-0.039291</td>\n",
       "      <td>1.000000</td>\n",
       "      <td>0.000486</td>\n",
       "      <td>0.005596</td>\n",
       "      <td>-0.160751</td>\n",
       "      <td>-0.011869</td>\n",
       "      <td>0.024988</td>\n",
       "      <td>-0.011869</td>\n",
       "      <td>0.024988</td>\n",
       "      <td>-0.004166</td>\n",
       "      <td>0.155622</td>\n",
       "      <td>-0.221540</td>\n",
       "      <td>-0.014602</td>\n",
       "      <td>-0.003934</td>\n",
       "      <td>-0.003922</td>\n",
       "      <td>0.003914</td>\n",
       "      <td>0.003914</td>\n",
       "      <td>-0.007577</td>\n",
       "      <td>-0.007653</td>\n",
       "    </tr>\n",
       "    <tr>\n",
       "      <th>TENURE</th>\n",
       "      <td>0.008142</td>\n",
       "      <td>0.120998</td>\n",
       "      <td>0.000486</td>\n",
       "      <td>1.000000</td>\n",
       "      <td>0.060378</td>\n",
       "      <td>-0.076881</td>\n",
       "      <td>-0.020309</td>\n",
       "      <td>-0.027648</td>\n",
       "      <td>-0.020309</td>\n",
       "      <td>-0.027648</td>\n",
       "      <td>0.042095</td>\n",
       "      <td>0.078799</td>\n",
       "      <td>-0.170185</td>\n",
       "      <td>-0.021942</td>\n",
       "      <td>-0.041197</td>\n",
       "      <td>-0.041294</td>\n",
       "      <td>0.041260</td>\n",
       "      <td>0.041260</td>\n",
       "      <td>-0.009792</td>\n",
       "      <td>-0.009767</td>\n",
       "    </tr>\n",
       "    <tr>\n",
       "      <th>HHLANGUAGE</th>\n",
       "      <td>0.016729</td>\n",
       "      <td>0.012344</td>\n",
       "      <td>0.005596</td>\n",
       "      <td>0.060378</td>\n",
       "      <td>1.000000</td>\n",
       "      <td>-0.042508</td>\n",
       "      <td>-0.034190</td>\n",
       "      <td>-0.034086</td>\n",
       "      <td>-0.034190</td>\n",
       "      <td>-0.034086</td>\n",
       "      <td>0.024069</td>\n",
       "      <td>0.035948</td>\n",
       "      <td>0.022695</td>\n",
       "      <td>-0.008889</td>\n",
       "      <td>0.000941</td>\n",
       "      <td>0.000982</td>\n",
       "      <td>-0.000964</td>\n",
       "      <td>-0.000964</td>\n",
       "      <td>0.005952</td>\n",
       "      <td>0.005905</td>\n",
       "    </tr>\n",
       "    <tr>\n",
       "      <th>SC_AGE_YEARS</th>\n",
       "      <td>-0.000766</td>\n",
       "      <td>-0.036290</td>\n",
       "      <td>-0.160751</td>\n",
       "      <td>-0.076881</td>\n",
       "      <td>-0.042508</td>\n",
       "      <td>1.000000</td>\n",
       "      <td>0.021369</td>\n",
       "      <td>0.020285</td>\n",
       "      <td>0.021369</td>\n",
       "      <td>0.020285</td>\n",
       "      <td>0.011560</td>\n",
       "      <td>-0.950635</td>\n",
       "      <td>0.057973</td>\n",
       "      <td>0.324887</td>\n",
       "      <td>0.402690</td>\n",
       "      <td>0.402690</td>\n",
       "      <td>-0.402697</td>\n",
       "      <td>-0.402697</td>\n",
       "      <td>0.315345</td>\n",
       "      <td>0.315381</td>\n",
       "    </tr>\n",
       "    <tr>\n",
       "      <th>SC_SEX</th>\n",
       "      <td>-0.009269</td>\n",
       "      <td>0.020969</td>\n",
       "      <td>-0.011869</td>\n",
       "      <td>-0.020309</td>\n",
       "      <td>-0.034190</td>\n",
       "      <td>0.021369</td>\n",
       "      <td>1.000000</td>\n",
       "      <td>0.105105</td>\n",
       "      <td>1.000000</td>\n",
       "      <td>0.105105</td>\n",
       "      <td>-0.013769</td>\n",
       "      <td>-0.020747</td>\n",
       "      <td>-0.005911</td>\n",
       "      <td>0.024704</td>\n",
       "      <td>0.005697</td>\n",
       "      <td>0.005629</td>\n",
       "      <td>-0.005627</td>\n",
       "      <td>-0.005627</td>\n",
       "      <td>-0.003344</td>\n",
       "      <td>-0.003218</td>\n",
       "    </tr>\n",
       "    <tr>\n",
       "      <th>K2Q35A_1_YEARS</th>\n",
       "      <td>0.008756</td>\n",
       "      <td>0.008592</td>\n",
       "      <td>0.024988</td>\n",
       "      <td>-0.027648</td>\n",
       "      <td>-0.034086</td>\n",
       "      <td>0.020285</td>\n",
       "      <td>0.105105</td>\n",
       "      <td>1.000000</td>\n",
       "      <td>0.105105</td>\n",
       "      <td>1.000000</td>\n",
       "      <td>-0.032864</td>\n",
       "      <td>-0.019361</td>\n",
       "      <td>-0.022960</td>\n",
       "      <td>0.029448</td>\n",
       "      <td>0.042512</td>\n",
       "      <td>0.042706</td>\n",
       "      <td>-0.042678</td>\n",
       "      <td>-0.042678</td>\n",
       "      <td>0.053199</td>\n",
       "      <td>0.053038</td>\n",
       "    </tr>\n",
       "    <tr>\n",
       "      <th>SC_SEX</th>\n",
       "      <td>-0.009269</td>\n",
       "      <td>0.020969</td>\n",
       "      <td>-0.011869</td>\n",
       "      <td>-0.020309</td>\n",
       "      <td>-0.034190</td>\n",
       "      <td>0.021369</td>\n",
       "      <td>1.000000</td>\n",
       "      <td>0.105105</td>\n",
       "      <td>1.000000</td>\n",
       "      <td>0.105105</td>\n",
       "      <td>-0.013769</td>\n",
       "      <td>-0.020747</td>\n",
       "      <td>-0.005911</td>\n",
       "      <td>0.024704</td>\n",
       "      <td>0.005697</td>\n",
       "      <td>0.005629</td>\n",
       "      <td>-0.005627</td>\n",
       "      <td>-0.005627</td>\n",
       "      <td>-0.003344</td>\n",
       "      <td>-0.003218</td>\n",
       "    </tr>\n",
       "    <tr>\n",
       "      <th>K2Q35A_1_YEARS</th>\n",
       "      <td>0.008756</td>\n",
       "      <td>0.008592</td>\n",
       "      <td>0.024988</td>\n",
       "      <td>-0.027648</td>\n",
       "      <td>-0.034086</td>\n",
       "      <td>0.020285</td>\n",
       "      <td>0.105105</td>\n",
       "      <td>1.000000</td>\n",
       "      <td>0.105105</td>\n",
       "      <td>1.000000</td>\n",
       "      <td>-0.032864</td>\n",
       "      <td>-0.019361</td>\n",
       "      <td>-0.022960</td>\n",
       "      <td>0.029448</td>\n",
       "      <td>0.042512</td>\n",
       "      <td>0.042706</td>\n",
       "      <td>-0.042678</td>\n",
       "      <td>-0.042678</td>\n",
       "      <td>0.053199</td>\n",
       "      <td>0.053038</td>\n",
       "    </tr>\n",
       "    <tr>\n",
       "      <th>BIRTH_MO</th>\n",
       "      <td>-0.027006</td>\n",
       "      <td>0.012557</td>\n",
       "      <td>-0.004166</td>\n",
       "      <td>0.042095</td>\n",
       "      <td>0.024069</td>\n",
       "      <td>0.011560</td>\n",
       "      <td>-0.013769</td>\n",
       "      <td>-0.032864</td>\n",
       "      <td>-0.013769</td>\n",
       "      <td>-0.032864</td>\n",
       "      <td>1.000000</td>\n",
       "      <td>-0.100906</td>\n",
       "      <td>-0.020975</td>\n",
       "      <td>-0.006737</td>\n",
       "      <td>-0.014966</td>\n",
       "      <td>-0.014972</td>\n",
       "      <td>0.014914</td>\n",
       "      <td>0.014914</td>\n",
       "      <td>-0.004041</td>\n",
       "      <td>-0.004128</td>\n",
       "    </tr>\n",
       "    <tr>\n",
       "      <th>BIRTH_YR</th>\n",
       "      <td>0.000487</td>\n",
       "      <td>0.036139</td>\n",
       "      <td>0.155622</td>\n",
       "      <td>0.078799</td>\n",
       "      <td>0.035948</td>\n",
       "      <td>-0.950635</td>\n",
       "      <td>-0.020747</td>\n",
       "      <td>-0.019361</td>\n",
       "      <td>-0.020747</td>\n",
       "      <td>-0.019361</td>\n",
       "      <td>-0.100906</td>\n",
       "      <td>1.000000</td>\n",
       "      <td>-0.060806</td>\n",
       "      <td>-0.312039</td>\n",
       "      <td>-0.381649</td>\n",
       "      <td>-0.381645</td>\n",
       "      <td>0.381654</td>\n",
       "      <td>0.381654</td>\n",
       "      <td>-0.305302</td>\n",
       "      <td>-0.305307</td>\n",
       "    </tr>\n",
       "    <tr>\n",
       "      <th>MOMAGE</th>\n",
       "      <td>-0.010462</td>\n",
       "      <td>-0.040898</td>\n",
       "      <td>-0.221540</td>\n",
       "      <td>-0.170185</td>\n",
       "      <td>0.022695</td>\n",
       "      <td>0.057973</td>\n",
       "      <td>-0.005911</td>\n",
       "      <td>-0.022960</td>\n",
       "      <td>-0.005911</td>\n",
       "      <td>-0.022960</td>\n",
       "      <td>-0.020975</td>\n",
       "      <td>-0.060806</td>\n",
       "      <td>1.000000</td>\n",
       "      <td>0.014551</td>\n",
       "      <td>0.038467</td>\n",
       "      <td>0.038538</td>\n",
       "      <td>-0.038564</td>\n",
       "      <td>-0.038564</td>\n",
       "      <td>0.038869</td>\n",
       "      <td>0.038852</td>\n",
       "    </tr>\n",
       "    <tr>\n",
       "      <th>K6Q41R_STILL</th>\n",
       "      <td>-0.005613</td>\n",
       "      <td>-0.003191</td>\n",
       "      <td>-0.014602</td>\n",
       "      <td>-0.021942</td>\n",
       "      <td>-0.008889</td>\n",
       "      <td>0.324887</td>\n",
       "      <td>0.024704</td>\n",
       "      <td>0.029448</td>\n",
       "      <td>0.024704</td>\n",
       "      <td>0.029448</td>\n",
       "      <td>-0.006737</td>\n",
       "      <td>-0.312039</td>\n",
       "      <td>0.014551</td>\n",
       "      <td>1.000000</td>\n",
       "      <td>0.815299</td>\n",
       "      <td>0.814433</td>\n",
       "      <td>-0.814682</td>\n",
       "      <td>-0.814682</td>\n",
       "      <td>0.665585</td>\n",
       "      <td>0.665613</td>\n",
       "    </tr>\n",
       "    <tr>\n",
       "      <th>K6Q42R_NEVER</th>\n",
       "      <td>-0.003855</td>\n",
       "      <td>-0.040108</td>\n",
       "      <td>-0.003934</td>\n",
       "      <td>-0.041197</td>\n",
       "      <td>0.000941</td>\n",
       "      <td>0.402690</td>\n",
       "      <td>0.005697</td>\n",
       "      <td>0.042512</td>\n",
       "      <td>0.005697</td>\n",
       "      <td>0.042512</td>\n",
       "      <td>-0.014966</td>\n",
       "      <td>-0.381649</td>\n",
       "      <td>0.038467</td>\n",
       "      <td>0.815299</td>\n",
       "      <td>1.000000</td>\n",
       "      <td>0.999988</td>\n",
       "      <td>-0.999990</td>\n",
       "      <td>-0.999990</td>\n",
       "      <td>0.778246</td>\n",
       "      <td>0.778326</td>\n",
       "    </tr>\n",
       "    <tr>\n",
       "      <th>K6Q43R_NEVER</th>\n",
       "      <td>-0.003895</td>\n",
       "      <td>-0.040288</td>\n",
       "      <td>-0.003922</td>\n",
       "      <td>-0.041294</td>\n",
       "      <td>0.000982</td>\n",
       "      <td>0.402690</td>\n",
       "      <td>0.005629</td>\n",
       "      <td>0.042706</td>\n",
       "      <td>0.005629</td>\n",
       "      <td>0.042706</td>\n",
       "      <td>-0.014972</td>\n",
       "      <td>-0.381645</td>\n",
       "      <td>0.038538</td>\n",
       "      <td>0.814433</td>\n",
       "      <td>0.999988</td>\n",
       "      <td>1.000000</td>\n",
       "      <td>-0.999996</td>\n",
       "      <td>-0.999996</td>\n",
       "      <td>0.778050</td>\n",
       "      <td>0.778128</td>\n",
       "    </tr>\n",
       "    <tr>\n",
       "      <th>K6Q13A</th>\n",
       "      <td>0.003862</td>\n",
       "      <td>0.040208</td>\n",
       "      <td>0.003914</td>\n",
       "      <td>0.041260</td>\n",
       "      <td>-0.000964</td>\n",
       "      <td>-0.402697</td>\n",
       "      <td>-0.005627</td>\n",
       "      <td>-0.042678</td>\n",
       "      <td>-0.005627</td>\n",
       "      <td>-0.042678</td>\n",
       "      <td>0.014914</td>\n",
       "      <td>0.381654</td>\n",
       "      <td>-0.038564</td>\n",
       "      <td>-0.814682</td>\n",
       "      <td>-0.999990</td>\n",
       "      <td>-0.999996</td>\n",
       "      <td>1.000000</td>\n",
       "      <td>1.000000</td>\n",
       "      <td>-0.778128</td>\n",
       "      <td>-0.778206</td>\n",
       "    </tr>\n",
       "    <tr>\n",
       "      <th>K6Q13B</th>\n",
       "      <td>0.003862</td>\n",
       "      <td>0.040208</td>\n",
       "      <td>0.003914</td>\n",
       "      <td>0.041260</td>\n",
       "      <td>-0.000964</td>\n",
       "      <td>-0.402697</td>\n",
       "      <td>-0.005627</td>\n",
       "      <td>-0.042678</td>\n",
       "      <td>-0.005627</td>\n",
       "      <td>-0.042678</td>\n",
       "      <td>0.014914</td>\n",
       "      <td>0.381654</td>\n",
       "      <td>-0.038564</td>\n",
       "      <td>-0.814682</td>\n",
       "      <td>-0.999990</td>\n",
       "      <td>-0.999996</td>\n",
       "      <td>1.000000</td>\n",
       "      <td>1.000000</td>\n",
       "      <td>-0.778128</td>\n",
       "      <td>-0.778206</td>\n",
       "    </tr>\n",
       "    <tr>\n",
       "      <th>K6Q14A</th>\n",
       "      <td>-0.018561</td>\n",
       "      <td>-0.014200</td>\n",
       "      <td>-0.007577</td>\n",
       "      <td>-0.009792</td>\n",
       "      <td>0.005952</td>\n",
       "      <td>0.315345</td>\n",
       "      <td>-0.003344</td>\n",
       "      <td>0.053199</td>\n",
       "      <td>-0.003344</td>\n",
       "      <td>0.053199</td>\n",
       "      <td>-0.004041</td>\n",
       "      <td>-0.305302</td>\n",
       "      <td>0.038869</td>\n",
       "      <td>0.665585</td>\n",
       "      <td>0.778246</td>\n",
       "      <td>0.778050</td>\n",
       "      <td>-0.778128</td>\n",
       "      <td>-0.778128</td>\n",
       "      <td>1.000000</td>\n",
       "      <td>0.999981</td>\n",
       "    </tr>\n",
       "    <tr>\n",
       "      <th>K6Q14B</th>\n",
       "      <td>-0.018619</td>\n",
       "      <td>-0.014318</td>\n",
       "      <td>-0.007653</td>\n",
       "      <td>-0.009767</td>\n",
       "      <td>0.005905</td>\n",
       "      <td>0.315381</td>\n",
       "      <td>-0.003218</td>\n",
       "      <td>0.053038</td>\n",
       "      <td>-0.003218</td>\n",
       "      <td>0.053038</td>\n",
       "      <td>-0.004128</td>\n",
       "      <td>-0.305307</td>\n",
       "      <td>0.038852</td>\n",
       "      <td>0.665613</td>\n",
       "      <td>0.778326</td>\n",
       "      <td>0.778128</td>\n",
       "      <td>-0.778206</td>\n",
       "      <td>-0.778206</td>\n",
       "      <td>0.999981</td>\n",
       "      <td>1.000000</td>\n",
       "    </tr>\n",
       "  </tbody>\n",
       "</table>\n",
       "</div>"
      ],
      "text/plain": [
       "                  FIPSST   STRATUM  TOTKIDS_R    TENURE  HHLANGUAGE  \\\n",
       "FIPSST          1.000000 -0.027317  -0.005411  0.008142    0.016729   \n",
       "STRATUM        -0.027317  1.000000  -0.039291  0.120998    0.012344   \n",
       "TOTKIDS_R      -0.005411 -0.039291   1.000000  0.000486    0.005596   \n",
       "TENURE          0.008142  0.120998   0.000486  1.000000    0.060378   \n",
       "HHLANGUAGE      0.016729  0.012344   0.005596  0.060378    1.000000   \n",
       "SC_AGE_YEARS   -0.000766 -0.036290  -0.160751 -0.076881   -0.042508   \n",
       "SC_SEX         -0.009269  0.020969  -0.011869 -0.020309   -0.034190   \n",
       "K2Q35A_1_YEARS  0.008756  0.008592   0.024988 -0.027648   -0.034086   \n",
       "SC_SEX         -0.009269  0.020969  -0.011869 -0.020309   -0.034190   \n",
       "K2Q35A_1_YEARS  0.008756  0.008592   0.024988 -0.027648   -0.034086   \n",
       "BIRTH_MO       -0.027006  0.012557  -0.004166  0.042095    0.024069   \n",
       "BIRTH_YR        0.000487  0.036139   0.155622  0.078799    0.035948   \n",
       "MOMAGE         -0.010462 -0.040898  -0.221540 -0.170185    0.022695   \n",
       "K6Q41R_STILL   -0.005613 -0.003191  -0.014602 -0.021942   -0.008889   \n",
       "K6Q42R_NEVER   -0.003855 -0.040108  -0.003934 -0.041197    0.000941   \n",
       "K6Q43R_NEVER   -0.003895 -0.040288  -0.003922 -0.041294    0.000982   \n",
       "K6Q13A          0.003862  0.040208   0.003914  0.041260   -0.000964   \n",
       "K6Q13B          0.003862  0.040208   0.003914  0.041260   -0.000964   \n",
       "K6Q14A         -0.018561 -0.014200  -0.007577 -0.009792    0.005952   \n",
       "K6Q14B         -0.018619 -0.014318  -0.007653 -0.009767    0.005905   \n",
       "\n",
       "                SC_AGE_YEARS    SC_SEX  K2Q35A_1_YEARS    SC_SEX  \\\n",
       "FIPSST             -0.000766 -0.009269        0.008756 -0.009269   \n",
       "STRATUM            -0.036290  0.020969        0.008592  0.020969   \n",
       "TOTKIDS_R          -0.160751 -0.011869        0.024988 -0.011869   \n",
       "TENURE             -0.076881 -0.020309       -0.027648 -0.020309   \n",
       "HHLANGUAGE         -0.042508 -0.034190       -0.034086 -0.034190   \n",
       "SC_AGE_YEARS        1.000000  0.021369        0.020285  0.021369   \n",
       "SC_SEX              0.021369  1.000000        0.105105  1.000000   \n",
       "K2Q35A_1_YEARS      0.020285  0.105105        1.000000  0.105105   \n",
       "SC_SEX              0.021369  1.000000        0.105105  1.000000   \n",
       "K2Q35A_1_YEARS      0.020285  0.105105        1.000000  0.105105   \n",
       "BIRTH_MO            0.011560 -0.013769       -0.032864 -0.013769   \n",
       "BIRTH_YR           -0.950635 -0.020747       -0.019361 -0.020747   \n",
       "MOMAGE              0.057973 -0.005911       -0.022960 -0.005911   \n",
       "K6Q41R_STILL        0.324887  0.024704        0.029448  0.024704   \n",
       "K6Q42R_NEVER        0.402690  0.005697        0.042512  0.005697   \n",
       "K6Q43R_NEVER        0.402690  0.005629        0.042706  0.005629   \n",
       "K6Q13A             -0.402697 -0.005627       -0.042678 -0.005627   \n",
       "K6Q13B             -0.402697 -0.005627       -0.042678 -0.005627   \n",
       "K6Q14A              0.315345 -0.003344        0.053199 -0.003344   \n",
       "K6Q14B              0.315381 -0.003218        0.053038 -0.003218   \n",
       "\n",
       "                K2Q35A_1_YEARS  BIRTH_MO  BIRTH_YR    MOMAGE  K6Q41R_STILL  \\\n",
       "FIPSST                0.008756 -0.027006  0.000487 -0.010462     -0.005613   \n",
       "STRATUM               0.008592  0.012557  0.036139 -0.040898     -0.003191   \n",
       "TOTKIDS_R             0.024988 -0.004166  0.155622 -0.221540     -0.014602   \n",
       "TENURE               -0.027648  0.042095  0.078799 -0.170185     -0.021942   \n",
       "HHLANGUAGE           -0.034086  0.024069  0.035948  0.022695     -0.008889   \n",
       "SC_AGE_YEARS          0.020285  0.011560 -0.950635  0.057973      0.324887   \n",
       "SC_SEX                0.105105 -0.013769 -0.020747 -0.005911      0.024704   \n",
       "K2Q35A_1_YEARS        1.000000 -0.032864 -0.019361 -0.022960      0.029448   \n",
       "SC_SEX                0.105105 -0.013769 -0.020747 -0.005911      0.024704   \n",
       "K2Q35A_1_YEARS        1.000000 -0.032864 -0.019361 -0.022960      0.029448   \n",
       "BIRTH_MO             -0.032864  1.000000 -0.100906 -0.020975     -0.006737   \n",
       "BIRTH_YR             -0.019361 -0.100906  1.000000 -0.060806     -0.312039   \n",
       "MOMAGE               -0.022960 -0.020975 -0.060806  1.000000      0.014551   \n",
       "K6Q41R_STILL          0.029448 -0.006737 -0.312039  0.014551      1.000000   \n",
       "K6Q42R_NEVER          0.042512 -0.014966 -0.381649  0.038467      0.815299   \n",
       "K6Q43R_NEVER          0.042706 -0.014972 -0.381645  0.038538      0.814433   \n",
       "K6Q13A               -0.042678  0.014914  0.381654 -0.038564     -0.814682   \n",
       "K6Q13B               -0.042678  0.014914  0.381654 -0.038564     -0.814682   \n",
       "K6Q14A                0.053199 -0.004041 -0.305302  0.038869      0.665585   \n",
       "K6Q14B                0.053038 -0.004128 -0.305307  0.038852      0.665613   \n",
       "\n",
       "                K6Q42R_NEVER  K6Q43R_NEVER    K6Q13A    K6Q13B    K6Q14A  \\\n",
       "FIPSST             -0.003855     -0.003895  0.003862  0.003862 -0.018561   \n",
       "STRATUM            -0.040108     -0.040288  0.040208  0.040208 -0.014200   \n",
       "TOTKIDS_R          -0.003934     -0.003922  0.003914  0.003914 -0.007577   \n",
       "TENURE             -0.041197     -0.041294  0.041260  0.041260 -0.009792   \n",
       "HHLANGUAGE          0.000941      0.000982 -0.000964 -0.000964  0.005952   \n",
       "SC_AGE_YEARS        0.402690      0.402690 -0.402697 -0.402697  0.315345   \n",
       "SC_SEX              0.005697      0.005629 -0.005627 -0.005627 -0.003344   \n",
       "K2Q35A_1_YEARS      0.042512      0.042706 -0.042678 -0.042678  0.053199   \n",
       "SC_SEX              0.005697      0.005629 -0.005627 -0.005627 -0.003344   \n",
       "K2Q35A_1_YEARS      0.042512      0.042706 -0.042678 -0.042678  0.053199   \n",
       "BIRTH_MO           -0.014966     -0.014972  0.014914  0.014914 -0.004041   \n",
       "BIRTH_YR           -0.381649     -0.381645  0.381654  0.381654 -0.305302   \n",
       "MOMAGE              0.038467      0.038538 -0.038564 -0.038564  0.038869   \n",
       "K6Q41R_STILL        0.815299      0.814433 -0.814682 -0.814682  0.665585   \n",
       "K6Q42R_NEVER        1.000000      0.999988 -0.999990 -0.999990  0.778246   \n",
       "K6Q43R_NEVER        0.999988      1.000000 -0.999996 -0.999996  0.778050   \n",
       "K6Q13A             -0.999990     -0.999996  1.000000  1.000000 -0.778128   \n",
       "K6Q13B             -0.999990     -0.999996  1.000000  1.000000 -0.778128   \n",
       "K6Q14A              0.778246      0.778050 -0.778128 -0.778128  1.000000   \n",
       "K6Q14B              0.778326      0.778128 -0.778206 -0.778206  0.999981   \n",
       "\n",
       "                  K6Q14B  \n",
       "FIPSST         -0.018619  \n",
       "STRATUM        -0.014318  \n",
       "TOTKIDS_R      -0.007653  \n",
       "TENURE         -0.009767  \n",
       "HHLANGUAGE      0.005905  \n",
       "SC_AGE_YEARS    0.315381  \n",
       "SC_SEX         -0.003218  \n",
       "K2Q35A_1_YEARS  0.053038  \n",
       "SC_SEX         -0.003218  \n",
       "K2Q35A_1_YEARS  0.053038  \n",
       "BIRTH_MO       -0.004128  \n",
       "BIRTH_YR       -0.305307  \n",
       "MOMAGE          0.038852  \n",
       "K6Q41R_STILL    0.665613  \n",
       "K6Q42R_NEVER    0.778326  \n",
       "K6Q43R_NEVER    0.778128  \n",
       "K6Q13A         -0.778206  \n",
       "K6Q13B         -0.778206  \n",
       "K6Q14A          0.999981  \n",
       "K6Q14B          1.000000  "
      ]
     },
     "execution_count": 74,
     "metadata": {},
     "output_type": "execute_result"
    }
   ],
   "source": [
    "x_variables.corr()"
   ]
  },
  {
   "cell_type": "code",
   "execution_count": 75,
   "id": "e71d8a00",
   "metadata": {},
   "outputs": [
    {
     "data": {
      "text/plain": [
       "<AxesSubplot:>"
      ]
     },
     "execution_count": 75,
     "metadata": {},
     "output_type": "execute_result"
    },
    {
     "data": {
      "image/png": "[encoded data removed]",
      "text/plain": [
       "<Figure size 432x288 with 2 Axes>"
      ]
     },
     "metadata": {
      "needs_background": "light"
     },
     "output_type": "display_data"
    }
   ],
   "source": [
    "sns.heatmap(x_variables.corr())"
   ]
  },
  {
   "cell_type": "code",
   "execution_count": 76,
   "id": "176f4787",
   "metadata": {},
   "outputs": [],
   "source": [
    "corr_matrix = x_variables.corr().abs()"
   ]
  },
  {
   "cell_type": "code",
   "execution_count": 77,
   "id": "d775ea98",
   "metadata": {},
   "outputs": [
    {
     "name": "stderr",
     "output_type": "stream",
     "text": [
      "/var/folders/q1/5l3sndps6dj6yrp14kddr27w0000gn/T/ipykernel_3465/2665302050.py:1: DeprecationWarning: `np.bool` is a deprecated alias for the builtin `bool`. To silence this warning, use `bool` by itself. Doing this will not modify any behavior and is safe. If you specifically wanted the numpy scalar type, use `np.bool_` here.\n",
      "Deprecated in NumPy 1.20; for more details and guidance: https://numpy.org/devdocs/release/1.20.0-notes.html#deprecations\n",
      "  upper = corr_matrix.where(np.triu(np.ones(corr_matrix.shape), k=1).astype(np.bool))\n"
     ]
    }
   ],
   "source": [
    "upper = corr_matrix.where(np.triu(np.ones(corr_matrix.shape), k=1).astype(np.bool))"
   ]
  },
  {
   "cell_type": "code",
   "execution_count": 78,
   "id": "dc1d0296",
   "metadata": {},
   "outputs": [],
   "source": [
    "to_drop = [column for column in upper.columns if any(upper[column] > 0.95)]"
   ]
  },
  {
   "cell_type": "code",
   "execution_count": 79,
   "id": "8ca1222e",
   "metadata": {},
   "outputs": [
    {
     "data": {
      "text/plain": [
       "['SC_SEX',\n",
       " 'K2Q35A_1_YEARS',\n",
       " 'SC_SEX',\n",
       " 'K2Q35A_1_YEARS',\n",
       " 'BIRTH_YR',\n",
       " 'K6Q43R_NEVER',\n",
       " 'K6Q13A',\n",
       " 'K6Q13B',\n",
       " 'K6Q14B']"
      ]
     },
     "execution_count": 79,
     "metadata": {},
     "output_type": "execute_result"
    }
   ],
   "source": [
    "to_drop"
   ]
  },
  {
   "cell_type": "code",
   "execution_count": 80,
   "id": "64366eac",
   "metadata": {},
   "outputs": [
    {
     "name": "stderr",
     "output_type": "stream",
     "text": [
      "/var/folders/q1/5l3sndps6dj6yrp14kddr27w0000gn/T/ipykernel_3465/3638725736.py:1: SettingWithCopyWarning: \n",
      "A value is trying to be set on a copy of a slice from a DataFrame\n",
      "\n",
      "See the caveats in the documentation: https://pandas.pydata.org/pandas-docs/stable/user_guide/indexing.html#returning-a-view-versus-a-copy\n",
      "  x_variables.drop(to_drop, axis=1, inplace=True)\n"
     ]
    }
   ],
   "source": [
    "x_variables.drop(to_drop, axis=1, inplace=True)"
   ]
  },
  {
   "cell_type": "code",
   "execution_count": 81,
   "id": "6fcd21b1",
   "metadata": {},
   "outputs": [
    {
     "data": {
      "text/html": [
       "<div>\n",
       "<style scoped>\n",
       "    .dataframe tbody tr th:only-of-type {\n",
       "        vertical-align: middle;\n",
       "    }\n",
       "\n",
       "    .dataframe tbody tr th {\n",
       "        vertical-align: top;\n",
       "    }\n",
       "\n",
       "    .dataframe thead th {\n",
       "        text-align: right;\n",
       "    }\n",
       "</style>\n",
       "<table border=\"1\" class=\"dataframe\">\n",
       "  <thead>\n",
       "    <tr style=\"text-align: right;\">\n",
       "      <th></th>\n",
       "      <th>FIPSST</th>\n",
       "      <th>STRATUM</th>\n",
       "      <th>TOTKIDS_R</th>\n",
       "      <th>TENURE</th>\n",
       "      <th>HHLANGUAGE</th>\n",
       "      <th>SC_AGE_YEARS</th>\n",
       "      <th>BIRTH_MO</th>\n",
       "      <th>MOMAGE</th>\n",
       "      <th>K6Q41R_STILL</th>\n",
       "      <th>K6Q42R_NEVER</th>\n",
       "      <th>K6Q14A</th>\n",
       "    </tr>\n",
       "  </thead>\n",
       "  <tbody>\n",
       "    <tr>\n",
       "      <th>FIPSST</th>\n",
       "      <td>1.000000</td>\n",
       "      <td>-0.027317</td>\n",
       "      <td>-0.005411</td>\n",
       "      <td>0.008142</td>\n",
       "      <td>0.016729</td>\n",
       "      <td>-0.000766</td>\n",
       "      <td>-0.027006</td>\n",
       "      <td>-0.010462</td>\n",
       "      <td>-0.005613</td>\n",
       "      <td>-0.003855</td>\n",
       "      <td>-0.018561</td>\n",
       "    </tr>\n",
       "    <tr>\n",
       "      <th>STRATUM</th>\n",
       "      <td>-0.027317</td>\n",
       "      <td>1.000000</td>\n",
       "      <td>-0.039291</td>\n",
       "      <td>0.120998</td>\n",
       "      <td>0.012344</td>\n",
       "      <td>-0.036290</td>\n",
       "      <td>0.012557</td>\n",
       "      <td>-0.040898</td>\n",
       "      <td>-0.003191</td>\n",
       "      <td>-0.040108</td>\n",
       "      <td>-0.014200</td>\n",
       "    </tr>\n",
       "    <tr>\n",
       "      <th>TOTKIDS_R</th>\n",
       "      <td>-0.005411</td>\n",
       "      <td>-0.039291</td>\n",
       "      <td>1.000000</td>\n",
       "      <td>0.000486</td>\n",
       "      <td>0.005596</td>\n",
       "      <td>-0.160751</td>\n",
       "      <td>-0.004166</td>\n",
       "      <td>-0.221540</td>\n",
       "      <td>-0.014602</td>\n",
       "      <td>-0.003934</td>\n",
       "      <td>-0.007577</td>\n",
       "    </tr>\n",
       "    <tr>\n",
       "      <th>TENURE</th>\n",
       "      <td>0.008142</td>\n",
       "      <td>0.120998</td>\n",
       "      <td>0.000486</td>\n",
       "      <td>1.000000</td>\n",
       "      <td>0.060378</td>\n",
       "      <td>-0.076881</td>\n",
       "      <td>0.042095</td>\n",
       "      <td>-0.170185</td>\n",
       "      <td>-0.021942</td>\n",
       "      <td>-0.041197</td>\n",
       "      <td>-0.009792</td>\n",
       "    </tr>\n",
       "    <tr>\n",
       "      <th>HHLANGUAGE</th>\n",
       "      <td>0.016729</td>\n",
       "      <td>0.012344</td>\n",
       "      <td>0.005596</td>\n",
       "      <td>0.060378</td>\n",
       "      <td>1.000000</td>\n",
       "      <td>-0.042508</td>\n",
       "      <td>0.024069</td>\n",
       "      <td>0.022695</td>\n",
       "      <td>-0.008889</td>\n",
       "      <td>0.000941</td>\n",
       "      <td>0.005952</td>\n",
       "    </tr>\n",
       "    <tr>\n",
       "      <th>SC_AGE_YEARS</th>\n",
       "      <td>-0.000766</td>\n",
       "      <td>-0.036290</td>\n",
       "      <td>-0.160751</td>\n",
       "      <td>-0.076881</td>\n",
       "      <td>-0.042508</td>\n",
       "      <td>1.000000</td>\n",
       "      <td>0.011560</td>\n",
       "      <td>0.057973</td>\n",
       "      <td>0.324887</td>\n",
       "      <td>0.402690</td>\n",
       "      <td>0.315345</td>\n",
       "    </tr>\n",
       "    <tr>\n",
       "      <th>BIRTH_MO</th>\n",
       "      <td>-0.027006</td>\n",
       "      <td>0.012557</td>\n",
       "      <td>-0.004166</td>\n",
       "      <td>0.042095</td>\n",
       "      <td>0.024069</td>\n",
       "      <td>0.011560</td>\n",
       "      <td>1.000000</td>\n",
       "      <td>-0.020975</td>\n",
       "      <td>-0.006737</td>\n",
       "      <td>-0.014966</td>\n",
       "      <td>-0.004041</td>\n",
       "    </tr>\n",
       "    <tr>\n",
       "      <th>MOMAGE</th>\n",
       "      <td>-0.010462</td>\n",
       "      <td>-0.040898</td>\n",
       "      <td>-0.221540</td>\n",
       "      <td>-0.170185</td>\n",
       "      <td>0.022695</td>\n",
       "      <td>0.057973</td>\n",
       "      <td>-0.020975</td>\n",
       "      <td>1.000000</td>\n",
       "      <td>0.014551</td>\n",
       "      <td>0.038467</td>\n",
       "      <td>0.038869</td>\n",
       "    </tr>\n",
       "    <tr>\n",
       "      <th>K6Q41R_STILL</th>\n",
       "      <td>-0.005613</td>\n",
       "      <td>-0.003191</td>\n",
       "      <td>-0.014602</td>\n",
       "      <td>-0.021942</td>\n",
       "      <td>-0.008889</td>\n",
       "      <td>0.324887</td>\n",
       "      <td>-0.006737</td>\n",
       "      <td>0.014551</td>\n",
       "      <td>1.000000</td>\n",
       "      <td>0.815299</td>\n",
       "      <td>0.665585</td>\n",
       "    </tr>\n",
       "    <tr>\n",
       "      <th>K6Q42R_NEVER</th>\n",
       "      <td>-0.003855</td>\n",
       "      <td>-0.040108</td>\n",
       "      <td>-0.003934</td>\n",
       "      <td>-0.041197</td>\n",
       "      <td>0.000941</td>\n",
       "      <td>0.402690</td>\n",
       "      <td>-0.014966</td>\n",
       "      <td>0.038467</td>\n",
       "      <td>0.815299</td>\n",
       "      <td>1.000000</td>\n",
       "      <td>0.778246</td>\n",
       "    </tr>\n",
       "    <tr>\n",
       "      <th>K6Q14A</th>\n",
       "      <td>-0.018561</td>\n",
       "      <td>-0.014200</td>\n",
       "      <td>-0.007577</td>\n",
       "      <td>-0.009792</td>\n",
       "      <td>0.005952</td>\n",
       "      <td>0.315345</td>\n",
       "      <td>-0.004041</td>\n",
       "      <td>0.038869</td>\n",
       "      <td>0.665585</td>\n",
       "      <td>0.778246</td>\n",
       "      <td>1.000000</td>\n",
       "    </tr>\n",
       "  </tbody>\n",
       "</table>\n",
       "</div>"
      ],
      "text/plain": [
       "                FIPSST   STRATUM  TOTKIDS_R    TENURE  HHLANGUAGE  \\\n",
       "FIPSST        1.000000 -0.027317  -0.005411  0.008142    0.016729   \n",
       "STRATUM      -0.027317  1.000000  -0.039291  0.120998    0.012344   \n",
       "TOTKIDS_R    -0.005411 -0.039291   1.000000  0.000486    0.005596   \n",
       "TENURE        0.008142  0.120998   0.000486  1.000000    0.060378   \n",
       "HHLANGUAGE    0.016729  0.012344   0.005596  0.060378    1.000000   \n",
       "SC_AGE_YEARS -0.000766 -0.036290  -0.160751 -0.076881   -0.042508   \n",
       "BIRTH_MO     -0.027006  0.012557  -0.004166  0.042095    0.024069   \n",
       "MOMAGE       -0.010462 -0.040898  -0.221540 -0.170185    0.022695   \n",
       "K6Q41R_STILL -0.005613 -0.003191  -0.014602 -0.021942   -0.008889   \n",
       "K6Q42R_NEVER -0.003855 -0.040108  -0.003934 -0.041197    0.000941   \n",
       "K6Q14A       -0.018561 -0.014200  -0.007577 -0.009792    0.005952   \n",
       "\n",
       "              SC_AGE_YEARS  BIRTH_MO    MOMAGE  K6Q41R_STILL  K6Q42R_NEVER  \\\n",
       "FIPSST           -0.000766 -0.027006 -0.010462     -0.005613     -0.003855   \n",
       "STRATUM          -0.036290  0.012557 -0.040898     -0.003191     -0.040108   \n",
       "TOTKIDS_R        -0.160751 -0.004166 -0.221540     -0.014602     -0.003934   \n",
       "TENURE           -0.076881  0.042095 -0.170185     -0.021942     -0.041197   \n",
       "HHLANGUAGE       -0.042508  0.024069  0.022695     -0.008889      0.000941   \n",
       "SC_AGE_YEARS      1.000000  0.011560  0.057973      0.324887      0.402690   \n",
       "BIRTH_MO          0.011560  1.000000 -0.020975     -0.006737     -0.014966   \n",
       "MOMAGE            0.057973 -0.020975  1.000000      0.014551      0.038467   \n",
       "K6Q41R_STILL      0.324887 -0.006737  0.014551      1.000000      0.815299   \n",
       "K6Q42R_NEVER      0.402690 -0.014966  0.038467      0.815299      1.000000   \n",
       "K6Q14A            0.315345 -0.004041  0.038869      0.665585      0.778246   \n",
       "\n",
       "                K6Q14A  \n",
       "FIPSST       -0.018561  \n",
       "STRATUM      -0.014200  \n",
       "TOTKIDS_R    -0.007577  \n",
       "TENURE       -0.009792  \n",
       "HHLANGUAGE    0.005952  \n",
       "SC_AGE_YEARS  0.315345  \n",
       "BIRTH_MO     -0.004041  \n",
       "MOMAGE        0.038869  \n",
       "K6Q41R_STILL  0.665585  \n",
       "K6Q42R_NEVER  0.778246  \n",
       "K6Q14A        1.000000  "
      ]
     },
     "execution_count": 81,
     "metadata": {},
     "output_type": "execute_result"
    }
   ],
   "source": [
    "x_variables.corr()"
   ]
  },
  {
   "cell_type": "code",
   "execution_count": 82,
   "id": "f7c5038f",
   "metadata": {},
   "outputs": [
    {
     "data": {
      "text/plain": [
       "<AxesSubplot:>"
      ]
     },
     "execution_count": 82,
     "metadata": {},
     "output_type": "execute_result"
    },
    {
     "data": {
      "image/png": "[encoded data removed]",
      "text/plain": [
       "<Figure size 432x288 with 2 Axes>"
      ]
     },
     "metadata": {
      "needs_background": "light"
     },
     "output_type": "display_data"
    }
   ],
   "source": [
    "sns.heatmap(x_variables.corr())"
   ]
  },
  {
   "cell_type": "code",
   "execution_count": 83,
   "id": "bb9836ca",
   "metadata": {},
   "outputs": [],
   "source": [
    "X_train, X_test, y_train, y_test= train_test_split(x_variables, y_variables, test_size=0.20, random_state=27)"
   ]
  },
  {
   "cell_type": "code",
   "execution_count": 84,
   "id": "32624b97",
   "metadata": {},
   "outputs": [],
   "source": [
    "logreg_clf = LogisticRegression(max_iter=10000)"
   ]
  },
  {
   "cell_type": "code",
   "execution_count": 85,
   "id": "0fa04a0f",
   "metadata": {},
   "outputs": [
    {
     "data": {
      "text/plain": [
       "LogisticRegression(max_iter=10000)"
      ]
     },
     "execution_count": 85,
     "metadata": {},
     "output_type": "execute_result"
    }
   ],
   "source": [
    "logreg_clf.fit(X_train,y_train)"
   ]
  },
  {
   "cell_type": "code",
   "execution_count": 86,
   "id": "aeaaf9a3",
   "metadata": {},
   "outputs": [],
   "source": [
    "pred=logreg_clf.predict(X_test)"
   ]
  },
  {
   "cell_type": "code",
   "execution_count": 87,
   "id": "872e2b7c",
   "metadata": {},
   "outputs": [],
   "source": [
    "from sklearn.metrics import classification_report\n",
    "from sklearn.metrics import confusion_matrix\n",
    "from sklearn.metrics import accuracy_score\n",
    "from sklearn.neighbors import KNeighborsClassifier"
   ]
  },
  {
   "cell_type": "code",
   "execution_count": 88,
   "id": "4dcaed8c",
   "metadata": {},
   "outputs": [
    {
     "name": "stdout",
     "output_type": "stream",
     "text": [
      "0.9369482976040353\n"
     ]
    }
   ],
   "source": [
    "print(accuracy_score(pred, y_test))"
   ]
  },
  {
   "cell_type": "code",
   "execution_count": 89,
   "id": "de09fef9",
   "metadata": {},
   "outputs": [
    {
     "name": "stdout",
     "output_type": "stream",
     "text": [
      "[[743  50]\n",
      " [  0   0]]\n"
     ]
    }
   ],
   "source": [
    "print(confusion_matrix(pred, y_test))"
   ]
  },
  {
   "cell_type": "code",
   "execution_count": 90,
   "id": "8c6bbbd0",
   "metadata": {},
   "outputs": [
    {
     "data": {
      "text/plain": [
       "1    3673\n",
       "2     292\n",
       "Name: K2Q31B, dtype: int64"
      ]
     },
     "execution_count": 90,
     "metadata": {},
     "output_type": "execute_result"
    }
   ],
   "source": [
    "y_variables.value_counts()"
   ]
  },
  {
   "cell_type": "code",
   "execution_count": 91,
   "id": "38edb87a",
   "metadata": {},
   "outputs": [
    {
     "data": {
      "text/plain": [
       "(array([743.,   0.,   0.,   0.,   0.,   0.,   0.,   0.,   0.,  50.]),\n",
       " array([1. , 1.1, 1.2, 1.3, 1.4, 1.5, 1.6, 1.7, 1.8, 1.9, 2. ]),\n",
       " <BarContainer object of 10 artists>)"
      ]
     },
     "execution_count": 91,
     "metadata": {},
     "output_type": "execute_result"
    },
    {
     "data": {
      "image/png": "[encoded data removed]",
      "text/plain": [
       "<Figure size 432x288 with 1 Axes>"
      ]
     },
     "metadata": {
      "needs_background": "light"
     },
     "output_type": "display_data"
    }
   ],
   "source": [
    "plt.hist(y_test)"
   ]
  },
  {
   "cell_type": "code",
   "execution_count": 92,
   "id": "b82e719c",
   "metadata": {},
   "outputs": [
    {
     "data": {
      "text/plain": [
       "<AxesSubplot:>"
      ]
     },
     "execution_count": 92,
     "metadata": {},
     "output_type": "execute_result"
    },
    {
     "data": {
      "image/png": "[encoded data removed]",
      "text/plain": [
       "<Figure size 432x288 with 1 Axes>"
      ]
     },
     "metadata": {
      "needs_background": "light"
     },
     "output_type": "display_data"
    }
   ],
   "source": [
    "y_variables.hist()"
   ]
  },
  {
   "cell_type": "code",
   "execution_count": 94,
   "id": "1230dcde",
   "metadata": {},
   "outputs": [
    {
     "name": "stdout",
     "output_type": "stream",
     "text": [
      "Collecting imblearn\n",
      "  Downloading imblearn-0.0-py2.py3-none-any.whl (1.9 kB)\n",
      "Collecting imbalanced-learn\n",
      "  Downloading imbalanced_learn-0.10.1-py3-none-any.whl (226 kB)\n",
      "\u001b[K     |████████████████████████████████| 226 kB 4.3 MB/s eta 0:00:01\n",
      "\u001b[?25hCollecting joblib>=1.1.1\n",
      "  Downloading joblib-1.2.0-py3-none-any.whl (297 kB)\n",
      "\u001b[K     |████████████████████████████████| 297 kB 32.5 MB/s eta 0:00:01\n",
      "\u001b[?25hRequirement already satisfied: threadpoolctl>=2.0.0 in /Users/maryamnozari/opt/anaconda3/lib/python3.9/site-packages (from imbalanced-learn->imblearn) (2.2.0)\n",
      "Requirement already satisfied: scipy>=1.3.2 in /Users/maryamnozari/opt/anaconda3/lib/python3.9/site-packages (from imbalanced-learn->imblearn) (1.7.3)\n",
      "Requirement already satisfied: numpy>=1.17.3 in /Users/maryamnozari/opt/anaconda3/lib/python3.9/site-packages (from imbalanced-learn->imblearn) (1.21.5)\n",
      "Requirement already satisfied: scikit-learn>=1.0.2 in /Users/maryamnozari/opt/anaconda3/lib/python3.9/site-packages (from imbalanced-learn->imblearn) (1.0.2)\n",
      "Installing collected packages: joblib, imbalanced-learn, imblearn\n",
      "  Attempting uninstall: joblib\n",
      "    Found existing installation: joblib 1.1.0\n",
      "    Uninstalling joblib-1.1.0:\n",
      "      Successfully uninstalled joblib-1.1.0\n",
      "Successfully installed imbalanced-learn-0.10.1 imblearn-0.0 joblib-1.2.0\n"
     ]
    }
   ],
   "source": [
    "!pip install imblearn\n",
    "from imblearn.combine import SMOTETomek\n",
    "from imblearn.under_sampling import TomekLinks"
   ]
  },
  {
   "cell_type": "code",
   "execution_count": 95,
   "id": "d63d4e7b",
   "metadata": {},
   "outputs": [],
   "source": [
    "# Define SMOTE-Tomek Links\n",
    "resample=SMOTETomek(tomek=TomekLinks(sampling_strategy='majority'))\n",
    "X, y = resample.fit_resample(x_variables, y_variables)"
   ]
  },
  {
   "cell_type": "code",
   "execution_count": 97,
   "id": "b7fe6ce0",
   "metadata": {},
   "outputs": [
    {
     "data": {
      "text/plain": [
       "(array([3588.,    0.,    0.,    0.,    0.,    0.,    0.,    0.,    0.,\n",
       "        3673.]),\n",
       " array([1. , 1.1, 1.2, 1.3, 1.4, 1.5, 1.6, 1.7, 1.8, 1.9, 2. ]),\n",
       " <BarContainer object of 10 artists>)"
      ]
     },
     "execution_count": 97,
     "metadata": {},
     "output_type": "execute_result"
    },
    {
     "data": {
      "image/png": "[encoded data removed]",
      "text/plain": [
       "<Figure size 432x288 with 1 Axes>"
      ]
     },
     "metadata": {
      "needs_background": "light"
     },
     "output_type": "display_data"
    }
   ],
   "source": [
    "plt.hist(y)"
   ]
  },
  {
   "cell_type": "code",
   "execution_count": 98,
   "id": "554fc668",
   "metadata": {},
   "outputs": [],
   "source": [
    "X_train, X_test, y_train, y_test= train_test_split(X, y, test_size=0.20, random_state=27)"
   ]
  },
  {
   "cell_type": "code",
   "execution_count": 99,
   "id": "30eed891",
   "metadata": {},
   "outputs": [],
   "source": [
    "logreg_clf = LogisticRegression(max_iter=10000)"
   ]
  },
  {
   "cell_type": "code",
   "execution_count": 100,
   "id": "d73c4290",
   "metadata": {},
   "outputs": [
    {
     "data": {
      "text/plain": [
       "LogisticRegression(max_iter=10000)"
      ]
     },
     "execution_count": 100,
     "metadata": {},
     "output_type": "execute_result"
    }
   ],
   "source": [
    "logreg_clf.fit(X_train,y_train)"
   ]
  },
  {
   "cell_type": "code",
   "execution_count": 101,
   "id": "7c9cde29",
   "metadata": {},
   "outputs": [],
   "source": [
    "pred=logreg_clf.predict(X_test)"
   ]
  },
  {
   "cell_type": "code",
   "execution_count": 102,
   "id": "a036c93b",
   "metadata": {},
   "outputs": [
    {
     "name": "stdout",
     "output_type": "stream",
     "text": [
      "0.6558843771507227\n"
     ]
    }
   ],
   "source": [
    "print(accuracy_score(pred, y_test))"
   ]
  },
  {
   "cell_type": "code",
   "execution_count": 103,
   "id": "15d1cd91",
   "metadata": {},
   "outputs": [
    {
     "name": "stdout",
     "output_type": "stream",
     "text": [
      "[[419 197]\n",
      " [303 534]]\n"
     ]
    }
   ],
   "source": [
    "print(confusion_matrix(pred, y_test))"
   ]
  },
  {
   "cell_type": "code",
   "execution_count": 104,
   "id": "c98c4a5b",
   "metadata": {},
   "outputs": [],
   "source": [
    "KNN_model = KNeighborsClassifier(n_neighbors=5)"
   ]
  },
  {
   "cell_type": "code",
   "execution_count": 105,
   "id": "072631cc",
   "metadata": {},
   "outputs": [
    {
     "data": {
      "text/plain": [
       "KNeighborsClassifier()"
      ]
     },
     "execution_count": 105,
     "metadata": {},
     "output_type": "execute_result"
    }
   ],
   "source": [
    "KNN_model.fit(X_train,y_train)"
   ]
  },
  {
   "cell_type": "code",
   "execution_count": 106,
   "id": "b8066687",
   "metadata": {},
   "outputs": [],
   "source": [
    "pred=KNN_model.predict(X_test)"
   ]
  },
  {
   "cell_type": "code",
   "execution_count": 107,
   "id": "97bdfe69",
   "metadata": {},
   "outputs": [
    {
     "name": "stdout",
     "output_type": "stream",
     "text": [
      "0.8348245010323468\n"
     ]
    }
   ],
   "source": [
    "print(accuracy_score(pred, y_test))"
   ]
  },
  {
   "cell_type": "code",
   "execution_count": 108,
   "id": "ccba7964",
   "metadata": {},
   "outputs": [
    {
     "name": "stdout",
     "output_type": "stream",
     "text": [
      "[[489   7]\n",
      " [233 724]]\n"
     ]
    }
   ],
   "source": [
    "print(confusion_matrix(pred, y_test))"
   ]
  },
  {
   "cell_type": "code",
   "execution_count": 110,
   "id": "215f2c4f",
   "metadata": {},
   "outputs": [],
   "source": [
    "from sklearn.svm import SVC"
   ]
  },
  {
   "cell_type": "code",
   "execution_count": 113,
   "id": "69e1291d",
   "metadata": {},
   "outputs": [],
   "source": [
    "SVC_model =SVC()"
   ]
  },
  {
   "cell_type": "code",
   "execution_count": 114,
   "id": "ba79d353",
   "metadata": {},
   "outputs": [
    {
     "data": {
      "text/plain": [
       "SVC()"
      ]
     },
     "execution_count": 114,
     "metadata": {},
     "output_type": "execute_result"
    }
   ],
   "source": [
    "SVC_model.fit(X_train,y_train)"
   ]
  },
  {
   "cell_type": "code",
   "execution_count": 116,
   "id": "489d1dc9",
   "metadata": {},
   "outputs": [],
   "source": [
    "pred=SVC_model.predict(X_test)"
   ]
  },
  {
   "cell_type": "code",
   "execution_count": 117,
   "id": "cf91044f",
   "metadata": {},
   "outputs": [
    {
     "name": "stdout",
     "output_type": "stream",
     "text": [
      "0.6331727460426704\n"
     ]
    }
   ],
   "source": [
    "print(accuracy_score(pred, y_test))"
   ]
  },
  {
   "cell_type": "code",
   "execution_count": 118,
   "id": "04bdbc8d",
   "metadata": {},
   "outputs": [
    {
     "name": "stdout",
     "output_type": "stream",
     "text": [
      "[[331 142]\n",
      " [391 589]]\n"
     ]
    }
   ],
   "source": [
    "print(confusion_matrix(pred, y_test))"
   ]
  },
  {
   "cell_type": "code",
   "execution_count": 119,
   "id": "eab8361f",
   "metadata": {},
   "outputs": [],
   "source": [
    "from sklearn.ensemble import RandomForestClassifier\n",
    "from sklearn.datasets import make_classification"
   ]
  },
  {
   "cell_type": "code",
   "execution_count": 127,
   "id": "6f9e3205",
   "metadata": {},
   "outputs": [
    {
     "name": "stdout",
     "output_type": "stream",
     "text": [
      "0.9291121816930489\n",
      "[[622   3]\n",
      " [100 728]]\n"
     ]
    }
   ],
   "source": [
    "clf = RandomForestClassifier(max_depth=15, random_state=0)\n",
    "clf.fit(X, y)\n",
    "pred=clf.predict(X_test)\n",
    "print(accuracy_score(pred, y_test))\n",
    "print(confusion_matrix(pred, y_test))"
   ]
  },
  {
   "cell_type": "code",
   "execution_count": 128,
   "id": "864f83b0",
   "metadata": {},
   "outputs": [
    {
     "name": "stdout",
     "output_type": "stream",
     "text": [
      "<class 'pandas.core.frame.DataFrame'>\n",
      "Int64Index: 3965 entries, 7 to 42776\n",
      "Data columns (total 24 columns):\n",
      " #   Column          Non-Null Count  Dtype\n",
      "---  ------          --------------  -----\n",
      " 0   FIPSST          3965 non-null   int64\n",
      " 1   STRATUM         3965 non-null   int64\n",
      " 2   HHID            3965 non-null   int64\n",
      " 3   FORMTYPE        3965 non-null   int64\n",
      " 4   TOTKIDS_R       3965 non-null   int64\n",
      " 5   TENURE          3965 non-null   int64\n",
      " 6   HHLANGUAGE      3965 non-null   int64\n",
      " 7   SC_AGE_YEARS    3965 non-null   int64\n",
      " 8   SC_SEX          3965 non-null   int64\n",
      " 9   K2Q35A_1_YEARS  3965 non-null   int64\n",
      " 10  BIRTH_MO        3965 non-null   int64\n",
      " 11  BIRTH_YR        3965 non-null   int64\n",
      " 12  MOMAGE          3965 non-null   int64\n",
      " 13  K6Q41R_STILL    3965 non-null   int64\n",
      " 14  K6Q42R_NEVER    3965 non-null   int64\n",
      " 15  K6Q43R_NEVER    3965 non-null   int64\n",
      " 16  K6Q13A          3965 non-null   int64\n",
      " 17  K6Q13B          3965 non-null   int64\n",
      " 18  K6Q14A          3965 non-null   int64\n",
      " 19  K6Q14B          3965 non-null   int64\n",
      " 20  K2Q31A          3965 non-null   int64\n",
      " 21  K2Q31B          3965 non-null   int64\n",
      " 22  K2Q31D          3965 non-null   int64\n",
      " 23  ADDTREAT        3965 non-null   int64\n",
      "dtypes: int64(24)\n",
      "memory usage: 774.4 KB\n"
     ]
    }
   ],
   "source": [
    "tot.info()"
   ]
  },
  {
   "cell_type": "markdown",
   "id": "da9b00d1",
   "metadata": {},
   "source": [
    "Data Story Telling\n",
    "\n",
    "The NSCH is a national survey, funded and directed by the Health Resources and Services Administration’s Maternal and Child Health Bureau (HRSA MCHB) that provides rich data on multiple, intersecting aspects of children’s health and well-being – including physical and mental health, access to and quality of health care, and the child’s family, neighborhood, school, and social context.\n",
    "\n",
    "The NSCH is designed to produce national and state-level data on the physical and emotional health of children 0 - 17 years old in the United States."
   ]
  },
  {
   "cell_type": "code",
   "execution_count": 129,
   "id": "c05f0868",
   "metadata": {},
   "outputs": [
    {
     "data": {
      "text/plain": [
       "7         9\n",
       "21       13\n",
       "42        9\n",
       "59        8\n",
       "90       10\n",
       "         ..\n",
       "42749    16\n",
       "42762     9\n",
       "42772    13\n",
       "42774    14\n",
       "42776    15\n",
       "Name: SC_AGE_YEARS, Length: 3965, dtype: int64"
      ]
     },
     "execution_count": 129,
     "metadata": {},
     "output_type": "execute_result"
    }
   ],
   "source": [
    "tot['SC_AGE_YEARS']"
   ]
  },
  {
   "cell_type": "code",
   "execution_count": null,
   "id": "399d666f",
   "metadata": {},
   "outputs": [],
   "source": []
  }
 ],
 "metadata": {
  "kernelspec": {
   "display_name": "Python 3 (ipykernel)",
   "language": "python",
   "name": "python3"
  },
  "language_info": {
   "codemirror_mode": {
    "name": "ipython",
    "version": 3
   },
   "file_extension": ".py",
   "mimetype": "text/x-python",
   "name": "python",
   "nbconvert_exporter": "python",
   "pygments_lexer": "ipython3",
   "version": "3.9.12"
  }
 },
 "nbformat": 4,
 "nbformat_minor": 5
}
