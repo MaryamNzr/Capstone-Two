{
 "cells": [
  {
   "cell_type": "markdown",
   "id": "81439f10",
   "metadata": {},
   "source": [
    "What is the National Survey of Children’s Health (NSCH)? The NSCH is a national survey funded and directed by the Health Resources and Services Administration’s Maternal and Child Health Bureau (HRSA MCHB) that provides rich data on multiple, intersecting aspects of children’s health and well-being – including physical and mental health, access to and quality of health care, and the child’s family, neighborhood, school, and social context.\n",
    "\n",
    "What is the purpose of the National Survey of Children’s Health? The NSCH is designed to produce national and state-level data on the physical and emotional health of children 0 - 17 years old in the United States. Additionally, the NSCH provides estimates for 19 Title V Maternal and Child Health Services Block Grant National Outcome and Performance Measures, and data for each state’s Title V needs assessment.\n",
    "\n",
    "Who sponsors and conducts the National Survey of Children’s Health? The NSCH is conducted by the U.S. Census Bureau on behalf of the U.S. Department of Health and Human Services, HRSA MCHB. The U.S. Census Bureau oversees the NSCH’s sampling plan and administration by web and mail. They also collect the data and create the sampling weights. Additional funding for specific questions on the 2020 survey was provided by: Centers for Disease Control and Prevention (CDC), National Center on Birth Defects and Developmental Disabilities (NCBDDD), United States Department of Agriculture (USDA), Food and Nutrition Service.\n",
    "\n",
    "Who were the participants in the National Survey of Children’s Health? Households were randomly sampled and contacted by mail in order to identify those with one or more children under 18 years old. In households with more than one child only one was randomly selected to be the subject of the survey.\n",
    "\n",
    "The survey oversampled children with special health care needs and children 0-5 years of age. For the 2020 NSCH, a total of 42,777 surveys were completed nationally for children between the ages of 0-17 years. State range 644 to 3,039. The weighted Overall Response Rate was 42.4%. Survey data were weighted to represent the population of non-institutionalized children ages 0-17 who live in housing units nationally and in each state.\n",
    "\n",
    "How were data for the survey collected?\n",
    "\n",
    "Households received a mailed invitation asking an adult in the household who is familiar with the child’s health and health care (usually a parent) to complete a short screener questionnaire (via web or paper). The screener asked participants to identify all children ages 0-17 living in the household. If a child (or children) was reported to live in the household, participants who chose to respond online were immediately directed to a more detailed, age-specific topical questionnaire for one randomly selected child. Participants could also request a paper copy of the screener and topical questionnaire if they did not wish to complete it online. The NSCH screener and topical questionnaires were available in both English and in Spanish.\n",
    "\n",
    "Pre-survey screener: Once information on all children is gathered via the screener, one child from the household is randomly selected. The remaining questions of the survey pertain to this randomly selected child.\n",
    "\n",
    "What topics are asked about in the survey?\n",
    "\n",
    "• Child and family demographics • Children’s physical and mental health status, including health conditions and functional difficulties • Health insurance status, adequacy and type of coverage • Access to and use of health care services • Medical home • Transition to adult care • Early childhood-specific information (0-5 years) • Middle childhood and adolescent-specific information (6-17 years) • Family health and activities • Impact of child’s health on family • Parental perceptions of neighborhood and community characteristics\n",
    "\n",
    "Are data from the NSCH available to the public? • The Data Resource Center for Child and Adolescent Health (DRC) website (www.childhealthdata.org) provides quick, easy, hands-on access to 2020 NSCH survey data. The DRC’s interactive data query (www.childhealthdata.org/browse/survey) allows users to instantly access the data and compare national and state-level findings among children of different ages, race/ethnicity, income levels, health status, and many more subgroups."
   ]
  },
  {
   "cell_type": "markdown",
   "id": "e279c83e",
   "metadata": {},
   "source": [
    "Interpretation of results\n",
    "\n",
    "The respondents to the NSCH are parents or guardians who best know the child’s health. However, the results are weighted to reflect the population of children and youth ages 0–17, not parents or families. Thus, results are reported in terms of children/youth, even if the question refers to the parents or family. For example, when reporting on maternal health status, it is correct to say: “…percentage of children whose mothers are in excellent or very good health,” NOT “…percentage of mothers who are in excellent or very good health….”\n",
    "\n",
    "Additionally, it is good to keep in mind that the condition-specific information in this survey is based on parent reports, not clinical diagnosis. Height and weight information used to calculate the Body Mass Index (BMI)-for-age indicator is also derived from parent reports, not biometric measurements.\n",
    "\n",
    "Please pay careful attention to the valid denominator of responders to specific questions when interpreting results for this survey. Although most of the questions were asked for all children ages 0–17, some questions of the survey targeted specific age groups: ages 0–5, 3-5, 6–17, 10-17, and 12-17 years. In several parts of the survey, follow-up questions were asked only if parents gave a specific response to an earlier question."
   ]
  },
  {
   "cell_type": "markdown",
   "id": "c214fceb",
   "metadata": {},
   "source": [
    "CodeBook link: https://www.census.gov/data-tools/demo/uccb/nschdict"
   ]
  },
  {
   "cell_type": "code",
   "execution_count": 1,
   "id": "97ee171b",
   "metadata": {},
   "outputs": [],
   "source": [
    "#Import pandas, matplotlib.pyplot, and seaborn in the correct lines below\n",
    "import pandas as pd\n",
    "import matplotlib.pyplot as plt\n",
    "import seaborn as sns\n",
    "import os\n",
    "\n",
    "import statistics\n",
    "import numpy as np"
   ]
  },
  {
   "cell_type": "code",
   "execution_count": 2,
   "id": "6dfad979",
   "metadata": {},
   "outputs": [],
   "source": [
    "# Load the NSCH dataset into a pandas DataFrame\n",
    "nsch_data = pd.read_csv('2020 NSCH_Topical_CAHMI_DRC_Dataset.csv')"
   ]
  },
  {
   "cell_type": "markdown",
   "id": "d7e0abcd",
   "metadata": {},
   "source": [
    "To define a binary variable for the presence or absence of ADHD I use the four variables K2Q31A, K2Q31B, K2Q31C, and K2Q31D\n",
    "I followed the following steps:\n",
    "\n",
    "Start with K2Q31A, which asks whether the child has ever been diagnosed with attention-deficit/hyperactivity disorder (ADHD). Create a binary variable called \"ADHD_diagnosis\" that is coded as 1 if the answer to K2Q31A is \"yes\" and 0 if the answer is \"no\".\n",
    "\n",
    "Next, use K2Q31B to refine the ADHD diagnosis variable based on whether the child currently has ADHD. Create a binary variable called \"ADHD_current\" that is coded as 1 if the answer to K2Q31B is \"yes\" and 0 if the answer is \"no\" or \"not sure\".\n",
    "\n",
    "Use K2Q31C to further refine the ADHD variable based on the severity of the child's symptoms. Create a binary variable called \"ADHD_severity\" that is coded as 1 if the answer to K2Q31C indicates that the child has \"moderate\" or \"severe\" ADHD symptoms and 0 if the answer indicates \"mild\" symptoms or no ADHD.\n",
    "\n",
    "Finally, use K2Q31D to include information about whether the child is currently taking medication for ADHD. Create a binary variable called \"ADHD_medication\" that is coded as 1 if the answer to K2Q31D is \"yes\" and 0 if the answer is \"no\" or \"not sure\".\n",
    "\n",
    "To combine these variables into a single binary variable, you can take the logical OR of each variable, indicating the presence of ADHD if any of the variables are positive. The resulting variable would be coded as 1 if ADHD_diagnosis = 1 OR ADHD_current = 1 OR ADHD_severity = 1 OR ADHD_medication = 1, and 0 otherwise.\n",
    "\n",
    "Note that this approach assumes that each of the four variables is measuring a distinct aspect of ADHD and that each variable is equally important for defining the presence or absence of ADHD. Depending on your research question and goals, you may need to adjust the definition of the binary variable or use a different approach altogether."
   ]
  },
  {
   "cell_type": "markdown",
   "id": "a54edcc9",
   "metadata": {},
   "source": [
    "Prevalence of ADD/ADHD, age 3-17 years (ADHDind_20)\n",
    "Does this child currently have Attention Deficit Disorder (ADD) or Attention-Deficit/Hyperactivity Disorder (ADHD), age 3-17 years?\n",
    "\n",
    "\n",
    "Survey instrument item number for children 0-5 years: A30; for children 6-11 years: A30; for children 12-17 years: A30\n",
    "Variable in public use data file:\n",
    "K2Q31A; K2Q31B\n",
    "\n",
    "\n",
    "This measure is derived from responses to two questions: \n",
    "whether parents were ever told by a health care provider that the child has Attention Deficit Disorder/Attention Deficit Hyperactivity Disorder (ADD/ADHD) (K2Q31A); and, if the response to the previous question is \"Yes\", whether the child currently has the condition (K2Q31B). Respondents were grouped according to whether they currently have ADD/ADHD.\n"
   ]
  },
  {
   "cell_type": "markdown",
   "id": "4e30501e",
   "metadata": {},
   "source": [
    "COMPUTE ADHDind_20= 999.\n",
    "\n",
    "IF K2Q31A = 2 ADHDind_20= 1.\n",
    "IF K2Q31A = 1 and K2Q31B = 2 ADHDind_20= 2.\n",
    "IF K2Q31A = 1 and K2Q31B = 1 ADHDind_20= 3.\n",
    "IF K2Q31A=99 or K2Q31B=99 ADHDind_20= 99.\n",
    "IF SC_AGE_YEARS < 3 ADHDind_20= 95.\n",
    "VARIABLE LABELS ADHDind_20 \"Indicator 2.7: Children who currently have Attention Deficit Disorder (ADD) or Attention-Deficit Hyperactivity Disorder (ADHD), age 3-17 years\".\n",
    "VALUE LABELS ADHDind_20\n",
    "1 \"Does not currently have condition\"\n",
    "2 \"Ever told, but does not currently have condition\"\n",
    "3 \"Currently has condition\"\n",
    "99 \"Missing\"\n",
    "95 \"Children age 0-2 years\".\n",
    "MISSING VALUES ADHDind_20(95,99)."
   ]
  },
  {
   "cell_type": "code",
   "execution_count": 3,
   "id": "fba13015",
   "metadata": {},
   "outputs": [
    {
     "name": "stdout",
     "output_type": "stream",
     "text": [
      "0         1\n",
      "1         1\n",
      "2        95\n",
      "3         1\n",
      "4         1\n",
      "         ..\n",
      "42772     3\n",
      "42773     1\n",
      "42774     3\n",
      "42775     1\n",
      "42776     3\n",
      "Name: ADHDind_20, Length: 42777, dtype: int64\n"
     ]
    }
   ],
   "source": [
    "print(nsch_data['ADHDind_20'])"
   ]
  },
  {
   "cell_type": "code",
   "execution_count": 4,
   "id": "4e5d826a",
   "metadata": {},
   "outputs": [
    {
     "data": {
      "text/plain": [
       "1     32940\n",
       "95     5377\n",
       "3      3880\n",
       "2       319\n",
       "99      261\n",
       "Name: ADHDind_20, dtype: int64"
      ]
     },
     "execution_count": 4,
     "metadata": {},
     "output_type": "execute_result"
    }
   ],
   "source": [
    "nsch_data[\"ADHDind_20\"].value_counts()"
   ]
  },
  {
   "cell_type": "code",
   "execution_count": 5,
   "id": "14d63455",
   "metadata": {},
   "outputs": [
    {
     "data": {
      "image/png": "[encoded data removed]",
      "text/plain": [
       "<Figure size 792x576 with 1 Axes>"
      ]
     },
     "metadata": {},
     "output_type": "display_data"
    }
   ],
   "source": [
    "sns.set(rc = {'figure.figsize':(11,8)})\n",
    "sns.countplot(data=nsch_data,\n",
    "              x='ADHDind_20')\n",
    "plt.xlabel('ADHD/ADD')\n",
    "plt.ylabel('Frequency')\n",
    "plt.title('')\n",
    "sns.despine()\n",
    "plt.show()"
   ]
  },
  {
   "cell_type": "code",
   "execution_count": 6,
   "id": "05d88193",
   "metadata": {},
   "outputs": [
    {
     "name": "stdout",
     "output_type": "stream",
     "text": [
      "0    33259\n",
      "1     3880\n",
      "Name: ADHD_binary, dtype: int64\n"
     ]
    }
   ],
   "source": [
    "# create a new binary variable for ADHD\n",
    "nsch_data[\"ADHD_binary\"] = nsch_data[\"ADHDind_20\"].replace({1: 0, 2: 0, 3: 1})\n",
    "\n",
    "# drop missing values\n",
    "nsch_data = nsch_data[(nsch_data[\"ADHDind_20\"] != 95) & (nsch_data[\"ADHDind_20\"] != 99)]\n",
    "\n",
    "# check the value counts for the new binary variable\n",
    "print(nsch_data[\"ADHD_binary\"].value_counts())"
   ]
  },
  {
   "cell_type": "markdown",
   "id": "210bbe32",
   "metadata": {},
   "source": [
    "To predict the ADHD_binary variable, I select variables that are likely to be associated with ADHD or that could potentially confound the relationship between other predictors and ADHD. Here are the variables I considered:\n",
    "Age of child (SC_AGE_YEARS)\n",
    "Sex of child (K2Q01)\n",
    "Race/ethnicity (K2Q05A-K2Q05D)\n",
    "Parental education (K6Q38A-K6Q38D)\n",
    "Family income (K6Q45A-K6Q45G)\n",
    "Number of adults in household (K6Q31A-K6Q31C)\n",
    "Number of children in household (K6Q32A-K6Q32C)\n",
    "Primary language spoken in home (K6Q36)\n",
    "Whether child has health insurance (K6Q52)\n",
    "Whether child has a usual source of care (K6Q53)\n",
    "Parental report of child's overall health status (K6Q28)\n",
    "Parental report of child's mental health status (K6Q29)\n",
    "Parental report of child's emotional difficulties (K6Q27)\n",
    "Parental report of child's behavior problems (K6Q26)\n",
    "Whether child has ever been diagnosed with a developmental delay, disability, or special need (K2Q17)\n",
    "Whether child has ever been diagnosed with anxiety or depression (K2Q41)\n",
    "Whether child has ever been diagnosed with a learning disability (K2Q40)\n",
    "Whether child has ever been diagnosed with asthma (K2Q51)\n",
    "Whether child has ever been diagnosed with ADHD (ADHDind_20)\n",
    "Whether child is currently taking medication for ADHD (ADHDMed_20)\n",
    "Whether child has received behavioral treatment for ADHD (ADHDBehTreat_20)"
   ]
  },
  {
   "cell_type": "code",
   "execution_count": 7,
   "id": "8509a66e",
   "metadata": {},
   "outputs": [
    {
     "data": {
      "text/plain": [
       "4    22596\n",
       "3     8519\n",
       "2     5008\n",
       "1     1016\n",
       "Name: AdultEduc_20, dtype: int64"
      ]
     },
     "execution_count": 7,
     "metadata": {},
     "output_type": "execute_result"
    }
   ],
   "source": [
    "nsch_data['AdultEduc_20'].value_counts()\n"
   ]
  },
  {
   "cell_type": "code",
   "execution_count": 8,
   "id": "d388ef1e",
   "metadata": {},
   "outputs": [],
   "source": [
    "df = nsch_data[['ADHD_binary','BrstStop_20','MOMAGE','FIPSST','TOTKIDS_R', 'SC_AGE_YEARS', 'SC_SEX', 'SC_RACE_R', 'AdultEduc_20', 'povlev4_20', 'famstruct5_20', 'FAMCOUNT', 'HOUSE_GEN', 'HHLanguage_20', 'instype_20', 'autism_20', 'learning_20', 'bully_20', 'BedTime_20', 'anxiety_20', 'asthma_20', 'behavior_20', 'depress_20', 'speech_20']]"
   ]
  },
  {
   "cell_type": "code",
   "execution_count": 9,
   "id": "fba2999a",
   "metadata": {},
   "outputs": [
    {
     "name": "stdout",
     "output_type": "stream",
     "text": [
      "<class 'pandas.core.frame.DataFrame'>\n",
      "Int64Index: 37139 entries, 0 to 42776\n",
      "Data columns (total 24 columns):\n",
      " #   Column         Non-Null Count  Dtype\n",
      "---  ------         --------------  -----\n",
      " 0   ADHD_binary    37139 non-null  int64\n",
      " 1   BrstStop_20    37139 non-null  int64\n",
      " 2   MOMAGE         37139 non-null  int64\n",
      " 3   FIPSST         37139 non-null  int64\n",
      " 4   TOTKIDS_R      37139 non-null  int64\n",
      " 5   SC_AGE_YEARS   37139 non-null  int64\n",
      " 6   SC_SEX         37139 non-null  int64\n",
      " 7   SC_RACE_R      37139 non-null  int64\n",
      " 8   AdultEduc_20   37139 non-null  int64\n",
      " 9   povlev4_20     37139 non-null  int64\n",
      " 10  famstruct5_20  37139 non-null  int64\n",
      " 11  FAMCOUNT       37139 non-null  int64\n",
      " 12  HOUSE_GEN      37139 non-null  int64\n",
      " 13  HHLanguage_20  37139 non-null  int64\n",
      " 14  instype_20     37139 non-null  int64\n",
      " 15  autism_20      37139 non-null  int64\n",
      " 16  learning_20    37139 non-null  int64\n",
      " 17  bully_20       37139 non-null  int64\n",
      " 18  BedTime_20     37139 non-null  int64\n",
      " 19  anxiety_20     37139 non-null  int64\n",
      " 20  asthma_20      37139 non-null  int64\n",
      " 21  behavior_20    37139 non-null  int64\n",
      " 22  depress_20     37139 non-null  int64\n",
      " 23  speech_20      37139 non-null  int64\n",
      "dtypes: int64(24)\n",
      "memory usage: 7.1 MB\n"
     ]
    }
   ],
   "source": [
    "df.info()"
   ]
  },
  {
   "cell_type": "code",
   "execution_count": 10,
   "id": "600ce429",
   "metadata": {},
   "outputs": [
    {
     "name": "stderr",
     "output_type": "stream",
     "text": [
      "/var/folders/q1/5l3sndps6dj6yrp14kddr27w0000gn/T/ipykernel_1046/2877162577.py:1: SettingWithCopyWarning: \n",
      "A value is trying to be set on a copy of a slice from a DataFrame.\n",
      "Try using .loc[row_indexer,col_indexer] = value instead\n",
      "\n",
      "See the caveats in the documentation: https://pandas.pydata.org/pandas-docs/stable/user_guide/indexing.html#returning-a-view-versus-a-copy\n",
      "  df[['ADHD_binary', 'BrstStop_20','FIPSST', 'SC_SEX','SC_RACE_R', 'AdultEduc_20', 'povlev4_20', 'famstruct5_20', 'HOUSE_GEN', 'HHLanguage_20', 'instype_20', 'autism_20', 'learning_20', 'bully_20', 'BedTime_20', 'anxiety_20', 'asthma_20', 'behavior_20', 'depress_20', 'speech_20'  ]] = df[['ADHD_binary', 'BrstStop_20','FIPSST', 'SC_SEX','SC_RACE_R', 'AdultEduc_20', 'povlev4_20', 'famstruct5_20', 'HOUSE_GEN', 'HHLanguage_20', 'instype_20', 'autism_20', 'learning_20', 'bully_20', 'BedTime_20', 'anxiety_20', 'asthma_20', 'behavior_20', 'depress_20', 'speech_20'  ]].astype('category')\n"
     ]
    }
   ],
   "source": [
    "df[['ADHD_binary', 'BrstStop_20','FIPSST', 'SC_SEX','SC_RACE_R', 'AdultEduc_20', 'povlev4_20', 'famstruct5_20', 'HOUSE_GEN', 'HHLanguage_20', 'instype_20', 'autism_20', 'learning_20', 'bully_20', 'BedTime_20', 'anxiety_20', 'asthma_20', 'behavior_20', 'depress_20', 'speech_20'  ]] = df[['ADHD_binary', 'BrstStop_20','FIPSST', 'SC_SEX','SC_RACE_R', 'AdultEduc_20', 'povlev4_20', 'famstruct5_20', 'HOUSE_GEN', 'HHLanguage_20', 'instype_20', 'autism_20', 'learning_20', 'bully_20', 'BedTime_20', 'anxiety_20', 'asthma_20', 'behavior_20', 'depress_20', 'speech_20'  ]].astype('category')\n"
   ]
  },
  {
   "cell_type": "code",
   "execution_count": 11,
   "id": "d963ba26",
   "metadata": {
    "scrolled": true
   },
   "outputs": [
    {
     "data": {
      "text/plain": [
       "ADHD_binary      category\n",
       "BrstStop_20      category\n",
       "MOMAGE              int64\n",
       "FIPSST           category\n",
       "TOTKIDS_R           int64\n",
       "SC_AGE_YEARS        int64\n",
       "SC_SEX           category\n",
       "SC_RACE_R        category\n",
       "AdultEduc_20     category\n",
       "povlev4_20       category\n",
       "famstruct5_20    category\n",
       "FAMCOUNT            int64\n",
       "HOUSE_GEN        category\n",
       "HHLanguage_20    category\n",
       "instype_20       category\n",
       "autism_20        category\n",
       "learning_20      category\n",
       "bully_20         category\n",
       "BedTime_20       category\n",
       "anxiety_20       category\n",
       "asthma_20        category\n",
       "behavior_20      category\n",
       "depress_20       category\n",
       "speech_20        category\n",
       "dtype: object"
      ]
     },
     "execution_count": 11,
     "metadata": {},
     "output_type": "execute_result"
    }
   ],
   "source": [
    "df.dtypes"
   ]
  },
  {
   "cell_type": "code",
   "execution_count": 12,
   "id": "69feb019",
   "metadata": {},
   "outputs": [],
   "source": [
    "# create dummy variables for the BrstStop_20  column\n",
    "BrstStop_20_dummies = pd.get_dummies(df['BrstStop_20'], prefix='BrstStop_20')\n",
    "\n",
    "# create dummy variables for the FIPSST column\n",
    "FIPSST_dummies = pd.get_dummies(df['FIPSST'], prefix='FIPSST')\n",
    "\n",
    "# create dummy variables for the SC_SEX column\n",
    "SC_SEX_dummies = pd.get_dummies(df['SC_SEX'], prefix='SC_SEX')\n",
    "\n",
    "\n",
    "# create dummy variables for the BrstStop_20  column\n",
    "SC_RACE_R_dummies = pd.get_dummies(df['SC_RACE_R'], prefix='SC_RACE_R')\n",
    "\n",
    "# create dummy variables for the AdultEduc_20 column\n",
    "AdultEduc_20_dummies = pd.get_dummies(df['AdultEduc_20'], prefix='AdultEduc_20')\n",
    "\n",
    "# create dummy variables for the povlev4_20 column\n",
    "povlev4_20_dummies = pd.get_dummies(df['povlev4_20'], prefix='povlev4_20')\n",
    "\n",
    "\n",
    "# create dummy variables for the famstruct5_20 column\n",
    "famstruct5_20_dummies = pd.get_dummies(df['famstruct5_20'], prefix='famstruct5_20')\n",
    "\n",
    "# create dummy variables for the HOUSE_GEN column\n",
    "HOUSE_GEN_dummies = pd.get_dummies(df['HOUSE_GEN'], prefix='HOUSE_GEN')\n",
    "\n",
    "# create dummy variables for the HHLanguage_20 column\n",
    "HHLanguage_20_dummies = pd.get_dummies(df['HHLanguage_20'], prefix='HHLanguage_20')\n",
    "\n",
    "\n",
    "# create dummy variables for the instype_20 column\n",
    "instype_20_dummies = pd.get_dummies(df['instype_20'], prefix='instype_20')\n",
    "\n",
    "# create dummy variables for the autism_20 column\n",
    "autism_20_dummies = pd.get_dummies(df['autism_20'], prefix='autism_20')\n",
    "\n",
    "# create dummy variables for the learning_20 column\n",
    "learning_20_dummies = pd.get_dummies(df['learning_20'], prefix='learning_20')\n",
    "\n",
    "\n",
    "\n",
    "# create dummy variables for the bully_20 column\n",
    "bully_20_dummies = pd.get_dummies(df['bully_20'], prefix='bully_20')\n",
    "\n",
    "# create dummy variables for the BedTime_20 column\n",
    "BedTime_20_dummies = pd.get_dummies(df['BedTime_20'], prefix='BedTime_20')\n",
    "\n",
    "# create dummy variables for the anxiety_20 column\n",
    "anxiety_20_dummies = pd.get_dummies(df['anxiety_20'], prefix='anxiety_20')\n",
    "\n",
    "\n",
    "# create dummy variables for the asthma_20 column\n",
    "asthma_20_dummies = pd.get_dummies(df['asthma_20'], prefix='asthma_20')\n",
    "\n",
    "# create dummy variables for the behavior_20 column\n",
    "behavior_20_dummies = pd.get_dummies(df['behavior_20'], prefix='behavior_20')\n",
    "\n",
    "# create dummy variables for the depress_20 column\n",
    "depress_20_dummies = pd.get_dummies(df['depress_20'], prefix='depress_20')\n",
    "\n",
    "# create dummy variables for the speech_20 column\n",
    "speech_20_dummies = pd.get_dummies(df['speech_20'], prefix='speech_20')\n",
    "\n",
    "\n"
   ]
  },
  {
   "cell_type": "code",
   "execution_count": 13,
   "id": "46053d10",
   "metadata": {},
   "outputs": [],
   "source": [
    "\n",
    "# concatenate the dummy variables with the original DataFrame\n",
    "df = pd.concat([df, BrstStop_20_dummies, FIPSST_dummies, SC_SEX_dummies, SC_RACE_R_dummies, AdultEduc_20_dummies, povlev4_20_dummies, famstruct5_20_dummies, HOUSE_GEN_dummies, HHLanguage_20_dummies, instype_20_dummies, autism_20_dummies, learning_20_dummies, bully_20_dummies, BedTime_20_dummies, anxiety_20_dummies, asthma_20_dummies, behavior_20_dummies, depress_20_dummies, speech_20_dummies], axis=1)\n",
    "\n"
   ]
  },
  {
   "cell_type": "code",
   "execution_count": 14,
   "id": "afb5715c",
   "metadata": {},
   "outputs": [],
   "source": [
    "# drop the original categorical columns\n",
    "df.drop(['BrstStop_20', 'FIPSST', 'SC_SEX', 'SC_RACE_R', 'AdultEduc_20', 'povlev4_20', 'famstruct5_20', 'HOUSE_GEN', 'HHLanguage_20', 'instype_20', 'autism_20', 'learning_20', 'bully_20', 'BedTime_20', 'anxiety_20', 'asthma_20', 'behavior_20', 'depress_20', 'speech_20'], axis=1, inplace=True)\n",
    "\n"
   ]
  },
  {
   "cell_type": "code",
   "execution_count": 15,
   "id": "a42f7dc0",
   "metadata": {},
   "outputs": [
    {
     "data": {
      "text/html": [
       "<div>\n",
       "<style scoped>\n",
       "    .dataframe tbody tr th:only-of-type {\n",
       "        vertical-align: middle;\n",
       "    }\n",
       "\n",
       "    .dataframe tbody tr th {\n",
       "        vertical-align: top;\n",
       "    }\n",
       "\n",
       "    .dataframe thead th {\n",
       "        text-align: right;\n",
       "    }\n",
       "</style>\n",
       "<table border=\"1\" class=\"dataframe\">\n",
       "  <thead>\n",
       "    <tr style=\"text-align: right;\">\n",
       "      <th></th>\n",
       "      <th>ADHD_binary</th>\n",
       "      <th>MOMAGE</th>\n",
       "      <th>TOTKIDS_R</th>\n",
       "      <th>SC_AGE_YEARS</th>\n",
       "      <th>FAMCOUNT</th>\n",
       "      <th>BrstStop_20_1</th>\n",
       "      <th>BrstStop_20_2</th>\n",
       "      <th>BrstStop_20_90</th>\n",
       "      <th>BrstStop_20_95</th>\n",
       "      <th>BrstStop_20_99</th>\n",
       "      <th>...</th>\n",
       "      <th>behavior_20_3</th>\n",
       "      <th>behavior_20_99</th>\n",
       "      <th>depress_20_1</th>\n",
       "      <th>depress_20_2</th>\n",
       "      <th>depress_20_3</th>\n",
       "      <th>depress_20_99</th>\n",
       "      <th>speech_20_1</th>\n",
       "      <th>speech_20_2</th>\n",
       "      <th>speech_20_3</th>\n",
       "      <th>speech_20_99</th>\n",
       "    </tr>\n",
       "  </thead>\n",
       "  <tbody>\n",
       "    <tr>\n",
       "      <th>0</th>\n",
       "      <td>0</td>\n",
       "      <td>26</td>\n",
       "      <td>2</td>\n",
       "      <td>3</td>\n",
       "      <td>4</td>\n",
       "      <td>0</td>\n",
       "      <td>1</td>\n",
       "      <td>0</td>\n",
       "      <td>0</td>\n",
       "      <td>0</td>\n",
       "      <td>...</td>\n",
       "      <td>0</td>\n",
       "      <td>0</td>\n",
       "      <td>1</td>\n",
       "      <td>0</td>\n",
       "      <td>0</td>\n",
       "      <td>0</td>\n",
       "      <td>1</td>\n",
       "      <td>0</td>\n",
       "      <td>0</td>\n",
       "      <td>0</td>\n",
       "    </tr>\n",
       "    <tr>\n",
       "      <th>1</th>\n",
       "      <td>0</td>\n",
       "      <td>31</td>\n",
       "      <td>1</td>\n",
       "      <td>14</td>\n",
       "      <td>2</td>\n",
       "      <td>0</td>\n",
       "      <td>0</td>\n",
       "      <td>1</td>\n",
       "      <td>0</td>\n",
       "      <td>0</td>\n",
       "      <td>...</td>\n",
       "      <td>0</td>\n",
       "      <td>0</td>\n",
       "      <td>1</td>\n",
       "      <td>0</td>\n",
       "      <td>0</td>\n",
       "      <td>0</td>\n",
       "      <td>1</td>\n",
       "      <td>0</td>\n",
       "      <td>0</td>\n",
       "      <td>0</td>\n",
       "    </tr>\n",
       "    <tr>\n",
       "      <th>3</th>\n",
       "      <td>0</td>\n",
       "      <td>29</td>\n",
       "      <td>2</td>\n",
       "      <td>15</td>\n",
       "      <td>4</td>\n",
       "      <td>0</td>\n",
       "      <td>0</td>\n",
       "      <td>1</td>\n",
       "      <td>0</td>\n",
       "      <td>0</td>\n",
       "      <td>...</td>\n",
       "      <td>0</td>\n",
       "      <td>0</td>\n",
       "      <td>1</td>\n",
       "      <td>0</td>\n",
       "      <td>0</td>\n",
       "      <td>0</td>\n",
       "      <td>1</td>\n",
       "      <td>0</td>\n",
       "      <td>0</td>\n",
       "      <td>0</td>\n",
       "    </tr>\n",
       "    <tr>\n",
       "      <th>4</th>\n",
       "      <td>0</td>\n",
       "      <td>24</td>\n",
       "      <td>2</td>\n",
       "      <td>16</td>\n",
       "      <td>4</td>\n",
       "      <td>0</td>\n",
       "      <td>0</td>\n",
       "      <td>1</td>\n",
       "      <td>0</td>\n",
       "      <td>0</td>\n",
       "      <td>...</td>\n",
       "      <td>0</td>\n",
       "      <td>0</td>\n",
       "      <td>1</td>\n",
       "      <td>0</td>\n",
       "      <td>0</td>\n",
       "      <td>0</td>\n",
       "      <td>1</td>\n",
       "      <td>0</td>\n",
       "      <td>0</td>\n",
       "      <td>0</td>\n",
       "    </tr>\n",
       "    <tr>\n",
       "      <th>5</th>\n",
       "      <td>0</td>\n",
       "      <td>24</td>\n",
       "      <td>3</td>\n",
       "      <td>17</td>\n",
       "      <td>5</td>\n",
       "      <td>0</td>\n",
       "      <td>0</td>\n",
       "      <td>1</td>\n",
       "      <td>0</td>\n",
       "      <td>0</td>\n",
       "      <td>...</td>\n",
       "      <td>0</td>\n",
       "      <td>0</td>\n",
       "      <td>1</td>\n",
       "      <td>0</td>\n",
       "      <td>0</td>\n",
       "      <td>0</td>\n",
       "      <td>1</td>\n",
       "      <td>0</td>\n",
       "      <td>0</td>\n",
       "      <td>0</td>\n",
       "    </tr>\n",
       "  </tbody>\n",
       "</table>\n",
       "<p>5 rows × 136 columns</p>\n",
       "</div>"
      ],
      "text/plain": [
       "  ADHD_binary  MOMAGE  TOTKIDS_R  SC_AGE_YEARS  FAMCOUNT  BrstStop_20_1  \\\n",
       "0           0      26          2             3         4              0   \n",
       "1           0      31          1            14         2              0   \n",
       "3           0      29          2            15         4              0   \n",
       "4           0      24          2            16         4              0   \n",
       "5           0      24          3            17         5              0   \n",
       "\n",
       "   BrstStop_20_2  BrstStop_20_90  BrstStop_20_95  BrstStop_20_99  ...  \\\n",
       "0              1               0               0               0  ...   \n",
       "1              0               1               0               0  ...   \n",
       "3              0               1               0               0  ...   \n",
       "4              0               1               0               0  ...   \n",
       "5              0               1               0               0  ...   \n",
       "\n",
       "   behavior_20_3  behavior_20_99  depress_20_1  depress_20_2  depress_20_3  \\\n",
       "0              0               0             1             0             0   \n",
       "1              0               0             1             0             0   \n",
       "3              0               0             1             0             0   \n",
       "4              0               0             1             0             0   \n",
       "5              0               0             1             0             0   \n",
       "\n",
       "   depress_20_99  speech_20_1  speech_20_2  speech_20_3  speech_20_99  \n",
       "0              0            1            0            0             0  \n",
       "1              0            1            0            0             0  \n",
       "3              0            1            0            0             0  \n",
       "4              0            1            0            0             0  \n",
       "5              0            1            0            0             0  \n",
       "\n",
       "[5 rows x 136 columns]"
      ]
     },
     "execution_count": 15,
     "metadata": {},
     "output_type": "execute_result"
    }
   ],
   "source": [
    "df.head()"
   ]
  },
  {
   "cell_type": "code",
   "execution_count": 16,
   "id": "f6885fee",
   "metadata": {},
   "outputs": [
    {
     "data": {
      "text/plain": [
       "['ADHD_binary',\n",
       " 'MOMAGE',\n",
       " 'TOTKIDS_R',\n",
       " 'SC_AGE_YEARS',\n",
       " 'FAMCOUNT',\n",
       " 'BrstStop_20_1',\n",
       " 'BrstStop_20_2',\n",
       " 'BrstStop_20_90',\n",
       " 'BrstStop_20_95',\n",
       " 'BrstStop_20_99',\n",
       " 'FIPSST_1',\n",
       " 'FIPSST_2',\n",
       " 'FIPSST_4',\n",
       " 'FIPSST_5',\n",
       " 'FIPSST_6',\n",
       " 'FIPSST_8',\n",
       " 'FIPSST_9',\n",
       " 'FIPSST_10',\n",
       " 'FIPSST_11',\n",
       " 'FIPSST_12',\n",
       " 'FIPSST_13',\n",
       " 'FIPSST_15',\n",
       " 'FIPSST_16',\n",
       " 'FIPSST_17',\n",
       " 'FIPSST_18',\n",
       " 'FIPSST_19',\n",
       " 'FIPSST_20',\n",
       " 'FIPSST_21',\n",
       " 'FIPSST_22',\n",
       " 'FIPSST_23',\n",
       " 'FIPSST_24',\n",
       " 'FIPSST_25',\n",
       " 'FIPSST_26',\n",
       " 'FIPSST_27',\n",
       " 'FIPSST_28',\n",
       " 'FIPSST_29',\n",
       " 'FIPSST_30',\n",
       " 'FIPSST_31',\n",
       " 'FIPSST_32',\n",
       " 'FIPSST_33',\n",
       " 'FIPSST_34',\n",
       " 'FIPSST_35',\n",
       " 'FIPSST_36',\n",
       " 'FIPSST_37',\n",
       " 'FIPSST_38',\n",
       " 'FIPSST_39',\n",
       " 'FIPSST_40',\n",
       " 'FIPSST_41',\n",
       " 'FIPSST_42',\n",
       " 'FIPSST_44',\n",
       " 'FIPSST_45',\n",
       " 'FIPSST_46',\n",
       " 'FIPSST_47',\n",
       " 'FIPSST_48',\n",
       " 'FIPSST_49',\n",
       " 'FIPSST_50',\n",
       " 'FIPSST_51',\n",
       " 'FIPSST_53',\n",
       " 'FIPSST_54',\n",
       " 'FIPSST_55',\n",
       " 'FIPSST_56',\n",
       " 'SC_SEX_1',\n",
       " 'SC_SEX_2',\n",
       " 'SC_RACE_R_1',\n",
       " 'SC_RACE_R_2',\n",
       " 'SC_RACE_R_3',\n",
       " 'SC_RACE_R_4',\n",
       " 'SC_RACE_R_5',\n",
       " 'SC_RACE_R_7',\n",
       " 'AdultEduc_20_1',\n",
       " 'AdultEduc_20_2',\n",
       " 'AdultEduc_20_3',\n",
       " 'AdultEduc_20_4',\n",
       " 'povlev4_20_1',\n",
       " 'povlev4_20_2',\n",
       " 'povlev4_20_3',\n",
       " 'povlev4_20_4',\n",
       " 'famstruct5_20_1',\n",
       " 'famstruct5_20_2',\n",
       " 'famstruct5_20_3',\n",
       " 'famstruct5_20_4',\n",
       " 'famstruct5_20_5',\n",
       " 'famstruct5_20_99',\n",
       " 'HOUSE_GEN_1',\n",
       " 'HOUSE_GEN_2',\n",
       " 'HOUSE_GEN_3',\n",
       " 'HOUSE_GEN_4',\n",
       " 'HOUSE_GEN_99',\n",
       " 'HHLanguage_20_1',\n",
       " 'HHLanguage_20_2',\n",
       " 'HHLanguage_20_99',\n",
       " 'instype_20_1',\n",
       " 'instype_20_2',\n",
       " 'instype_20_3',\n",
       " 'instype_20_4',\n",
       " 'instype_20_99',\n",
       " 'autism_20_1',\n",
       " 'autism_20_2',\n",
       " 'autism_20_3',\n",
       " 'autism_20_99',\n",
       " 'learning_20_1',\n",
       " 'learning_20_2',\n",
       " 'learning_20_3',\n",
       " 'learning_20_99',\n",
       " 'bully_20_1',\n",
       " 'bully_20_2',\n",
       " 'bully_20_3',\n",
       " 'bully_20_4',\n",
       " 'bully_20_5',\n",
       " 'bully_20_90',\n",
       " 'bully_20_99',\n",
       " 'BedTime_20_1',\n",
       " 'BedTime_20_2',\n",
       " 'BedTime_20_3',\n",
       " 'BedTime_20_4',\n",
       " 'BedTime_20_99',\n",
       " 'anxiety_20_1',\n",
       " 'anxiety_20_2',\n",
       " 'anxiety_20_3',\n",
       " 'anxiety_20_99',\n",
       " 'asthma_20_1',\n",
       " 'asthma_20_2',\n",
       " 'asthma_20_3',\n",
       " 'asthma_20_99',\n",
       " 'behavior_20_1',\n",
       " 'behavior_20_2',\n",
       " 'behavior_20_3',\n",
       " 'behavior_20_99',\n",
       " 'depress_20_1',\n",
       " 'depress_20_2',\n",
       " 'depress_20_3',\n",
       " 'depress_20_99',\n",
       " 'speech_20_1',\n",
       " 'speech_20_2',\n",
       " 'speech_20_3',\n",
       " 'speech_20_99']"
      ]
     },
     "execution_count": 16,
     "metadata": {},
     "output_type": "execute_result"
    }
   ],
   "source": [
    "c = list(df.columns)\n",
    "c"
   ]
  },
  {
   "cell_type": "code",
   "execution_count": 17,
   "id": "59f77ca2",
   "metadata": {},
   "outputs": [],
   "source": [
    "y = df[\"ADHD_binary\"]\n",
    "\n",
    "X = df[['ADHD_binary',\n",
    " 'MOMAGE',\n",
    " 'TOTKIDS_R',\n",
    " 'SC_AGE_YEARS',\n",
    " 'FAMCOUNT',\n",
    " 'BrstStop_20_1',\n",
    " 'BrstStop_20_2',\n",
    " 'BrstStop_20_90',\n",
    " 'BrstStop_20_95',\n",
    " 'BrstStop_20_99',\n",
    " 'FIPSST_1',\n",
    " 'FIPSST_2',\n",
    " 'FIPSST_4',\n",
    " 'FIPSST_5',\n",
    " 'FIPSST_6',\n",
    " 'FIPSST_8',\n",
    " 'FIPSST_9',\n",
    " 'FIPSST_10',\n",
    " 'FIPSST_11',\n",
    " 'FIPSST_12',\n",
    " 'FIPSST_13',\n",
    " 'FIPSST_15',\n",
    " 'FIPSST_16',\n",
    " 'FIPSST_17',\n",
    " 'FIPSST_18',\n",
    " 'FIPSST_19',\n",
    " 'FIPSST_20',\n",
    " 'FIPSST_21',\n",
    " 'FIPSST_22',\n",
    " 'FIPSST_23',\n",
    " 'FIPSST_24',\n",
    " 'FIPSST_25',\n",
    " 'FIPSST_26',\n",
    " 'FIPSST_27',\n",
    " 'FIPSST_28',\n",
    " 'FIPSST_29',\n",
    " 'FIPSST_30',\n",
    " 'FIPSST_31',\n",
    " 'FIPSST_32',\n",
    " 'FIPSST_33',\n",
    " 'FIPSST_34',\n",
    " 'FIPSST_35',\n",
    " 'FIPSST_36',\n",
    " 'FIPSST_37',\n",
    " 'FIPSST_38',\n",
    " 'FIPSST_39',\n",
    " 'FIPSST_40',\n",
    " 'FIPSST_41',\n",
    " 'FIPSST_42',\n",
    " 'FIPSST_44',\n",
    " 'FIPSST_45',\n",
    " 'FIPSST_46',\n",
    " 'FIPSST_47',\n",
    " 'FIPSST_48',\n",
    " 'FIPSST_49',\n",
    " 'FIPSST_50',\n",
    " 'FIPSST_51',\n",
    " 'FIPSST_53',\n",
    " 'FIPSST_54',\n",
    " 'FIPSST_55',\n",
    " 'FIPSST_56',\n",
    " 'SC_SEX_1',\n",
    " 'SC_SEX_2',\n",
    " 'SC_RACE_R_1',\n",
    " 'SC_RACE_R_2',\n",
    " 'SC_RACE_R_3',\n",
    " 'SC_RACE_R_4',\n",
    " 'SC_RACE_R_5',\n",
    " 'SC_RACE_R_7',\n",
    " 'AdultEduc_20_1',\n",
    " 'AdultEduc_20_2',\n",
    " 'AdultEduc_20_3',\n",
    " 'AdultEduc_20_4',\n",
    " 'povlev4_20_1',\n",
    " 'povlev4_20_2',\n",
    " 'povlev4_20_3',\n",
    " 'povlev4_20_4',\n",
    " 'famstruct5_20_1',\n",
    " 'famstruct5_20_2',\n",
    " 'famstruct5_20_3',\n",
    " 'famstruct5_20_4',\n",
    " 'famstruct5_20_5',\n",
    " 'famstruct5_20_99',\n",
    " 'HOUSE_GEN_1',\n",
    " 'HOUSE_GEN_2',\n",
    " 'HOUSE_GEN_3',\n",
    " 'HOUSE_GEN_4',\n",
    " 'HOUSE_GEN_99',\n",
    " 'HHLanguage_20_1',\n",
    " 'HHLanguage_20_2',\n",
    " 'HHLanguage_20_99',\n",
    " 'instype_20_1',\n",
    " 'instype_20_2',\n",
    " 'instype_20_3',\n",
    " 'instype_20_4',\n",
    " 'instype_20_99',\n",
    " 'autism_20_1',\n",
    " 'autism_20_2',\n",
    " 'autism_20_3',\n",
    " 'autism_20_99',\n",
    " 'learning_20_1',\n",
    " 'learning_20_2',\n",
    " 'learning_20_3',\n",
    " 'learning_20_99',\n",
    " 'bully_20_1',\n",
    " 'bully_20_2',\n",
    " 'bully_20_3',\n",
    " 'bully_20_4',\n",
    " 'bully_20_5',\n",
    " 'bully_20_90',\n",
    " 'bully_20_99',\n",
    " 'BedTime_20_1',\n",
    " 'BedTime_20_2',\n",
    " 'BedTime_20_3',\n",
    " 'BedTime_20_4',\n",
    " 'BedTime_20_99',\n",
    " 'anxiety_20_1',\n",
    " 'anxiety_20_2',\n",
    " 'anxiety_20_3',\n",
    " 'anxiety_20_99',\n",
    " 'asthma_20_1',\n",
    " 'asthma_20_2',\n",
    " 'asthma_20_3',\n",
    " 'asthma_20_99',\n",
    " 'behavior_20_1',\n",
    " 'behavior_20_2',\n",
    " 'behavior_20_3',\n",
    " 'behavior_20_99',\n",
    " 'depress_20_1',\n",
    " 'depress_20_2',\n",
    " 'depress_20_3',\n",
    " 'depress_20_99',\n",
    " 'speech_20_1',\n",
    " 'speech_20_2',\n",
    " 'speech_20_3',\n",
    " 'speech_20_99']]"
   ]
  },
  {
   "cell_type": "code",
   "execution_count": 18,
   "id": "1f0f2512",
   "metadata": {},
   "outputs": [
    {
     "data": {
      "text/plain": [
       "<AxesSubplot:>"
      ]
     },
     "execution_count": 18,
     "metadata": {},
     "output_type": "execute_result"
    },
    {
     "data": {
      "image/png": "[encoded data removed]",
      "text/plain": [
       "<Figure size 792x576 with 2 Axes>"
      ]
     },
     "metadata": {},
     "output_type": "display_data"
    }
   ],
   "source": [
    "sns.heatmap(X.corr())"
   ]
  },
  {
   "cell_type": "code",
   "execution_count": 19,
   "id": "448d1263",
   "metadata": {},
   "outputs": [],
   "source": [
    "from sklearn.linear_model import LogisticRegression\n",
    "from sklearn.discriminant_analysis import LinearDiscriminantAnalysis\n",
    "from sklearn.neighbors import KNeighborsClassifier\n",
    "from sklearn.naive_bayes import GaussianNB\n",
    "from sklearn.tree import DecisionTreeClassifier\n",
    "from sklearn.svm import SVC\n",
    "from sklearn.model_selection import train_test_split, cross_validate, GridSearchCV, learning_curve\n",
    "from sklearn.metrics import classification_report\n",
    "from sklearn.metrics import confusion_matrix\n",
    "from sklearn.metrics import accuracy_score\n",
    "from sklearn.neighbors import KNeighborsClassifier\n",
    "from sklearn.svm import SVC\n",
    "from sklearn.ensemble import RandomForestClassifier\n",
    "from sklearn.datasets import make_classification"
   ]
  },
  {
   "cell_type": "code",
   "execution_count": 20,
   "id": "09441d91",
   "metadata": {},
   "outputs": [],
   "source": [
    "X_train, X_test, y_train, y_test= train_test_split(X, y, test_size=0.50, random_state=123)"
   ]
  },
  {
   "cell_type": "code",
   "execution_count": null,
   "id": "9373d06b",
   "metadata": {},
   "outputs": [],
   "source": [
    "y_test.hist()\n"
   ]
  },
  {
   "cell_type": "code",
   "execution_count": 22,
   "id": "b837ce9d",
   "metadata": {},
   "outputs": [
    {
     "data": {
      "text/plain": [
       "<AxesSubplot:>"
      ]
     },
     "execution_count": 22,
     "metadata": {},
     "output_type": "execute_result"
    },
    {
     "data": {
      "image/png": "[encoded data removed]",
      "text/plain": [
       "<Figure size 792x576 with 1 Axes>"
      ]
     },
     "metadata": {},
     "output_type": "display_data"
    }
   ],
   "source": [
    "y_train.hist()"
   ]
  },
  {
   "cell_type": "code",
   "execution_count": 23,
   "id": "f9ff0ec8",
   "metadata": {},
   "outputs": [],
   "source": [
    "logreg_clf = LogisticRegression(max_iter=10000)"
   ]
  },
  {
   "cell_type": "code",
   "execution_count": 24,
   "id": "c85df4d5",
   "metadata": {},
   "outputs": [
    {
     "data": {
      "text/plain": [
       "LogisticRegression(max_iter=10000)"
      ]
     },
     "execution_count": 24,
     "metadata": {},
     "output_type": "execute_result"
    }
   ],
   "source": [
    "logreg_clf.fit(X_train,y_train)"
   ]
  },
  {
   "cell_type": "code",
   "execution_count": 25,
   "id": "07111501",
   "metadata": {},
   "outputs": [],
   "source": [
    "pred=logreg_clf.predict(X_test)"
   ]
  },
  {
   "cell_type": "code",
   "execution_count": 26,
   "id": "4b641b9d",
   "metadata": {},
   "outputs": [
    {
     "data": {
      "text/plain": [
       "[<matplotlib.lines.Line2D at 0x7fef2302aa00>]"
      ]
     },
     "execution_count": 26,
     "metadata": {},
     "output_type": "execute_result"
    },
    {
     "data": {
      "image/png": "[encoded data removed]",
      "text/plain": [
       "<Figure size 792x576 with 1 Axes>"
      ]
     },
     "metadata": {},
     "output_type": "display_data"
    }
   ],
   "source": [
    "plt.scatter(y_test, pred)\n",
    "plt.plot(y_test, y_test)"
   ]
  },
  {
   "cell_type": "code",
   "execution_count": 27,
   "id": "56d41383",
   "metadata": {},
   "outputs": [
    {
     "name": "stdout",
     "output_type": "stream",
     "text": [
      "1.0\n"
     ]
    }
   ],
   "source": [
    "print(accuracy_score(pred, y_test))"
   ]
  },
  {
   "cell_type": "code",
   "execution_count": 28,
   "id": "03c84a0b",
   "metadata": {},
   "outputs": [
    {
     "name": "stdout",
     "output_type": "stream",
     "text": [
      "[[16683     0]\n",
      " [    0  1887]]\n"
     ]
    }
   ],
   "source": [
    "print(confusion_matrix(pred, y_test))"
   ]
  },
  {
   "cell_type": "code",
   "execution_count": 29,
   "id": "e03524c2",
   "metadata": {},
   "outputs": [],
   "source": [
    "KNN_model = KNeighborsClassifier(n_neighbors=5)"
   ]
  },
  {
   "cell_type": "code",
   "execution_count": 30,
   "id": "f03cef6f",
   "metadata": {},
   "outputs": [
    {
     "data": {
      "text/plain": [
       "KNeighborsClassifier()"
      ]
     },
     "execution_count": 30,
     "metadata": {},
     "output_type": "execute_result"
    }
   ],
   "source": [
    "KNN_model.fit(X_train,y_train)"
   ]
  },
  {
   "cell_type": "code",
   "execution_count": 31,
   "id": "be8e8f6b",
   "metadata": {},
   "outputs": [],
   "source": [
    "pred=KNN_model.predict(X_test)"
   ]
  },
  {
   "cell_type": "code",
   "execution_count": 32,
   "id": "beaaf2ea",
   "metadata": {},
   "outputs": [
    {
     "name": "stdout",
     "output_type": "stream",
     "text": [
      "0.9218093699515347\n"
     ]
    }
   ],
   "source": [
    "print(accuracy_score(pred, y_test))"
   ]
  },
  {
   "cell_type": "code",
   "execution_count": 33,
   "id": "5feb3c08",
   "metadata": {},
   "outputs": [
    {
     "name": "stdout",
     "output_type": "stream",
     "text": [
      "[[16637  1406]\n",
      " [   46   481]]\n"
     ]
    }
   ],
   "source": [
    "print(confusion_matrix(pred, y_test))"
   ]
  },
  {
   "cell_type": "code",
   "execution_count": 34,
   "id": "0d7b00ee",
   "metadata": {},
   "outputs": [
    {
     "data": {
      "text/plain": [
       "[<matplotlib.lines.Line2D at 0x7fef231ebd30>]"
      ]
     },
     "execution_count": 34,
     "metadata": {},
     "output_type": "execute_result"
    },
    {
     "data": {
      "image/png": "[encoded data removed]",
      "text/plain": [
       "<Figure size 792x576 with 1 Axes>"
      ]
     },
     "metadata": {},
     "output_type": "display_data"
    }
   ],
   "source": [
    "plt.scatter(y_test, pred)\n",
    "plt.plot(y_test, y_test)"
   ]
  },
  {
   "cell_type": "code",
   "execution_count": 35,
   "id": "539f31a4",
   "metadata": {},
   "outputs": [
    {
     "name": "stdout",
     "output_type": "stream",
     "text": [
      "0.9945072697899838\n"
     ]
    }
   ],
   "source": [
    "SVC_model= SVC()\n",
    "SVC_model.fit(X_train,y_train)\n",
    "pred=SVC_model.predict(X_test)\n",
    "print(accuracy_score(pred, y_test))"
   ]
  },
  {
   "cell_type": "code",
   "execution_count": 36,
   "id": "52a15e16",
   "metadata": {},
   "outputs": [
    {
     "name": "stdout",
     "output_type": "stream",
     "text": [
      "[[16683   102]\n",
      " [    0  1785]]\n"
     ]
    }
   ],
   "source": [
    "print(confusion_matrix(pred, y_test))"
   ]
  },
  {
   "cell_type": "code",
   "execution_count": 37,
   "id": "a7aecfd6",
   "metadata": {},
   "outputs": [
    {
     "name": "stdout",
     "output_type": "stream",
     "text": [
      "1.0\n",
      "[[16683     0]\n",
      " [    0  1887]]\n"
     ]
    }
   ],
   "source": [
    "clf = RandomForestClassifier(max_depth=15, random_state=0)\n",
    "clf.fit(X, y)\n",
    "pred=clf.predict(X_test)\n",
    "print(accuracy_score(pred, y_test))\n",
    "print(confusion_matrix(pred, y_test))"
   ]
  },
  {
   "cell_type": "code",
   "execution_count": 38,
   "id": "0c031ddb",
   "metadata": {},
   "outputs": [
    {
     "ename": "TypeError",
     "evalue": "'property' object is not subscriptable",
     "output_type": "error",
     "traceback": [
      "\u001b[0;31m---------------------------------------------------------------------------\u001b[0m",
      "\u001b[0;31mTypeError\u001b[0m                                 Traceback (most recent call last)",
      "Input \u001b[0;32mIn [38]\u001b[0m, in \u001b[0;36m<cell line: 9>\u001b[0;34m()\u001b[0m\n\u001b[1;32m      7\u001b[0m plt\u001b[38;5;241m.\u001b[39mfigure()\n\u001b[1;32m      8\u001b[0m plt\u001b[38;5;241m.\u001b[39mtitle(\u001b[38;5;124m\"\u001b[39m\u001b[38;5;124mFeature importances\u001b[39m\u001b[38;5;124m\"\u001b[39m)\n\u001b[0;32m----> 9\u001b[0m plt\u001b[38;5;241m.\u001b[39mbar(\u001b[38;5;28mrange\u001b[39m(X\u001b[38;5;241m.\u001b[39mshape[\u001b[38;5;241m1\u001b[39m]), \u001b[43mimportances\u001b[49m\u001b[43m[\u001b[49m\u001b[43mindices\u001b[49m\u001b[43m]\u001b[49m)\n\u001b[1;32m     10\u001b[0m plt\u001b[38;5;241m.\u001b[39mxticks(\u001b[38;5;28mrange\u001b[39m(X\u001b[38;5;241m.\u001b[39mshape[\u001b[38;5;241m1\u001b[39m]), X\u001b[38;5;241m.\u001b[39mcolumns[indices], rotation\u001b[38;5;241m=\u001b[39m\u001b[38;5;241m90\u001b[39m)\n\u001b[1;32m     11\u001b[0m plt\u001b[38;5;241m.\u001b[39mshow()\n",
      "\u001b[0;31mTypeError\u001b[0m: 'property' object is not subscriptable"
     ]
    },
    {
     "data": {
      "image/png": "[encoded data removed]",
      "text/plain": [
       "<Figure size 792x576 with 1 Axes>"
      ]
     },
     "metadata": {},
     "output_type": "display_data"
    }
   ],
   "source": [
    "# Get feature importances and sort them in descending order\n",
    "from sklearn.ensemble import RandomForestClassifier as rf\n",
    "\n",
    "importances = rf.feature_importances_\n",
    "indices = np.argsort(importances)[::-1]\n",
    "# Plot feature importances\n",
    "plt.figure()\n",
    "plt.title(\"Feature importances\")\n",
    "plt.bar(range(X.shape[1]), importances[indices])\n",
    "plt.xticks(range(X.shape[1]), X.columns[indices], rotation=90)\n",
    "plt.show()"
   ]
  },
  {
   "cell_type": "code",
   "execution_count": null,
   "id": "1f3b73db",
   "metadata": {},
   "outputs": [],
   "source": [
    "importances.getter"
   ]
  },
  {
   "cell_type": "code",
   "execution_count": null,
   "id": "94fbdbc9",
   "metadata": {},
   "outputs": [],
   "source": [
    "feature_names = list(X.columns)\n",
    "forest_importances = pd.Series(importances, index=feature_names)\n",
    "\n",
    "fig, ax = plt.subplots()\n",
    "forest_importances.plot.bar(yerr=std, ax=ax)\n",
    "ax.set_title(\"Feature importances using MDI\")\n",
    "ax.set_ylabel(\"Mean decrease in impurity\")\n",
    "fig.tight_layout()"
   ]
  },
  {
   "cell_type": "code",
   "execution_count": null,
   "id": "f047495f",
   "metadata": {},
   "outputs": [],
   "source": []
  },
  {
   "cell_type": "code",
   "execution_count": null,
   "id": "a957975c",
   "metadata": {},
   "outputs": [],
   "source": []
  }
 ],
 "metadata": {
  "kernelspec": {
   "display_name": "Python 3 (ipykernel)",
   "language": "python",
   "name": "python3"
  },
  "language_info": {
   "codemirror_mode": {
    "name": "ipython",
    "version": 3
   },
   "file_extension": ".py",
   "mimetype": "text/x-python",
   "name": "python",
   "nbconvert_exporter": "python",
   "pygments_lexer": "ipython3",
   "version": "3.9.12"
  }
 },
 "nbformat": 4,
 "nbformat_minor": 5
}
