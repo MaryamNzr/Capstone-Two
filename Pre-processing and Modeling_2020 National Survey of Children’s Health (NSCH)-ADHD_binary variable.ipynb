{
 "cells": [
  {
   "cell_type": "markdown",
   "id": "81439f10",
   "metadata": {},
   "source": [
    "What is the National Survey of Children’s Health (NSCH)? The NSCH is a national survey funded and directed by the Health Resources and Services Administration’s Maternal and Child Health Bureau (HRSA MCHB) that provides rich data on multiple, intersecting aspects of children’s health and well-being – including physical and mental health, access to and quality of health care, and the child’s family, neighborhood, school, and social context.\n",
    "\n",
    "What is the purpose of the National Survey of Children’s Health? The NSCH is designed to produce national and state-level data on the physical and emotional health of children 0 - 17 years old in the United States. Additionally, the NSCH provides estimates for 19 Title V Maternal and Child Health Services Block Grant National Outcome and Performance Measures, and data for each state’s Title V needs assessment.\n",
    "\n",
    "Who sponsors and conducts the National Survey of Children’s Health? The NSCH is conducted by the U.S. Census Bureau on behalf of the U.S. Department of Health and Human Services, HRSA MCHB. The U.S. Census Bureau oversees the NSCH’s sampling plan and administration by web and mail. They also collect the data and create the sampling weights. Additional funding for specific questions on the 2020 survey was provided by: Centers for Disease Control and Prevention (CDC), National Center on Birth Defects and Developmental Disabilities (NCBDDD), United States Department of Agriculture (USDA), Food and Nutrition Service.\n",
    "\n",
    "Who were the participants in the National Survey of Children’s Health? Households were randomly sampled and contacted by mail in order to identify those with one or more children under 18 years old. In households with more than one child only one was randomly selected to be the subject of the survey.\n",
    "\n",
    "The survey oversampled children with special health care needs and children 0-5 years of age. For the 2020 NSCH, a total of 42,777 surveys were completed nationally for children between the ages of 0-17 years. State range 644 to 3,039. The weighted Overall Response Rate was 42.4%. Survey data were weighted to represent the population of non-institutionalized children ages 0-17 who live in housing units nationally and in each state.\n",
    "\n",
    "How were data for the survey collected?\n",
    "\n",
    "Households received a mailed invitation asking an adult in the household who is familiar with the child’s health and health care (usually a parent) to complete a short screener questionnaire (via web or paper). The screener asked participants to identify all children ages 0-17 living in the household. If a child (or children) was reported to live in the household, participants who chose to respond online were immediately directed to a more detailed, age-specific topical questionnaire for one randomly selected child. Participants could also request a paper copy of the screener and topical questionnaire if they did not wish to complete it online. The NSCH screener and topical questionnaires were available in both English and in Spanish.\n",
    "\n",
    "Pre-survey screener: Once information on all children is gathered via the screener, one child from the household is randomly selected. The remaining questions of the survey pertain to this randomly selected child.\n",
    "\n",
    "What topics are asked about in the survey?\n",
    "\n",
    "• Child and family demographics • Children’s physical and mental health status, including health conditions and functional difficulties • Health insurance status, adequacy and type of coverage • Access to and use of health care services • Medical home • Transition to adult care • Early childhood-specific information (0-5 years) • Middle childhood and adolescent-specific information (6-17 years) • Family health and activities • Impact of child’s health on family • Parental perceptions of neighborhood and community characteristics\n",
    "\n",
    "Are data from the NSCH available to the public? • The Data Resource Center for Child and Adolescent Health (DRC) website (www.childhealthdata.org) provides quick, easy, hands-on access to 2020 NSCH survey data. The DRC’s interactive data query (www.childhealthdata.org/browse/survey) allows users to instantly access the data and compare national and state-level findings among children of different ages, race/ethnicity, income levels, health status, and many more subgroups."
   ]
  },
  {
   "cell_type": "markdown",
   "id": "e279c83e",
   "metadata": {},
   "source": [
    "Interpretation of results\n",
    "\n",
    "The respondents to the NSCH are parents or guardians who best know the child’s health. However, the results are weighted to reflect the population of children and youth ages 0–17, not parents or families. Thus, results are reported in terms of children/youth, even if the question refers to the parents or family. For example, when reporting on maternal health status, it is correct to say: “…percentage of children whose mothers are in excellent or very good health,” NOT “…percentage of mothers who are in excellent or very good health….”\n",
    "\n",
    "Additionally, it is good to keep in mind that the condition-specific information in this survey is based on parent reports, not clinical diagnosis. Height and weight information used to calculate the Body Mass Index (BMI)-for-age indicator is also derived from parent reports, not biometric measurements.\n",
    "\n",
    "Please pay careful attention to the valid denominator of responders to specific questions when interpreting results for this survey. Although most of the questions were asked for all children ages 0–17, some questions of the survey targeted specific age groups: ages 0–5, 3-5, 6–17, 10-17, and 12-17 years. In several parts of the survey, follow-up questions were asked only if parents gave a specific response to an earlier question."
   ]
  },
  {
   "cell_type": "markdown",
   "id": "c214fceb",
   "metadata": {},
   "source": [
    "CodeBook link: https://www.census.gov/data-tools/demo/uccb/nschdict"
   ]
  },
  {
   "cell_type": "code",
   "execution_count": 1,
   "id": "97ee171b",
   "metadata": {},
   "outputs": [],
   "source": [
    "#Import pandas, matplotlib.pyplot, and seaborn in the correct lines below\n",
    "import pandas as pd\n",
    "import matplotlib.pyplot as plt\n",
    "import seaborn as sns\n",
    "import os\n",
    "\n",
    "import statistics\n",
    "import numpy as np"
   ]
  },
  {
   "cell_type": "code",
   "execution_count": 2,
   "id": "6dfad979",
   "metadata": {},
   "outputs": [],
   "source": [
    "# Load the NSCH dataset into a pandas DataFrame\n",
    "nsch_data = pd.read_csv('2020 NSCH_Topical_CAHMI_DRC_Dataset.csv')"
   ]
  },
  {
   "cell_type": "markdown",
   "id": "d7e0abcd",
   "metadata": {},
   "source": [
    "To define a binary variable for the presence or absence of ADHD I use the four variables K2Q31A, K2Q31B, K2Q31C, and K2Q31D\n",
    "I followed the following steps:\n",
    "\n",
    "Start with K2Q31A, which asks whether the child has ever been diagnosed with attention-deficit/hyperactivity disorder (ADHD). Create a binary variable called \"ADHD_diagnosis\" that is coded as 1 if the answer to K2Q31A is \"yes\" and 0 if the answer is \"no\".\n",
    "\n",
    "Next, use K2Q31B to refine the ADHD diagnosis variable based on whether the child currently has ADHD. Create a binary variable called \"ADHD_current\" that is coded as 1 if the answer to K2Q31B is \"yes\" and 0 if the answer is \"no\" or \"not sure\".\n",
    "\n",
    "Use K2Q31C to further refine the ADHD variable based on the severity of the child's symptoms. Create a binary variable called \"ADHD_severity\" that is coded as 1 if the answer to K2Q31C indicates that the child has \"moderate\" or \"severe\" ADHD symptoms and 0 if the answer indicates \"mild\" symptoms or no ADHD.\n",
    "\n",
    "Finally, use K2Q31D to include information about whether the child is currently taking medication for ADHD. Create a binary variable called \"ADHD_medication\" that is coded as 1 if the answer to K2Q31D is \"yes\" and 0 if the answer is \"no\" or \"not sure\".\n",
    "\n",
    "To combine these variables into a single binary variable, you can take the logical OR of each variable, indicating the presence of ADHD if any of the variables are positive. The resulting variable would be coded as 1 if ADHD_diagnosis = 1 OR ADHD_current = 1 OR ADHD_severity = 1 OR ADHD_medication = 1, and 0 otherwise.\n",
    "\n",
    "Note that this approach assumes that each of the four variables is measuring a distinct aspect of ADHD and that each variable is equally important for defining the presence or absence of ADHD. Depending on your research question and goals, you may need to adjust the definition of the binary variable or use a different approach altogether."
   ]
  },
  {
   "cell_type": "markdown",
   "id": "a54edcc9",
   "metadata": {},
   "source": [
    "Prevalence of ADD/ADHD, age 3-17 years (ADHDind_20)\n",
    "Does this child currently have Attention Deficit Disorder (ADD) or Attention-Deficit/Hyperactivity Disorder (ADHD), age 3-17 years?\n",
    "\n",
    "\n",
    "Survey instrument item number for children 0-5 years: A30; for children 6-11 years: A30; for children 12-17 years: A30\n",
    "Variable in public use data file:\n",
    "K2Q31A; K2Q31B\n",
    "\n",
    "\n",
    "This measure is derived from responses to two questions: \n",
    "whether parents were ever told by a health care provider that the child has Attention Deficit Disorder/Attention Deficit Hyperactivity Disorder (ADD/ADHD) (K2Q31A); and, if the response to the previous question is \"Yes\", whether the child currently has the condition (K2Q31B). Respondents were grouped according to whether they currently have ADD/ADHD.\n"
   ]
  },
  {
   "cell_type": "markdown",
   "id": "4e30501e",
   "metadata": {},
   "source": [
    "COMPUTE ADHDind_20= 999.\n",
    "\n",
    "IF K2Q31A = 2 ADHDind_20= 1.\n",
    "IF K2Q31A = 1 and K2Q31B = 2 ADHDind_20= 2.\n",
    "IF K2Q31A = 1 and K2Q31B = 1 ADHDind_20= 3.\n",
    "IF K2Q31A=99 or K2Q31B=99 ADHDind_20= 99.\n",
    "IF SC_AGE_YEARS < 3 ADHDind_20= 95.\n",
    "VARIABLE LABELS ADHDind_20 \"Indicator 2.7: Children who currently have Attention Deficit Disorder (ADD) or Attention-Deficit Hyperactivity Disorder (ADHD), age 3-17 years\".\n",
    "VALUE LABELS ADHDind_20\n",
    "1 \"Does not currently have condition\"\n",
    "2 \"Ever told, but does not currently have condition\"\n",
    "3 \"Currently has condition\"\n",
    "99 \"Missing\"\n",
    "95 \"Children age 0-2 years\".\n",
    "MISSING VALUES ADHDind_20(95,99)."
   ]
  },
  {
   "cell_type": "markdown",
   "id": "c0fa80f5",
   "metadata": {},
   "source": [
    "#This measure was derived based on 10 conditions (Tourette Syndrome (3-17 years), anxiety problems (3-17 years), depression (3-17 years), behavioral and conduct problem (3-17 years), developmental delay (3-17 years), intellectual disability (3-17 years), speech or other language disorder (3-17 years), learning disability (also known as mental retardation) (3-17 years), Autism or Autism Spectrum Disorder (ASD) (3-17 years), Attention Deficit Disorder or Attention-Deficit/Hyperactivity Disorder (ADD or ADHD) (3-17 years) and the CSHCN Screener questions on mental, emotional and behavioral problems. To qualify as having a mental, emotional, developmental or behavioral problem, the child must have any of 10 conditions currently and/or qualify on the CSHCN Screener ongoing emotional, developmental or behavioral conditions criteria.\n",
    "Please note that in the NSCH, all information about children's health conditions is based on parent recollection and is not independently verified.\n",
    "\n",
    "1 \"Child has 1 or more MEDB problems, and/or qualifies on CSHCN Screener emotional, behavioral or developmental criteria\"\n",
    "2 \"Child does not currently have mental, emotional, developmental, or behavioral problems\"\n",
    "95 \"Children age 0-2 years\"\n",
    "99 \"Missing to all\"."
   ]
  },
  {
   "cell_type": "code",
   "execution_count": 3,
   "id": "95e57156",
   "metadata": {},
   "outputs": [
    {
     "name": "stdout",
     "output_type": "stream",
     "text": [
      "0         1\n",
      "1         1\n",
      "2        95\n",
      "3         1\n",
      "4         1\n",
      "         ..\n",
      "42772     3\n",
      "42773     1\n",
      "42774     3\n",
      "42775     1\n",
      "42776     3\n",
      "Name: ADHDind_20, Length: 42777, dtype: int64\n"
     ]
    }
   ],
   "source": [
    "print(nsch_data['ADHDind_20'])"
   ]
  },
  {
   "cell_type": "code",
   "execution_count": 4,
   "id": "2f237257",
   "metadata": {},
   "outputs": [
    {
     "data": {
      "text/plain": [
       "1     32940\n",
       "95     5377\n",
       "3      3880\n",
       "2       319\n",
       "99      261\n",
       "Name: ADHDind_20, dtype: int64"
      ]
     },
     "execution_count": 4,
     "metadata": {},
     "output_type": "execute_result"
    }
   ],
   "source": [
    "nsch_data[\"ADHDind_20\"].value_counts()"
   ]
  },
  {
   "cell_type": "code",
   "execution_count": 5,
   "id": "6d0cc4eb",
   "metadata": {
    "scrolled": true
   },
   "outputs": [
    {
     "data": {
      "image/png": "[encoded data removed]",
      "text/plain": [
       "<Figure size 792x576 with 1 Axes>"
      ]
     },
     "metadata": {},
     "output_type": "display_data"
    }
   ],
   "source": [
    "sns.set(rc = {'figure.figsize':(11,8)})\n",
    "sns.countplot(data=nsch_data,\n",
    "              x='ADHDind_20')\n",
    "plt.xlabel('ADHD/ADD')\n",
    "plt.ylabel('Frequency')\n",
    "plt.title('')\n",
    "sns.despine()\n",
    "plt.show()"
   ]
  },
  {
   "cell_type": "code",
   "execution_count": 6,
   "id": "c51c1157",
   "metadata": {},
   "outputs": [
    {
     "name": "stdout",
     "output_type": "stream",
     "text": [
      "0    33259\n",
      "1     3880\n",
      "Name: ADHD_binary, dtype: int64\n"
     ]
    }
   ],
   "source": [
    "# create a new binary variable for ADHD\n",
    "nsch_data[\"ADHD_binary\"] = nsch_data[\"ADHDind_20\"].replace({1: 0, 2: 0, 3: 1})\n",
    "\n",
    "# drop missing values\n",
    "nsch_data = nsch_data[(nsch_data[\"ADHDind_20\"] != 95) & (nsch_data[\"ADHDind_20\"] != 99)]\n",
    "\n",
    "# check the value counts for the new binary variable\n",
    "print(nsch_data[\"ADHD_binary\"].value_counts())"
   ]
  },
  {
   "cell_type": "code",
   "execution_count": 7,
   "id": "059c96d6",
   "metadata": {},
   "outputs": [],
   "source": [
    "\n",
    "\n",
    "df = nsch_data[['ADHD_binary','BrstStop_20','MOMAGE','FIPSST','TOTKIDS_R', 'SC_AGE_YEARS', 'SC_SEX', 'race4_20', 'AdultEduc_20', 'povlev4_20', 'PrntNativity_20', 'HHLanguage_20', 'instype_20']]\n",
    "\n"
   ]
  },
  {
   "cell_type": "code",
   "execution_count": 8,
   "id": "5cafd40a",
   "metadata": {},
   "outputs": [
    {
     "data": {
      "text/plain": [
       "4    22596\n",
       "3     8519\n",
       "2     5008\n",
       "1     1016\n",
       "Name: AdultEduc_20, dtype: int64"
      ]
     },
     "execution_count": 8,
     "metadata": {},
     "output_type": "execute_result"
    }
   ],
   "source": [
    "nsch_data['AdultEduc_20'].value_counts()"
   ]
  },
  {
   "cell_type": "code",
   "execution_count": 9,
   "id": "8509a66e",
   "metadata": {},
   "outputs": [
    {
     "data": {
      "text/plain": [
       "0        26\n",
       "1        31\n",
       "3        29\n",
       "4        24\n",
       "5        24\n",
       "         ..\n",
       "42772    21\n",
       "42773    38\n",
       "42774    39\n",
       "42775    30\n",
       "42776    27\n",
       "Name: MOMAGE, Length: 37139, dtype: int64"
      ]
     },
     "execution_count": 9,
     "metadata": {},
     "output_type": "execute_result"
    }
   ],
   "source": [
    "#MOMAGE:Age of mother when child was born\n",
    "#SC_AGE_YEARS:Age of selected child\n",
    "#FIPSST:State of Residence\n",
    "\n",
    "nsch_data['MOMAGE']\n"
   ]
  },
  {
   "cell_type": "code",
   "execution_count": 10,
   "id": "f8cd093f",
   "metadata": {},
   "outputs": [
    {
     "data": {
      "text/plain": [
       "30    2656\n",
       "32    2494\n",
       "29    2241\n",
       "34    2152\n",
       "31    2125\n",
       "28    2080\n",
       "35    2069\n",
       "33    2067\n",
       "27    1874\n",
       "26    1690\n",
       "25    1641\n",
       "36    1603\n",
       "24    1293\n",
       "38    1163\n",
       "37    1161\n",
       "23    1157\n",
       "22     913\n",
       "39     912\n",
       "18     875\n",
       "21     863\n",
       "99     839\n",
       "20     786\n",
       "40     729\n",
       "19     612\n",
       "41     392\n",
       "42     313\n",
       "43     163\n",
       "45     154\n",
       "44     122\n",
       "Name: MOMAGE, dtype: int64"
      ]
     },
     "execution_count": 10,
     "metadata": {},
     "output_type": "execute_result"
    }
   ],
   "source": [
    "#Impute Mom Age missing coded as 99 with the median\n",
    "nsch_data['MOMAGE'].value_counts()"
   ]
  },
  {
   "cell_type": "code",
   "execution_count": 11,
   "id": "fa4f299d",
   "metadata": {},
   "outputs": [],
   "source": [
    "momage_median = nsch_data.loc[nsch_data['MOMAGE'] != 99, 'MOMAGE'].median()"
   ]
  },
  {
   "cell_type": "code",
   "execution_count": 12,
   "id": "d963ba26",
   "metadata": {
    "scrolled": true
   },
   "outputs": [],
   "source": [
    "nsch_data['MOMAGE'].replace(99, momage_median, inplace= True)"
   ]
  },
  {
   "cell_type": "code",
   "execution_count": 13,
   "id": "d388ef1e",
   "metadata": {},
   "outputs": [],
   "source": [
    "\n",
    "\n",
    "\n",
    "df = nsch_data[['MEDB10ScrQ5_20','MOMAGE','FIPSST','TOTKIDS_R', 'SC_AGE_YEARS', 'SC_SEX', 'race4_20','AdultEduc_20', 'povlev4_20', 'PrntNativity_20', 'HHLanguage_20', 'instype_20', 'BedTime_20']]\n",
    "\n",
    "\n",
    "\n",
    "\n",
    "\n"
   ]
  },
  {
   "cell_type": "code",
   "execution_count": 14,
   "id": "cf866ab5",
   "metadata": {},
   "outputs": [
    {
     "data": {
      "text/plain": [
       "2     21757\n",
       "1      9348\n",
       "3      3916\n",
       "4      1648\n",
       "99      470\n",
       "Name: BedTime_20, dtype: int64"
      ]
     },
     "execution_count": 14,
     "metadata": {},
     "output_type": "execute_result"
    }
   ],
   "source": [
    "#Child goes to bed same time on weeknights (BedTime_20)\n",
    "\"\"\"How often does this child go to bed at about the same time on weeknights?\n",
    "1 \"Always\"\n",
    "2 \"Usually\"\n",
    "3 \"Sometimes\"\n",
    "4 \"Rarely or never\"\n",
    "99 \"Missing\".\"\"\"\n",
    "nsch_data['BedTime_20'].value_counts()"
   ]
  },
  {
   "cell_type": "code",
   "execution_count": 15,
   "id": "4e6d9dab",
   "metadata": {},
   "outputs": [],
   "source": [
    "# Imputing the 99 values in \"BedTime_20\" with median.\n",
    "BedTime_20_median = nsch_data.loc[nsch_data['BedTime_20'] != 99, 'BedTime_20'].median()\n",
    "nsch_data['BedTime_20'].replace(99, BedTime_20_median, inplace= True)"
   ]
  },
  {
   "cell_type": "code",
   "execution_count": 16,
   "id": "71cc7190",
   "metadata": {},
   "outputs": [
    {
     "data": {
      "text/plain": [
       "2     25581\n",
       "1      7673\n",
       "4      1850\n",
       "3      1497\n",
       "99      538\n",
       "Name: instype_20, dtype: int64"
      ]
     },
     "execution_count": 16,
     "metadata": {},
     "output_type": "execute_result"
    }
   ],
   "source": [
    "#Type of health insurance (InsType_20):\n",
    "\"\"\"What type of health insurance coverage, if any, did the child have at the time of the survey?\n",
    "1 \"Public health insurance only\"\n",
    "2 \"Private health insurance only\"\n",
    "3 \"Public and private insurance\"\n",
    "4 \"Uninsured\"\n",
    "99 \"Missing\".\"\"\"\n",
    "\n",
    "nsch_data['instype_20'].value_counts()\n",
    "\n",
    "\n"
   ]
  },
  {
   "cell_type": "code",
   "execution_count": 17,
   "id": "bd96a3fd",
   "metadata": {},
   "outputs": [],
   "source": [
    "# Imputing the 99 values in \"instype_20_median\" with median.\n",
    "instype_20_median = nsch_data.loc[nsch_data['instype_20'] != 99, 'instype_20'].median()\n",
    "nsch_data['instype_20'].replace(99, instype_20_median, inplace= True)"
   ]
  },
  {
   "cell_type": "code",
   "execution_count": 18,
   "id": "7fec04ed",
   "metadata": {},
   "outputs": [
    {
     "data": {
      "text/plain": [
       "1     34383\n",
       "2      2625\n",
       "99      131\n",
       "Name: HHLanguage_20, dtype: int64"
      ]
     },
     "execution_count": 18,
     "metadata": {},
     "output_type": "execute_result"
    }
   ],
   "source": [
    "#Primary household language (HHLanguage_20)\n",
    "\"\"\"1 \"English\"\n",
    "2 \"Other than English\"\n",
    "99 \"Missing\".\"\"\"\n",
    "\n",
    "nsch_data['HHLanguage_20'].value_counts()"
   ]
  },
  {
   "cell_type": "code",
   "execution_count": 19,
   "id": "3d9ff575",
   "metadata": {},
   "outputs": [],
   "source": [
    "# Imputing the 99 values in \"HHLanguage_20\" with median.\n",
    "HHLanguage_20_median = nsch_data.loc[nsch_data['HHLanguage_20'] != 99, 'HHLanguage_20'].median()\n",
    "nsch_data['HHLanguage_20'].replace(99, HHLanguage_20_median, inplace= True)"
   ]
  },
  {
   "cell_type": "code",
   "execution_count": 20,
   "id": "8c4c6431",
   "metadata": {},
   "outputs": [
    {
     "data": {
      "text/plain": [
       "1     28010\n",
       "2      6547\n",
       "3      1945\n",
       "99      637\n",
       "Name: PrntNativity_20, dtype: int64"
      ]
     },
     "execution_count": 20,
     "metadata": {},
     "output_type": "execute_result"
    }
   ],
   "source": [
    "\"\"\"PrntNativity_20 \"Generational status of the parents\".1 \"All parents born in the U.S. (3rd or higher generation HH)\"\n",
    "2 \"Any parent born outside of the U.S. (1st and 2nd generation HH)\"\n",
    "3 \"Other (child born in United States, parents are not listed)\"\n",
    "99 \"Missing\".\"\"\"\n",
    "\n",
    "nsch_data['PrntNativity_20'].value_counts()"
   ]
  },
  {
   "cell_type": "code",
   "execution_count": 21,
   "id": "b8954b4b",
   "metadata": {},
   "outputs": [],
   "source": [
    "# Imputing the 99 values in \"PrntNativity_20\" with median.\n",
    "PrntNativity_20_median = nsch_data.loc[nsch_data['PrntNativity_20'] != 99, 'PrntNativity_20'].median()\n",
    "nsch_data['PrntNativity_20'].replace(99, PrntNativity_20_median, inplace= True)"
   ]
  },
  {
   "cell_type": "code",
   "execution_count": 22,
   "id": "02617852",
   "metadata": {},
   "outputs": [
    {
     "data": {
      "text/plain": [
       "4     13765\n",
       "3     10528\n",
       "5      6174\n",
       "2      2778\n",
       "6      2059\n",
       "99     1150\n",
       "7       454\n",
       "8       200\n",
       "1        31\n",
       "Name: FAMCOUNT, dtype: int64"
      ]
     },
     "execution_count": 22,
     "metadata": {},
     "output_type": "execute_result"
    }
   ],
   "source": [
    "#We droped this columns bacouse of 1175 missing values.\n",
    "nsch_data['FAMCOUNT'].value_counts()"
   ]
  },
  {
   "cell_type": "code",
   "execution_count": 23,
   "id": "4793907b",
   "metadata": {},
   "outputs": [
    {
     "data": {
      "text/plain": [
       "1     24934\n",
       "3      7908\n",
       "2      1941\n",
       "4      1046\n",
       "99      973\n",
       "5       337\n",
       "Name: famstruct5_20, dtype: int64"
      ]
     },
     "execution_count": 23,
     "metadata": {},
     "output_type": "execute_result"
    }
   ],
   "source": [
    "#We droped this columns bacouse of 991 missing values.\n",
    "\"\"\"Family structure of child's household (famstruct5_20)\n",
    "1 \"Two parents, currently married\"\n",
    "2 \"Two parents, not currently married\"\n",
    "3 \"Single parent (mother or father)\"\n",
    "4 \"Grandparent household\"\n",
    "5 \"Other family type\"\"\"\n",
    "nsch_data['famstruct5_20'].value_counts()"
   ]
  },
  {
   "cell_type": "code",
   "execution_count": 24,
   "id": "e5abed91",
   "metadata": {},
   "outputs": [
    {
     "data": {
      "text/plain": [
       "4    14941\n",
       "3    11287\n",
       "2     6293\n",
       "1     4618\n",
       "Name: povlev4_20, dtype: int64"
      ]
     },
     "execution_count": 24,
     "metadata": {},
     "output_type": "execute_result"
    }
   ],
   "source": [
    "\"\"\"povlev4_20 \"Income based on federal poverty level status\".\n",
    "1 \"0-99% FPL\"\n",
    "2 \"100-199% FPL\"\n",
    "3 \"200-399% FPL\"\n",
    "4 \"400% FPL or greater\".\"\"\"\n",
    "nsch_data['povlev4_20'].value_counts()"
   ]
  },
  {
   "cell_type": "code",
   "execution_count": 25,
   "id": "b448d852",
   "metadata": {},
   "outputs": [
    {
     "data": {
      "text/plain": [
       "4    22596\n",
       "3     8519\n",
       "2     5008\n",
       "1     1016\n",
       "Name: AdultEduc_20, dtype: int64"
      ]
     },
     "execution_count": 25,
     "metadata": {},
     "output_type": "execute_result"
    }
   ],
   "source": [
    "\"\"\"What is the highest education of adult in this child's household? 1 \"Less than high school\"\n",
    "2 \"High school or GED\"\n",
    "3 \"Some college or technical school\"\n",
    "4 \"College degree or higher\"\"\"\n",
    "nsch_data['AdultEduc_20'].value_counts()"
   ]
  },
  {
   "cell_type": "code",
   "execution_count": 26,
   "id": "f50aa951",
   "metadata": {},
   "outputs": [
    {
     "data": {
      "text/plain": [
       "1    15103\n",
       "2    14834\n",
       "3     5062\n",
       "4     2140\n",
       "Name: TOTKIDS_R, dtype: int64"
      ]
     },
     "execution_count": 26,
     "metadata": {},
     "output_type": "execute_result"
    }
   ],
   "source": [
    "'''TOTKIDS_R = Number of children living in the household(1 = 1; 2 = 2; 3 = 3; 4 = 4+)'''\n",
    "nsch_data['TOTKIDS_R'].value_counts()"
   ]
  },
  {
   "cell_type": "code",
   "execution_count": 27,
   "id": "fba2999a",
   "metadata": {},
   "outputs": [
    {
     "data": {
      "text/plain": [
       "1    19153\n",
       "2    17986\n",
       "Name: SC_SEX, dtype: int64"
      ]
     },
     "execution_count": 27,
     "metadata": {},
     "output_type": "execute_result"
    }
   ],
   "source": [
    "'''SC_SEX = 1 \"Male\"; 2 \"Female\"'''\n",
    "nsch_data['SC_SEX'].value_counts()"
   ]
  },
  {
   "cell_type": "code",
   "execution_count": 28,
   "id": "b78bc81b",
   "metadata": {},
   "outputs": [
    {
     "data": {
      "text/plain": [
       "2    24563\n",
       "4     4988\n",
       "1     4988\n",
       "3     2600\n",
       "Name: race4_20, dtype: int64"
      ]
     },
     "execution_count": 28,
     "metadata": {},
     "output_type": "execute_result"
    }
   ],
   "source": [
    "\"\"\"Race and ethnicity distribution of the child population\n",
    "1 \"Hispanic\"\n",
    "2 \"White, non-Hispanic\"\n",
    "3 \"Black, non-Hispanic\"\n",
    "4 \"Other/Multi-racial, non-Hispanic\"\"\"\n",
    "nsch_data['race4_20'].value_counts()"
   ]
  },
  {
   "cell_type": "code",
   "execution_count": 29,
   "id": "600ce429",
   "metadata": {},
   "outputs": [],
   "source": [
    "\n",
    "\n",
    "\n",
    "df = nsch_data[['ADHD_binary','MOMAGE','FIPSST','TOTKIDS_R', 'SC_AGE_YEARS', 'SC_SEX', 'race4_20','AdultEduc_20', 'povlev4_20', 'PrntNativity_20', 'HHLanguage_20', 'instype_20', 'BedTime_20']]\n"
   ]
  },
  {
   "cell_type": "code",
   "execution_count": 30,
   "id": "8430d6ff",
   "metadata": {},
   "outputs": [],
   "source": [
    "categorical_columns_name= ['FIPSST','SC_SEX', 'race4_20', 'AdultEduc_20', 'povlev4_20', 'PrntNativity_20',\n",
    "       'HHLanguage_20', 'instype_20', 'BedTime_20']"
   ]
  },
  {
   "cell_type": "code",
   "execution_count": 31,
   "id": "9cf474ff",
   "metadata": {},
   "outputs": [
    {
     "name": "stderr",
     "output_type": "stream",
     "text": [
      "/var/folders/q1/5l3sndps6dj6yrp14kddr27w0000gn/T/ipykernel_7850/173968123.py:1: SettingWithCopyWarning: \n",
      "A value is trying to be set on a copy of a slice from a DataFrame.\n",
      "Try using .loc[row_indexer,col_indexer] = value instead\n",
      "\n",
      "See the caveats in the documentation: https://pandas.pydata.org/pandas-docs/stable/user_guide/indexing.html#returning-a-view-versus-a-copy\n",
      "  df[categorical_columns_name]= df[categorical_columns_name].astype('category')\n"
     ]
    }
   ],
   "source": [
    "\n",
    "df[categorical_columns_name]= df[categorical_columns_name].astype('category')\n"
   ]
  },
  {
   "cell_type": "code",
   "execution_count": 32,
   "id": "a999d36b",
   "metadata": {
    "scrolled": true
   },
   "outputs": [
    {
     "name": "stdout",
     "output_type": "stream",
     "text": [
      "<class 'pandas.core.frame.DataFrame'>\n",
      "Int64Index: 37139 entries, 0 to 42776\n",
      "Data columns (total 13 columns):\n",
      " #   Column           Non-Null Count  Dtype   \n",
      "---  ------           --------------  -----   \n",
      " 0   ADHD_binary      37139 non-null  int64   \n",
      " 1   MOMAGE           37139 non-null  int64   \n",
      " 2   FIPSST           37139 non-null  category\n",
      " 3   TOTKIDS_R        37139 non-null  int64   \n",
      " 4   SC_AGE_YEARS     37139 non-null  int64   \n",
      " 5   SC_SEX           37139 non-null  category\n",
      " 6   race4_20         37139 non-null  category\n",
      " 7   AdultEduc_20     37139 non-null  category\n",
      " 8   povlev4_20       37139 non-null  category\n",
      " 9   PrntNativity_20  37139 non-null  category\n",
      " 10  HHLanguage_20    37139 non-null  category\n",
      " 11  instype_20       37139 non-null  category\n",
      " 12  BedTime_20       37139 non-null  category\n",
      "dtypes: category(9), int64(4)\n",
      "memory usage: 1.7 MB\n"
     ]
    }
   ],
   "source": [
    "df.info()"
   ]
  },
  {
   "cell_type": "code",
   "execution_count": 33,
   "id": "ea34ca34",
   "metadata": {
    "scrolled": true
   },
   "outputs": [
    {
     "data": {
      "text/plain": [
       "Index(['ADHD_binary', 'MOMAGE', 'FIPSST', 'TOTKIDS_R', 'SC_AGE_YEARS',\n",
       "       'SC_SEX', 'race4_20', 'AdultEduc_20', 'povlev4_20', 'PrntNativity_20',\n",
       "       'HHLanguage_20', 'instype_20', 'BedTime_20'],\n",
       "      dtype='object')"
      ]
     },
     "execution_count": 33,
     "metadata": {},
     "output_type": "execute_result"
    }
   ],
   "source": [
    "df.columns"
   ]
  },
  {
   "cell_type": "code",
   "execution_count": 34,
   "id": "6a9cc91a",
   "metadata": {},
   "outputs": [],
   "source": [
    "# Creating get dummies for categorical comments\n",
    "new_df = pd.get_dummies(df[categorical_columns_name])"
   ]
  },
  {
   "cell_type": "code",
   "execution_count": 35,
   "id": "6a570bbe",
   "metadata": {},
   "outputs": [],
   "source": [
    "# create dummy variables for categorical columns\n",
    "\n",
    "df= pd.concat([df, new_df], axis=1)"
   ]
  },
  {
   "cell_type": "code",
   "execution_count": 36,
   "id": "afb5715c",
   "metadata": {},
   "outputs": [],
   "source": [
    "# drop the original categorical columns\n",
    "df.drop(categorical_columns_name, axis=1, inplace=True)\n",
    "\n"
   ]
  },
  {
   "cell_type": "code",
   "execution_count": 37,
   "id": "1e18eeb7",
   "metadata": {},
   "outputs": [
    {
     "data": {
      "text/html": [
       "<div>\n",
       "<style scoped>\n",
       "    .dataframe tbody tr th:only-of-type {\n",
       "        vertical-align: middle;\n",
       "    }\n",
       "\n",
       "    .dataframe tbody tr th {\n",
       "        vertical-align: top;\n",
       "    }\n",
       "\n",
       "    .dataframe thead th {\n",
       "        text-align: right;\n",
       "    }\n",
       "</style>\n",
       "<table border=\"1\" class=\"dataframe\">\n",
       "  <thead>\n",
       "    <tr style=\"text-align: right;\">\n",
       "      <th></th>\n",
       "      <th>ADHD_binary</th>\n",
       "      <th>MOMAGE</th>\n",
       "      <th>TOTKIDS_R</th>\n",
       "      <th>SC_AGE_YEARS</th>\n",
       "      <th>FIPSST_1</th>\n",
       "      <th>FIPSST_2</th>\n",
       "      <th>FIPSST_4</th>\n",
       "      <th>FIPSST_5</th>\n",
       "      <th>FIPSST_6</th>\n",
       "      <th>FIPSST_8</th>\n",
       "      <th>...</th>\n",
       "      <th>HHLanguage_20_1</th>\n",
       "      <th>HHLanguage_20_2</th>\n",
       "      <th>instype_20_1</th>\n",
       "      <th>instype_20_2</th>\n",
       "      <th>instype_20_3</th>\n",
       "      <th>instype_20_4</th>\n",
       "      <th>BedTime_20_1</th>\n",
       "      <th>BedTime_20_2</th>\n",
       "      <th>BedTime_20_3</th>\n",
       "      <th>BedTime_20_4</th>\n",
       "    </tr>\n",
       "  </thead>\n",
       "  <tbody>\n",
       "    <tr>\n",
       "      <th>0</th>\n",
       "      <td>0</td>\n",
       "      <td>26</td>\n",
       "      <td>2</td>\n",
       "      <td>3</td>\n",
       "      <td>0</td>\n",
       "      <td>0</td>\n",
       "      <td>0</td>\n",
       "      <td>0</td>\n",
       "      <td>0</td>\n",
       "      <td>0</td>\n",
       "      <td>...</td>\n",
       "      <td>1</td>\n",
       "      <td>0</td>\n",
       "      <td>0</td>\n",
       "      <td>1</td>\n",
       "      <td>0</td>\n",
       "      <td>0</td>\n",
       "      <td>1</td>\n",
       "      <td>0</td>\n",
       "      <td>0</td>\n",
       "      <td>0</td>\n",
       "    </tr>\n",
       "    <tr>\n",
       "      <th>1</th>\n",
       "      <td>0</td>\n",
       "      <td>31</td>\n",
       "      <td>1</td>\n",
       "      <td>14</td>\n",
       "      <td>0</td>\n",
       "      <td>0</td>\n",
       "      <td>0</td>\n",
       "      <td>0</td>\n",
       "      <td>0</td>\n",
       "      <td>0</td>\n",
       "      <td>...</td>\n",
       "      <td>1</td>\n",
       "      <td>0</td>\n",
       "      <td>0</td>\n",
       "      <td>1</td>\n",
       "      <td>0</td>\n",
       "      <td>0</td>\n",
       "      <td>0</td>\n",
       "      <td>1</td>\n",
       "      <td>0</td>\n",
       "      <td>0</td>\n",
       "    </tr>\n",
       "    <tr>\n",
       "      <th>3</th>\n",
       "      <td>0</td>\n",
       "      <td>29</td>\n",
       "      <td>2</td>\n",
       "      <td>15</td>\n",
       "      <td>0</td>\n",
       "      <td>0</td>\n",
       "      <td>0</td>\n",
       "      <td>0</td>\n",
       "      <td>0</td>\n",
       "      <td>0</td>\n",
       "      <td>...</td>\n",
       "      <td>1</td>\n",
       "      <td>0</td>\n",
       "      <td>0</td>\n",
       "      <td>1</td>\n",
       "      <td>0</td>\n",
       "      <td>0</td>\n",
       "      <td>0</td>\n",
       "      <td>0</td>\n",
       "      <td>1</td>\n",
       "      <td>0</td>\n",
       "    </tr>\n",
       "    <tr>\n",
       "      <th>4</th>\n",
       "      <td>0</td>\n",
       "      <td>24</td>\n",
       "      <td>2</td>\n",
       "      <td>16</td>\n",
       "      <td>0</td>\n",
       "      <td>0</td>\n",
       "      <td>0</td>\n",
       "      <td>0</td>\n",
       "      <td>0</td>\n",
       "      <td>0</td>\n",
       "      <td>...</td>\n",
       "      <td>1</td>\n",
       "      <td>0</td>\n",
       "      <td>0</td>\n",
       "      <td>1</td>\n",
       "      <td>0</td>\n",
       "      <td>0</td>\n",
       "      <td>0</td>\n",
       "      <td>1</td>\n",
       "      <td>0</td>\n",
       "      <td>0</td>\n",
       "    </tr>\n",
       "    <tr>\n",
       "      <th>5</th>\n",
       "      <td>0</td>\n",
       "      <td>24</td>\n",
       "      <td>3</td>\n",
       "      <td>17</td>\n",
       "      <td>0</td>\n",
       "      <td>0</td>\n",
       "      <td>0</td>\n",
       "      <td>0</td>\n",
       "      <td>0</td>\n",
       "      <td>0</td>\n",
       "      <td>...</td>\n",
       "      <td>1</td>\n",
       "      <td>0</td>\n",
       "      <td>0</td>\n",
       "      <td>1</td>\n",
       "      <td>0</td>\n",
       "      <td>0</td>\n",
       "      <td>1</td>\n",
       "      <td>0</td>\n",
       "      <td>0</td>\n",
       "      <td>0</td>\n",
       "    </tr>\n",
       "  </tbody>\n",
       "</table>\n",
       "<p>5 rows × 82 columns</p>\n",
       "</div>"
      ],
      "text/plain": [
       "   ADHD_binary  MOMAGE  TOTKIDS_R  SC_AGE_YEARS  FIPSST_1  FIPSST_2  FIPSST_4  \\\n",
       "0            0      26          2             3         0         0         0   \n",
       "1            0      31          1            14         0         0         0   \n",
       "3            0      29          2            15         0         0         0   \n",
       "4            0      24          2            16         0         0         0   \n",
       "5            0      24          3            17         0         0         0   \n",
       "\n",
       "   FIPSST_5  FIPSST_6  FIPSST_8  ...  HHLanguage_20_1  HHLanguage_20_2  \\\n",
       "0         0         0         0  ...                1                0   \n",
       "1         0         0         0  ...                1                0   \n",
       "3         0         0         0  ...                1                0   \n",
       "4         0         0         0  ...                1                0   \n",
       "5         0         0         0  ...                1                0   \n",
       "\n",
       "   instype_20_1  instype_20_2  instype_20_3  instype_20_4  BedTime_20_1  \\\n",
       "0             0             1             0             0             1   \n",
       "1             0             1             0             0             0   \n",
       "3             0             1             0             0             0   \n",
       "4             0             1             0             0             0   \n",
       "5             0             1             0             0             1   \n",
       "\n",
       "   BedTime_20_2  BedTime_20_3  BedTime_20_4  \n",
       "0             0             0             0  \n",
       "1             1             0             0  \n",
       "3             0             1             0  \n",
       "4             1             0             0  \n",
       "5             0             0             0  \n",
       "\n",
       "[5 rows x 82 columns]"
      ]
     },
     "execution_count": 37,
     "metadata": {},
     "output_type": "execute_result"
    }
   ],
   "source": [
    "df.head()"
   ]
  },
  {
   "cell_type": "code",
   "execution_count": 38,
   "id": "566aa5ae",
   "metadata": {},
   "outputs": [
    {
     "data": {
      "text/plain": [
       "<AxesSubplot:>"
      ]
     },
     "execution_count": 38,
     "metadata": {},
     "output_type": "execute_result"
    },
    {
     "data": {
      "image/png": "[encoded data removed]",
      "text/plain": [
       "<Figure size 792x576 with 2 Axes>"
      ]
     },
     "metadata": {},
     "output_type": "display_data"
    }
   ],
   "source": [
    "sns.heatmap(df.corr())\n"
   ]
  },
  {
   "cell_type": "code",
   "execution_count": 39,
   "id": "dad0d860",
   "metadata": {},
   "outputs": [],
   "source": [
    "#We scaled Momage and child age coloums. \n",
    "\n",
    "from sklearn.preprocessing import StandardScaler\n",
    "sc = StandardScaler()\n",
    "df[['MOMAGE', 'SC_AGE_YEARS']] = sc.fit_transform(df[['MOMAGE', 'SC_AGE_YEARS']])"
   ]
  },
  {
   "cell_type": "code",
   "execution_count": 40,
   "id": "a42f7dc0",
   "metadata": {},
   "outputs": [
    {
     "data": {
      "text/html": [
       "<div>\n",
       "<style scoped>\n",
       "    .dataframe tbody tr th:only-of-type {\n",
       "        vertical-align: middle;\n",
       "    }\n",
       "\n",
       "    .dataframe tbody tr th {\n",
       "        vertical-align: top;\n",
       "    }\n",
       "\n",
       "    .dataframe thead th {\n",
       "        text-align: right;\n",
       "    }\n",
       "</style>\n",
       "<table border=\"1\" class=\"dataframe\">\n",
       "  <thead>\n",
       "    <tr style=\"text-align: right;\">\n",
       "      <th></th>\n",
       "      <th>ADHD_binary</th>\n",
       "      <th>MOMAGE</th>\n",
       "      <th>TOTKIDS_R</th>\n",
       "      <th>SC_AGE_YEARS</th>\n",
       "      <th>FIPSST_1</th>\n",
       "      <th>FIPSST_2</th>\n",
       "      <th>FIPSST_4</th>\n",
       "      <th>FIPSST_5</th>\n",
       "      <th>FIPSST_6</th>\n",
       "      <th>FIPSST_8</th>\n",
       "      <th>...</th>\n",
       "      <th>HHLanguage_20_1</th>\n",
       "      <th>HHLanguage_20_2</th>\n",
       "      <th>instype_20_1</th>\n",
       "      <th>instype_20_2</th>\n",
       "      <th>instype_20_3</th>\n",
       "      <th>instype_20_4</th>\n",
       "      <th>BedTime_20_1</th>\n",
       "      <th>BedTime_20_2</th>\n",
       "      <th>BedTime_20_3</th>\n",
       "      <th>BedTime_20_4</th>\n",
       "    </tr>\n",
       "  </thead>\n",
       "  <tbody>\n",
       "    <tr>\n",
       "      <th>0</th>\n",
       "      <td>0</td>\n",
       "      <td>-0.721421</td>\n",
       "      <td>2</td>\n",
       "      <td>-1.720848</td>\n",
       "      <td>0</td>\n",
       "      <td>0</td>\n",
       "      <td>0</td>\n",
       "      <td>0</td>\n",
       "      <td>0</td>\n",
       "      <td>0</td>\n",
       "      <td>...</td>\n",
       "      <td>1</td>\n",
       "      <td>0</td>\n",
       "      <td>0</td>\n",
       "      <td>1</td>\n",
       "      <td>0</td>\n",
       "      <td>0</td>\n",
       "      <td>1</td>\n",
       "      <td>0</td>\n",
       "      <td>0</td>\n",
       "      <td>0</td>\n",
       "    </tr>\n",
       "    <tr>\n",
       "      <th>1</th>\n",
       "      <td>0</td>\n",
       "      <td>0.145286</td>\n",
       "      <td>1</td>\n",
       "      <td>0.765734</td>\n",
       "      <td>0</td>\n",
       "      <td>0</td>\n",
       "      <td>0</td>\n",
       "      <td>0</td>\n",
       "      <td>0</td>\n",
       "      <td>0</td>\n",
       "      <td>...</td>\n",
       "      <td>1</td>\n",
       "      <td>0</td>\n",
       "      <td>0</td>\n",
       "      <td>1</td>\n",
       "      <td>0</td>\n",
       "      <td>0</td>\n",
       "      <td>0</td>\n",
       "      <td>1</td>\n",
       "      <td>0</td>\n",
       "      <td>0</td>\n",
       "    </tr>\n",
       "    <tr>\n",
       "      <th>3</th>\n",
       "      <td>0</td>\n",
       "      <td>-0.201397</td>\n",
       "      <td>2</td>\n",
       "      <td>0.991787</td>\n",
       "      <td>0</td>\n",
       "      <td>0</td>\n",
       "      <td>0</td>\n",
       "      <td>0</td>\n",
       "      <td>0</td>\n",
       "      <td>0</td>\n",
       "      <td>...</td>\n",
       "      <td>1</td>\n",
       "      <td>0</td>\n",
       "      <td>0</td>\n",
       "      <td>1</td>\n",
       "      <td>0</td>\n",
       "      <td>0</td>\n",
       "      <td>0</td>\n",
       "      <td>0</td>\n",
       "      <td>1</td>\n",
       "      <td>0</td>\n",
       "    </tr>\n",
       "    <tr>\n",
       "      <th>4</th>\n",
       "      <td>0</td>\n",
       "      <td>-1.068103</td>\n",
       "      <td>2</td>\n",
       "      <td>1.217839</td>\n",
       "      <td>0</td>\n",
       "      <td>0</td>\n",
       "      <td>0</td>\n",
       "      <td>0</td>\n",
       "      <td>0</td>\n",
       "      <td>0</td>\n",
       "      <td>...</td>\n",
       "      <td>1</td>\n",
       "      <td>0</td>\n",
       "      <td>0</td>\n",
       "      <td>1</td>\n",
       "      <td>0</td>\n",
       "      <td>0</td>\n",
       "      <td>0</td>\n",
       "      <td>1</td>\n",
       "      <td>0</td>\n",
       "      <td>0</td>\n",
       "    </tr>\n",
       "    <tr>\n",
       "      <th>5</th>\n",
       "      <td>0</td>\n",
       "      <td>-1.068103</td>\n",
       "      <td>3</td>\n",
       "      <td>1.443892</td>\n",
       "      <td>0</td>\n",
       "      <td>0</td>\n",
       "      <td>0</td>\n",
       "      <td>0</td>\n",
       "      <td>0</td>\n",
       "      <td>0</td>\n",
       "      <td>...</td>\n",
       "      <td>1</td>\n",
       "      <td>0</td>\n",
       "      <td>0</td>\n",
       "      <td>1</td>\n",
       "      <td>0</td>\n",
       "      <td>0</td>\n",
       "      <td>1</td>\n",
       "      <td>0</td>\n",
       "      <td>0</td>\n",
       "      <td>0</td>\n",
       "    </tr>\n",
       "  </tbody>\n",
       "</table>\n",
       "<p>5 rows × 82 columns</p>\n",
       "</div>"
      ],
      "text/plain": [
       "   ADHD_binary    MOMAGE  TOTKIDS_R  SC_AGE_YEARS  FIPSST_1  FIPSST_2  \\\n",
       "0            0 -0.721421          2     -1.720848         0         0   \n",
       "1            0  0.145286          1      0.765734         0         0   \n",
       "3            0 -0.201397          2      0.991787         0         0   \n",
       "4            0 -1.068103          2      1.217839         0         0   \n",
       "5            0 -1.068103          3      1.443892         0         0   \n",
       "\n",
       "   FIPSST_4  FIPSST_5  FIPSST_6  FIPSST_8  ...  HHLanguage_20_1  \\\n",
       "0         0         0         0         0  ...                1   \n",
       "1         0         0         0         0  ...                1   \n",
       "3         0         0         0         0  ...                1   \n",
       "4         0         0         0         0  ...                1   \n",
       "5         0         0         0         0  ...                1   \n",
       "\n",
       "   HHLanguage_20_2  instype_20_1  instype_20_2  instype_20_3  instype_20_4  \\\n",
       "0                0             0             1             0             0   \n",
       "1                0             0             1             0             0   \n",
       "3                0             0             1             0             0   \n",
       "4                0             0             1             0             0   \n",
       "5                0             0             1             0             0   \n",
       "\n",
       "   BedTime_20_1  BedTime_20_2  BedTime_20_3  BedTime_20_4  \n",
       "0             1             0             0             0  \n",
       "1             0             1             0             0  \n",
       "3             0             0             1             0  \n",
       "4             0             1             0             0  \n",
       "5             1             0             0             0  \n",
       "\n",
       "[5 rows x 82 columns]"
      ]
     },
     "execution_count": 40,
     "metadata": {},
     "output_type": "execute_result"
    }
   ],
   "source": [
    "df.head()"
   ]
  },
  {
   "cell_type": "code",
   "execution_count": 41,
   "id": "59f77ca2",
   "metadata": {},
   "outputs": [],
   "source": [
    "y = df[\"ADHD_binary\"]\n",
    "\n",
    "X = df.drop(['ADHD_binary'], axis = 1)\n"
   ]
  },
  {
   "cell_type": "code",
   "execution_count": 42,
   "id": "18fcb4e9",
   "metadata": {},
   "outputs": [
    {
     "data": {
      "text/plain": [
       "37139"
      ]
     },
     "execution_count": 42,
     "metadata": {},
     "output_type": "execute_result"
    }
   ],
   "source": [
    "len(X)"
   ]
  },
  {
   "cell_type": "code",
   "execution_count": 43,
   "id": "e95a5509",
   "metadata": {},
   "outputs": [
    {
     "data": {
      "text/plain": [
       "37139"
      ]
     },
     "execution_count": 43,
     "metadata": {},
     "output_type": "execute_result"
    }
   ],
   "source": [
    "len(y)"
   ]
  },
  {
   "cell_type": "code",
   "execution_count": 44,
   "id": "448d1263",
   "metadata": {},
   "outputs": [],
   "source": [
    "from sklearn.linear_model import LogisticRegression\n",
    "from sklearn.discriminant_analysis import LinearDiscriminantAnalysis\n",
    "from sklearn.neighbors import KNeighborsClassifier\n",
    "from sklearn.naive_bayes import GaussianNB\n",
    "from sklearn.tree import DecisionTreeClassifier\n",
    "from sklearn.svm import SVC\n",
    "from sklearn.model_selection import train_test_split, cross_validate, GridSearchCV, learning_curve\n",
    "from sklearn.metrics import classification_report\n",
    "from sklearn.metrics import confusion_matrix\n",
    "from sklearn.metrics import accuracy_score\n",
    "from sklearn.neighbors import KNeighborsClassifier\n",
    "from sklearn.svm import SVC\n",
    "from sklearn.ensemble import RandomForestClassifier\n",
    "from sklearn.datasets import make_classification\n",
    "import sklearn"
   ]
  },
  {
   "cell_type": "code",
   "execution_count": 45,
   "id": "1cdf61d1",
   "metadata": {},
   "outputs": [
    {
     "data": {
      "text/html": [
       "<div>\n",
       "<style scoped>\n",
       "    .dataframe tbody tr th:only-of-type {\n",
       "        vertical-align: middle;\n",
       "    }\n",
       "\n",
       "    .dataframe tbody tr th {\n",
       "        vertical-align: top;\n",
       "    }\n",
       "\n",
       "    .dataframe thead th {\n",
       "        text-align: right;\n",
       "    }\n",
       "</style>\n",
       "<table border=\"1\" class=\"dataframe\">\n",
       "  <thead>\n",
       "    <tr style=\"text-align: right;\">\n",
       "      <th></th>\n",
       "      <th>MOMAGE</th>\n",
       "      <th>TOTKIDS_R</th>\n",
       "      <th>SC_AGE_YEARS</th>\n",
       "      <th>FIPSST_1</th>\n",
       "      <th>FIPSST_2</th>\n",
       "      <th>FIPSST_4</th>\n",
       "      <th>FIPSST_5</th>\n",
       "      <th>FIPSST_6</th>\n",
       "      <th>FIPSST_8</th>\n",
       "      <th>FIPSST_9</th>\n",
       "      <th>...</th>\n",
       "      <th>HHLanguage_20_1</th>\n",
       "      <th>HHLanguage_20_2</th>\n",
       "      <th>instype_20_1</th>\n",
       "      <th>instype_20_2</th>\n",
       "      <th>instype_20_3</th>\n",
       "      <th>instype_20_4</th>\n",
       "      <th>BedTime_20_1</th>\n",
       "      <th>BedTime_20_2</th>\n",
       "      <th>BedTime_20_3</th>\n",
       "      <th>BedTime_20_4</th>\n",
       "    </tr>\n",
       "  </thead>\n",
       "  <tbody>\n",
       "    <tr>\n",
       "      <th>0</th>\n",
       "      <td>-0.721421</td>\n",
       "      <td>2</td>\n",
       "      <td>-1.720848</td>\n",
       "      <td>0</td>\n",
       "      <td>0</td>\n",
       "      <td>0</td>\n",
       "      <td>0</td>\n",
       "      <td>0</td>\n",
       "      <td>0</td>\n",
       "      <td>0</td>\n",
       "      <td>...</td>\n",
       "      <td>1</td>\n",
       "      <td>0</td>\n",
       "      <td>0</td>\n",
       "      <td>1</td>\n",
       "      <td>0</td>\n",
       "      <td>0</td>\n",
       "      <td>1</td>\n",
       "      <td>0</td>\n",
       "      <td>0</td>\n",
       "      <td>0</td>\n",
       "    </tr>\n",
       "    <tr>\n",
       "      <th>1</th>\n",
       "      <td>0.145286</td>\n",
       "      <td>1</td>\n",
       "      <td>0.765734</td>\n",
       "      <td>0</td>\n",
       "      <td>0</td>\n",
       "      <td>0</td>\n",
       "      <td>0</td>\n",
       "      <td>0</td>\n",
       "      <td>0</td>\n",
       "      <td>0</td>\n",
       "      <td>...</td>\n",
       "      <td>1</td>\n",
       "      <td>0</td>\n",
       "      <td>0</td>\n",
       "      <td>1</td>\n",
       "      <td>0</td>\n",
       "      <td>0</td>\n",
       "      <td>0</td>\n",
       "      <td>1</td>\n",
       "      <td>0</td>\n",
       "      <td>0</td>\n",
       "    </tr>\n",
       "    <tr>\n",
       "      <th>3</th>\n",
       "      <td>-0.201397</td>\n",
       "      <td>2</td>\n",
       "      <td>0.991787</td>\n",
       "      <td>0</td>\n",
       "      <td>0</td>\n",
       "      <td>0</td>\n",
       "      <td>0</td>\n",
       "      <td>0</td>\n",
       "      <td>0</td>\n",
       "      <td>0</td>\n",
       "      <td>...</td>\n",
       "      <td>1</td>\n",
       "      <td>0</td>\n",
       "      <td>0</td>\n",
       "      <td>1</td>\n",
       "      <td>0</td>\n",
       "      <td>0</td>\n",
       "      <td>0</td>\n",
       "      <td>0</td>\n",
       "      <td>1</td>\n",
       "      <td>0</td>\n",
       "    </tr>\n",
       "    <tr>\n",
       "      <th>4</th>\n",
       "      <td>-1.068103</td>\n",
       "      <td>2</td>\n",
       "      <td>1.217839</td>\n",
       "      <td>0</td>\n",
       "      <td>0</td>\n",
       "      <td>0</td>\n",
       "      <td>0</td>\n",
       "      <td>0</td>\n",
       "      <td>0</td>\n",
       "      <td>0</td>\n",
       "      <td>...</td>\n",
       "      <td>1</td>\n",
       "      <td>0</td>\n",
       "      <td>0</td>\n",
       "      <td>1</td>\n",
       "      <td>0</td>\n",
       "      <td>0</td>\n",
       "      <td>0</td>\n",
       "      <td>1</td>\n",
       "      <td>0</td>\n",
       "      <td>0</td>\n",
       "    </tr>\n",
       "    <tr>\n",
       "      <th>5</th>\n",
       "      <td>-1.068103</td>\n",
       "      <td>3</td>\n",
       "      <td>1.443892</td>\n",
       "      <td>0</td>\n",
       "      <td>0</td>\n",
       "      <td>0</td>\n",
       "      <td>0</td>\n",
       "      <td>0</td>\n",
       "      <td>0</td>\n",
       "      <td>0</td>\n",
       "      <td>...</td>\n",
       "      <td>1</td>\n",
       "      <td>0</td>\n",
       "      <td>0</td>\n",
       "      <td>1</td>\n",
       "      <td>0</td>\n",
       "      <td>0</td>\n",
       "      <td>1</td>\n",
       "      <td>0</td>\n",
       "      <td>0</td>\n",
       "      <td>0</td>\n",
       "    </tr>\n",
       "    <tr>\n",
       "      <th>...</th>\n",
       "      <td>...</td>\n",
       "      <td>...</td>\n",
       "      <td>...</td>\n",
       "      <td>...</td>\n",
       "      <td>...</td>\n",
       "      <td>...</td>\n",
       "      <td>...</td>\n",
       "      <td>...</td>\n",
       "      <td>...</td>\n",
       "      <td>...</td>\n",
       "      <td>...</td>\n",
       "      <td>...</td>\n",
       "      <td>...</td>\n",
       "      <td>...</td>\n",
       "      <td>...</td>\n",
       "      <td>...</td>\n",
       "      <td>...</td>\n",
       "      <td>...</td>\n",
       "      <td>...</td>\n",
       "      <td>...</td>\n",
       "      <td>...</td>\n",
       "    </tr>\n",
       "    <tr>\n",
       "      <th>42772</th>\n",
       "      <td>-1.588127</td>\n",
       "      <td>4</td>\n",
       "      <td>0.539681</td>\n",
       "      <td>0</td>\n",
       "      <td>0</td>\n",
       "      <td>0</td>\n",
       "      <td>0</td>\n",
       "      <td>0</td>\n",
       "      <td>0</td>\n",
       "      <td>0</td>\n",
       "      <td>...</td>\n",
       "      <td>1</td>\n",
       "      <td>0</td>\n",
       "      <td>0</td>\n",
       "      <td>1</td>\n",
       "      <td>0</td>\n",
       "      <td>0</td>\n",
       "      <td>0</td>\n",
       "      <td>1</td>\n",
       "      <td>0</td>\n",
       "      <td>0</td>\n",
       "    </tr>\n",
       "    <tr>\n",
       "      <th>42773</th>\n",
       "      <td>1.358675</td>\n",
       "      <td>1</td>\n",
       "      <td>-0.816637</td>\n",
       "      <td>0</td>\n",
       "      <td>0</td>\n",
       "      <td>0</td>\n",
       "      <td>0</td>\n",
       "      <td>0</td>\n",
       "      <td>0</td>\n",
       "      <td>0</td>\n",
       "      <td>...</td>\n",
       "      <td>1</td>\n",
       "      <td>0</td>\n",
       "      <td>0</td>\n",
       "      <td>1</td>\n",
       "      <td>0</td>\n",
       "      <td>0</td>\n",
       "      <td>0</td>\n",
       "      <td>1</td>\n",
       "      <td>0</td>\n",
       "      <td>0</td>\n",
       "    </tr>\n",
       "    <tr>\n",
       "      <th>42774</th>\n",
       "      <td>1.532016</td>\n",
       "      <td>1</td>\n",
       "      <td>0.765734</td>\n",
       "      <td>0</td>\n",
       "      <td>0</td>\n",
       "      <td>0</td>\n",
       "      <td>0</td>\n",
       "      <td>0</td>\n",
       "      <td>0</td>\n",
       "      <td>0</td>\n",
       "      <td>...</td>\n",
       "      <td>1</td>\n",
       "      <td>0</td>\n",
       "      <td>0</td>\n",
       "      <td>0</td>\n",
       "      <td>1</td>\n",
       "      <td>0</td>\n",
       "      <td>0</td>\n",
       "      <td>1</td>\n",
       "      <td>0</td>\n",
       "      <td>0</td>\n",
       "    </tr>\n",
       "    <tr>\n",
       "      <th>42775</th>\n",
       "      <td>-0.028056</td>\n",
       "      <td>1</td>\n",
       "      <td>-0.138478</td>\n",
       "      <td>0</td>\n",
       "      <td>0</td>\n",
       "      <td>0</td>\n",
       "      <td>0</td>\n",
       "      <td>0</td>\n",
       "      <td>0</td>\n",
       "      <td>0</td>\n",
       "      <td>...</td>\n",
       "      <td>1</td>\n",
       "      <td>0</td>\n",
       "      <td>0</td>\n",
       "      <td>1</td>\n",
       "      <td>0</td>\n",
       "      <td>0</td>\n",
       "      <td>0</td>\n",
       "      <td>0</td>\n",
       "      <td>0</td>\n",
       "      <td>1</td>\n",
       "    </tr>\n",
       "    <tr>\n",
       "      <th>42776</th>\n",
       "      <td>-0.548079</td>\n",
       "      <td>2</td>\n",
       "      <td>0.991787</td>\n",
       "      <td>0</td>\n",
       "      <td>0</td>\n",
       "      <td>0</td>\n",
       "      <td>0</td>\n",
       "      <td>0</td>\n",
       "      <td>0</td>\n",
       "      <td>0</td>\n",
       "      <td>...</td>\n",
       "      <td>1</td>\n",
       "      <td>0</td>\n",
       "      <td>1</td>\n",
       "      <td>0</td>\n",
       "      <td>0</td>\n",
       "      <td>0</td>\n",
       "      <td>0</td>\n",
       "      <td>0</td>\n",
       "      <td>0</td>\n",
       "      <td>1</td>\n",
       "    </tr>\n",
       "  </tbody>\n",
       "</table>\n",
       "<p>37139 rows × 81 columns</p>\n",
       "</div>"
      ],
      "text/plain": [
       "         MOMAGE  TOTKIDS_R  SC_AGE_YEARS  FIPSST_1  FIPSST_2  FIPSST_4  \\\n",
       "0     -0.721421          2     -1.720848         0         0         0   \n",
       "1      0.145286          1      0.765734         0         0         0   \n",
       "3     -0.201397          2      0.991787         0         0         0   \n",
       "4     -1.068103          2      1.217839         0         0         0   \n",
       "5     -1.068103          3      1.443892         0         0         0   \n",
       "...         ...        ...           ...       ...       ...       ...   \n",
       "42772 -1.588127          4      0.539681         0         0         0   \n",
       "42773  1.358675          1     -0.816637         0         0         0   \n",
       "42774  1.532016          1      0.765734         0         0         0   \n",
       "42775 -0.028056          1     -0.138478         0         0         0   \n",
       "42776 -0.548079          2      0.991787         0         0         0   \n",
       "\n",
       "       FIPSST_5  FIPSST_6  FIPSST_8  FIPSST_9  ...  HHLanguage_20_1  \\\n",
       "0             0         0         0         0  ...                1   \n",
       "1             0         0         0         0  ...                1   \n",
       "3             0         0         0         0  ...                1   \n",
       "4             0         0         0         0  ...                1   \n",
       "5             0         0         0         0  ...                1   \n",
       "...         ...       ...       ...       ...  ...              ...   \n",
       "42772         0         0         0         0  ...                1   \n",
       "42773         0         0         0         0  ...                1   \n",
       "42774         0         0         0         0  ...                1   \n",
       "42775         0         0         0         0  ...                1   \n",
       "42776         0         0         0         0  ...                1   \n",
       "\n",
       "       HHLanguage_20_2  instype_20_1  instype_20_2  instype_20_3  \\\n",
       "0                    0             0             1             0   \n",
       "1                    0             0             1             0   \n",
       "3                    0             0             1             0   \n",
       "4                    0             0             1             0   \n",
       "5                    0             0             1             0   \n",
       "...                ...           ...           ...           ...   \n",
       "42772                0             0             1             0   \n",
       "42773                0             0             1             0   \n",
       "42774                0             0             0             1   \n",
       "42775                0             0             1             0   \n",
       "42776                0             1             0             0   \n",
       "\n",
       "       instype_20_4  BedTime_20_1  BedTime_20_2  BedTime_20_3  BedTime_20_4  \n",
       "0                 0             1             0             0             0  \n",
       "1                 0             0             1             0             0  \n",
       "3                 0             0             0             1             0  \n",
       "4                 0             0             1             0             0  \n",
       "5                 0             1             0             0             0  \n",
       "...             ...           ...           ...           ...           ...  \n",
       "42772             0             0             1             0             0  \n",
       "42773             0             0             1             0             0  \n",
       "42774             0             0             1             0             0  \n",
       "42775             0             0             0             0             1  \n",
       "42776             0             0             0             0             1  \n",
       "\n",
       "[37139 rows x 81 columns]"
      ]
     },
     "execution_count": 45,
     "metadata": {},
     "output_type": "execute_result"
    }
   ],
   "source": [
    "X\n"
   ]
  },
  {
   "cell_type": "code",
   "execution_count": 46,
   "id": "09441d91",
   "metadata": {},
   "outputs": [],
   "source": [
    "X_train, X_test, y_train, y_test= train_test_split(X, y, test_size=0.50, random_state=123)"
   ]
  },
  {
   "cell_type": "code",
   "execution_count": 47,
   "id": "9373d06b",
   "metadata": {},
   "outputs": [
    {
     "data": {
      "text/plain": [
       "<AxesSubplot:>"
      ]
     },
     "execution_count": 47,
     "metadata": {},
     "output_type": "execute_result"
    },
    {
     "data": {
      "image/png": "[encoded data removed]",
      "text/plain": [
       "<Figure size 792x576 with 1 Axes>"
      ]
     },
     "metadata": {},
     "output_type": "display_data"
    }
   ],
   "source": [
    "y_test.hist()\n"
   ]
  },
  {
   "cell_type": "code",
   "execution_count": 48,
   "id": "37a98e5d",
   "metadata": {},
   "outputs": [
    {
     "name": "stdout",
     "output_type": "stream",
     "text": [
      "Feature: 0, Score: 0.00291\n",
      "Feature: 1, Score: 0.00299\n",
      "Feature: 2, Score: 0.00302\n",
      "Feature: 3, Score: 0.00353\n",
      "Feature: 4, Score: 0.00423\n",
      "Feature: 5, Score: 0.00434\n",
      "Feature: 6, Score: 0.00435\n",
      "Feature: 7, Score: 0.00451\n",
      "Feature: 8, Score: 0.00467\n",
      "Feature: 9, Score: 0.00469\n",
      "Feature: 10, Score: 0.00471\n",
      "Feature: 11, Score: 0.00473\n",
      "Feature: 12, Score: 0.00474\n",
      "Feature: 13, Score: 0.00486\n",
      "Feature: 14, Score: 0.00502\n",
      "Feature: 15, Score: 0.00502\n",
      "Feature: 16, Score: 0.00508\n",
      "Feature: 17, Score: 0.00532\n",
      "Feature: 18, Score: 0.00537\n",
      "Feature: 19, Score: 0.00540\n",
      "Feature: 20, Score: 0.00541\n",
      "Feature: 21, Score: 0.00547\n",
      "Feature: 22, Score: 0.00552\n",
      "Feature: 23, Score: 0.00556\n",
      "Feature: 24, Score: 0.00557\n",
      "Feature: 25, Score: 0.00572\n",
      "Feature: 26, Score: 0.00574\n",
      "Feature: 27, Score: 0.00580\n",
      "Feature: 28, Score: 0.00590\n",
      "Feature: 29, Score: 0.00591\n",
      "Feature: 30, Score: 0.00602\n",
      "Feature: 31, Score: 0.00605\n",
      "Feature: 32, Score: 0.00612\n",
      "Feature: 33, Score: 0.00613\n",
      "Feature: 34, Score: 0.00615\n",
      "Feature: 35, Score: 0.00620\n",
      "Feature: 36, Score: 0.00620\n",
      "Feature: 37, Score: 0.00621\n",
      "Feature: 38, Score: 0.00622\n",
      "Feature: 39, Score: 0.00627\n",
      "Feature: 40, Score: 0.00641\n",
      "Feature: 41, Score: 0.00642\n",
      "Feature: 42, Score: 0.00648\n",
      "Feature: 43, Score: 0.00650\n",
      "Feature: 44, Score: 0.00656\n",
      "Feature: 45, Score: 0.00661\n",
      "Feature: 46, Score: 0.00661\n",
      "Feature: 47, Score: 0.00662\n",
      "Feature: 48, Score: 0.00672\n",
      "Feature: 49, Score: 0.00674\n",
      "Feature: 50, Score: 0.00693\n",
      "Feature: 51, Score: 0.00693\n",
      "Feature: 52, Score: 0.00756\n",
      "Feature: 53, Score: 0.00757\n",
      "Feature: 54, Score: 0.00801\n",
      "Feature: 55, Score: 0.00829\n",
      "Feature: 56, Score: 0.00835\n",
      "Feature: 57, Score: 0.00875\n",
      "Feature: 58, Score: 0.00885\n",
      "Feature: 59, Score: 0.00897\n",
      "Feature: 60, Score: 0.00925\n",
      "Feature: 61, Score: 0.00941\n",
      "Feature: 62, Score: 0.00984\n",
      "Feature: 63, Score: 0.01009\n",
      "Feature: 64, Score: 0.01016\n",
      "Feature: 65, Score: 0.01038\n",
      "Feature: 66, Score: 0.01068\n",
      "Feature: 67, Score: 0.01211\n",
      "Feature: 68, Score: 0.01370\n",
      "Feature: 69, Score: 0.01375\n",
      "Feature: 70, Score: 0.01552\n",
      "Feature: 71, Score: 0.01558\n",
      "Feature: 72, Score: 0.01616\n",
      "Feature: 73, Score: 0.01762\n",
      "Feature: 74, Score: 0.01791\n",
      "Feature: 75, Score: 0.01797\n",
      "Feature: 76, Score: 0.01821\n",
      "Feature: 77, Score: 0.02125\n",
      "Feature: 78, Score: 0.06266\n",
      "Feature: 79, Score: 0.15746\n",
      "Feature: 80, Score: 0.17674\n"
     ]
    },
    {
     "data": {
      "image/png": "[encoded data removed]",
      "text/plain": [
       "<Figure size 792x576 with 1 Axes>"
      ]
     },
     "metadata": {},
     "output_type": "display_data"
    }
   ],
   "source": [
    "# random forest for feature importance on a classification problem\n",
    "from sklearn.datasets import make_classification\n",
    "from sklearn.ensemble import RandomForestClassifier\n",
    "from matplotlib import pyplot\n",
    "\n",
    "# define the model\n",
    "model = RandomForestClassifier()\n",
    "# fit the model\n",
    "model.fit(X, y)\n",
    "# get importance\n",
    "importance = model.feature_importances_\n",
    "# summarize feature importance\n",
    "for i,v in enumerate(sorted(importance)):\n",
    "\tprint('Feature: %0d, Score: %.5f' % (i,v))\n",
    "# plot feature importance\n",
    "pyplot.bar([x for x in range(len(importance))], sorted(importance))\n",
    "pyplot.show()"
   ]
  },
  {
   "cell_type": "code",
   "execution_count": 49,
   "id": "8e090ffb",
   "metadata": {
    "scrolled": true
   },
   "outputs": [],
   "source": [
    "a={}\n",
    "X_col = X.columns\n",
    "for i,v in enumerate(importance):\n",
    "    a[X_col[i]]= v"
   ]
  },
  {
   "cell_type": "code",
   "execution_count": 50,
   "id": "065a04c7",
   "metadata": {},
   "outputs": [
    {
     "data": {
      "text/plain": [
       "{'FIPSST_11': 0.005018499445970053,\n",
       " 'FIPSST_17': 0.005018957275171343,\n",
       " 'FIPSST_29': 0.005084556921345815,\n",
       " 'FIPSST_44': 0.005321481061661812,\n",
       " 'FIPSST_46': 0.005371934965548998,\n",
       " 'FIPSST_16': 0.0053977035732300305,\n",
       " 'instype_20_4': 0.005411666936740864,\n",
       " 'FIPSST_20': 0.005465699941955796,\n",
       " 'FIPSST_38': 0.005523182255371007,\n",
       " 'FIPSST_19': 0.0055608146452089365,\n",
       " 'FIPSST_42': 0.005573526244477754,\n",
       " 'FIPSST_9': 0.005724441640611164,\n",
       " 'FIPSST_25': 0.005739591885197083,\n",
       " 'FIPSST_39': 0.00580261936609617,\n",
       " 'FIPSST_47': 0.005898445420513729,\n",
       " 'FIPSST_54': 0.005905172935731396,\n",
       " 'FIPSST_26': 0.006022829137061906,\n",
       " 'FIPSST_13': 0.00604640146775131,\n",
       " 'FIPSST_51': 0.006117263854782865,\n",
       " 'FIPSST_36': 0.0061277621939605864,\n",
       " 'FIPSST_24': 0.006151415618788608,\n",
       " 'FIPSST_23': 0.0062000310185265405,\n",
       " 'FIPSST_50': 0.006200826808585299,\n",
       " 'FIPSST_31': 0.006213813919380449,\n",
       " 'FIPSST_4': 0.006217224782762864,\n",
       " 'FIPSST_40': 0.006270004910871262,\n",
       " 'PrntNativity_20_3': 0.0064078568976724285,\n",
       " 'FIPSST_28': 0.006423449351738109,\n",
       " 'FIPSST_18': 0.006483327252490933,\n",
       " 'FIPSST_37': 0.006495687566310713,\n",
       " 'FIPSST_12': 0.006562979367669058,\n",
       " 'FIPSST_10': 0.006605835269005184,\n",
       " 'FIPSST_33': 0.006609308086445127,\n",
       " 'FIPSST_48': 0.006617166532263874,\n",
       " 'FIPSST_21': 0.0067213462893064265,\n",
       " 'instype_20_3': 0.00673847515221952,\n",
       " 'FIPSST_22': 0.006929094773162801,\n",
       " 'FIPSST_5': 0.006931685765410832,\n",
       " 'FIPSST_1': 0.00756417865159217,\n",
       " 'FIPSST_45': 0.007574954961820609,\n",
       " 'PrntNativity_20_2': 0.008009904845213493,\n",
       " 'race4_20_3': 0.008289021477471509,\n",
       " 'FIPSST_8': 0.008345173028747726,\n",
       " 'FIPSST_55': 0.008754444538040317,\n",
       " 'SC_SEX_1': 0.008845765645293623,\n",
       " 'PrntNativity_20_1': 0.008972831385983069,\n",
       " 'instype_20_1': 0.009248678245932992,\n",
       " 'instype_20_2': 0.009412452133812185,\n",
       " 'race4_20_4': 0.009842053918585447,\n",
       " 'SC_SEX_2': 0.010087370790543662,\n",
       " 'BedTime_20_4': 0.010161885432131923,\n",
       " 'race4_20_1': 0.010381048293312514,\n",
       " 'BedTime_20_3': 0.010682743821128004,\n",
       " 'povlev4_20_1': 0.01211361351015519,\n",
       " 'FIPSST_41': 0.013698588201080697,\n",
       " 'AdultEduc_20_2': 0.013753372937234722,\n",
       " 'BedTime_20_1': 0.015524023443439765,\n",
       " 'race4_20_2': 0.015580406133646701,\n",
       " 'povlev4_20_2': 0.0161558429783738,\n",
       " 'AdultEduc_20_4': 0.017617351123598173,\n",
       " 'povlev4_20_4': 0.01791348211449642,\n",
       " 'BedTime_20_2': 0.01796582854188876,\n",
       " 'AdultEduc_20_3': 0.018210993131903976,\n",
       " 'povlev4_20_3': 0.02124783139604464,\n",
       " 'TOTKIDS_R': 0.06265856763082538,\n",
       " 'SC_AGE_YEARS': 0.15746302016246236,\n",
       " 'MOMAGE': 0.1767387981364896}"
      ]
     },
     "execution_count": 50,
     "metadata": {},
     "output_type": "execute_result"
    }
   ],
   "source": [
    "sorted_featureImportance = {k: v for k, v in sorted(a.items(), key=lambda item: item[1]) if v>0.005}\n",
    "sorted_featureImportance"
   ]
  },
  {
   "cell_type": "code",
   "execution_count": 51,
   "id": "b837ce9d",
   "metadata": {},
   "outputs": [
    {
     "data": {
      "text/plain": [
       "<AxesSubplot:>"
      ]
     },
     "execution_count": 51,
     "metadata": {},
     "output_type": "execute_result"
    },
    {
     "data": {
      "image/png": "[encoded data removed]",
      "text/plain": [
       "<Figure size 792x576 with 1 Axes>"
      ]
     },
     "metadata": {},
     "output_type": "display_data"
    }
   ],
   "source": [
    "y_train.hist()"
   ]
  },
  {
   "cell_type": "code",
   "execution_count": 52,
   "id": "f9ff0ec8",
   "metadata": {},
   "outputs": [],
   "source": [
    "logreg_clf = LogisticRegression(max_iter=10000)"
   ]
  },
  {
   "cell_type": "code",
   "execution_count": 53,
   "id": "c85df4d5",
   "metadata": {},
   "outputs": [
    {
     "data": {
      "text/plain": [
       "LogisticRegression(max_iter=10000)"
      ]
     },
     "execution_count": 53,
     "metadata": {},
     "output_type": "execute_result"
    }
   ],
   "source": [
    "logreg_clf.fit(X_train,y_train)"
   ]
  },
  {
   "cell_type": "code",
   "execution_count": 54,
   "id": "07111501",
   "metadata": {},
   "outputs": [],
   "source": [
    "pred=logreg_clf.predict(X_test)"
   ]
  },
  {
   "cell_type": "code",
   "execution_count": 55,
   "id": "4b641b9d",
   "metadata": {},
   "outputs": [
    {
     "data": {
      "text/plain": [
       "[<matplotlib.lines.Line2D at 0x7f8c167f3220>]"
      ]
     },
     "execution_count": 55,
     "metadata": {},
     "output_type": "execute_result"
    },
    {
     "data": {
      "image/png": "[encoded data removed]",
      "text/plain": [
       "<Figure size 792x576 with 1 Axes>"
      ]
     },
     "metadata": {},
     "output_type": "display_data"
    }
   ],
   "source": [
    "plt.scatter(y_test, pred)\n",
    "plt.plot(y_test, y_test)"
   ]
  },
  {
   "cell_type": "code",
   "execution_count": 56,
   "id": "56d41383",
   "metadata": {},
   "outputs": [
    {
     "name": "stdout",
     "output_type": "stream",
     "text": [
      "0.8980613893376413\n"
     ]
    }
   ],
   "source": [
    "print(accuracy_score(pred, y_test))"
   ]
  },
  {
   "cell_type": "code",
   "execution_count": 57,
   "id": "03c84a0b",
   "metadata": {},
   "outputs": [
    {
     "name": "stdout",
     "output_type": "stream",
     "text": [
      "[[16656  1866]\n",
      " [   27    21]]\n"
     ]
    }
   ],
   "source": [
    "print(confusion_matrix(pred, y_test))"
   ]
  },
  {
   "cell_type": "code",
   "execution_count": 58,
   "id": "44a3ecd1",
   "metadata": {},
   "outputs": [
    {
     "data": {
      "image/png": "[encoded data removed]",
      "text/plain": [
       "<Figure size 576x396 with 1 Axes>"
      ]
     },
     "metadata": {},
     "output_type": "display_data"
    }
   ],
   "source": [
    "#computing AUROC\n",
    "\n",
    "from sklearn.metrics import roc_curve\n",
    "\n",
    "# roc curve for models\n",
    "fpr1, tpr1, thresh1 = roc_curve(y_test, pred, pos_label=1)\n",
    "# roc curve for tpr = fpr \n",
    "random_probs = [0 for i in range(len(y_test))]\n",
    "p_fpr, p_tpr, _ = roc_curve(y_test, random_probs, pos_label=1)\n",
    "\n",
    "# matplotlib\n",
    "\n",
    "plt.style.use('seaborn')\n",
    "\n",
    "# plot roc curves\n",
    "plt.plot(fpr1, tpr1, linestyle='--',color='orange', label='Logistic Regression')\n",
    "\n",
    "plt.plot(p_fpr, p_tpr, linestyle='--', color='blue')\n",
    "# title\n",
    "plt.title('ROC curve')\n",
    "# x label\n",
    "plt.xlabel('False Positive Rate')\n",
    "# y label\n",
    "plt.ylabel('True Positive rate')\n",
    "\n",
    "plt.legend(loc='best')\n",
    "plt.savefig('ROC',dpi=300)\n",
    "plt.show();"
   ]
  },
  {
   "cell_type": "code",
   "execution_count": 59,
   "id": "e03524c2",
   "metadata": {},
   "outputs": [],
   "source": [
    "KNN_model = KNeighborsClassifier(n_neighbors=5)"
   ]
  },
  {
   "cell_type": "code",
   "execution_count": 60,
   "id": "f03cef6f",
   "metadata": {},
   "outputs": [
    {
     "data": {
      "text/plain": [
       "KNeighborsClassifier()"
      ]
     },
     "execution_count": 60,
     "metadata": {},
     "output_type": "execute_result"
    }
   ],
   "source": [
    "KNN_model.fit(X_train,y_train)"
   ]
  },
  {
   "cell_type": "code",
   "execution_count": 61,
   "id": "be8e8f6b",
   "metadata": {},
   "outputs": [],
   "source": [
    "pred=KNN_model.predict(X_test)"
   ]
  },
  {
   "cell_type": "code",
   "execution_count": 62,
   "id": "beaaf2ea",
   "metadata": {},
   "outputs": [
    {
     "name": "stdout",
     "output_type": "stream",
     "text": [
      "0.8875605815831987\n"
     ]
    }
   ],
   "source": [
    "print(accuracy_score(pred, y_test))"
   ]
  },
  {
   "cell_type": "code",
   "execution_count": 63,
   "id": "5feb3c08",
   "metadata": {},
   "outputs": [
    {
     "name": "stdout",
     "output_type": "stream",
     "text": [
      "[[16374  1779]\n",
      " [  309   108]]\n"
     ]
    }
   ],
   "source": [
    "print(confusion_matrix(pred, y_test))"
   ]
  },
  {
   "cell_type": "code",
   "execution_count": 64,
   "id": "0d7b00ee",
   "metadata": {},
   "outputs": [
    {
     "data": {
      "text/plain": [
       "[<matplotlib.lines.Line2D at 0x7f8bb6c71700>]"
      ]
     },
     "execution_count": 64,
     "metadata": {},
     "output_type": "execute_result"
    },
    {
     "data": {
      "image/png": "[encoded data removed]",
      "text/plain": [
       "<Figure size 576x396 with 1 Axes>"
      ]
     },
     "metadata": {},
     "output_type": "display_data"
    }
   ],
   "source": [
    "plt.scatter(y_test, pred)\n",
    "plt.plot(y_test, y_test)"
   ]
  },
  {
   "cell_type": "code",
   "execution_count": 65,
   "id": "e486394c",
   "metadata": {},
   "outputs": [
    {
     "data": {
      "image/png": "[encoded data removed]",
      "text/plain": [
       "<Figure size 576x396 with 1 Axes>"
      ]
     },
     "metadata": {},
     "output_type": "display_data"
    }
   ],
   "source": [
    "#computing AUROC\n",
    "\n",
    "from sklearn.metrics import roc_curve\n",
    "\n",
    "# roc curve for models\n",
    "fpr1, tpr1, thresh1 = roc_curve(y_test, pred, pos_label=1)\n",
    "# roc curve for tpr = fpr \n",
    "random_probs = [0 for i in range(len(y_test))]\n",
    "p_fpr, p_tpr, _ = roc_curve(y_test, random_probs, pos_label=1)\n",
    "\n",
    "# matplotlib\n",
    "\n",
    "plt.style.use('seaborn')\n",
    "\n",
    "# plot roc curves\n",
    "plt.plot(fpr1, tpr1, linestyle='--',color='orange', label='Logistic Regression')\n",
    "\n",
    "plt.plot(p_fpr, p_tpr, linestyle='--', color='blue')\n",
    "# title\n",
    "plt.title('ROC curve')\n",
    "# x label\n",
    "plt.xlabel('False Positive Rate')\n",
    "# y label\n",
    "plt.ylabel('True Positive rate')\n",
    "\n",
    "plt.legend(loc='best')\n",
    "plt.savefig('ROC',dpi=300)\n",
    "plt.show();"
   ]
  },
  {
   "cell_type": "code",
   "execution_count": 66,
   "id": "539f31a4",
   "metadata": {},
   "outputs": [
    {
     "name": "stdout",
     "output_type": "stream",
     "text": [
      "0.8983844911147011\n"
     ]
    }
   ],
   "source": [
    "SVC_model= SVC()\n",
    "SVC_model.fit(X_train,y_train)\n",
    "pred=SVC_model.predict(X_test)\n",
    "print(accuracy_score(pred, y_test))"
   ]
  },
  {
   "cell_type": "code",
   "execution_count": 67,
   "id": "52a15e16",
   "metadata": {},
   "outputs": [
    {
     "name": "stdout",
     "output_type": "stream",
     "text": [
      "[[16683  1887]\n",
      " [    0     0]]\n"
     ]
    }
   ],
   "source": [
    "print(confusion_matrix(pred, y_test))"
   ]
  },
  {
   "cell_type": "code",
   "execution_count": 68,
   "id": "a7aecfd6",
   "metadata": {},
   "outputs": [
    {
     "name": "stdout",
     "output_type": "stream",
     "text": [
      "0.8980613893376413\n",
      "[[16667  1877]\n",
      " [   16    10]]\n"
     ]
    }
   ],
   "source": [
    "clf = RandomForestClassifier(max_depth=20, random_state=0)\n",
    "clf.fit(X_train, y_train)\n",
    "pred=clf.predict(X_test)\n",
    "print(accuracy_score(pred, y_test))\n",
    "print(confusion_matrix(pred, y_test))"
   ]
  },
  {
   "cell_type": "code",
   "execution_count": 69,
   "id": "2a1caf8c",
   "metadata": {},
   "outputs": [
    {
     "data": {
      "image/png": "[encoded data removed]",
      "text/plain": [
       "<Figure size 576x396 with 1 Axes>"
      ]
     },
     "metadata": {},
     "output_type": "display_data"
    }
   ],
   "source": [
    "#computing AUROC\n",
    "\n",
    "from sklearn.metrics import roc_curve\n",
    "\n",
    "# roc curve for models\n",
    "fpr1, tpr1, thresh1 = roc_curve(y_test, pred, pos_label=1)\n",
    "# roc curve for tpr = fpr \n",
    "random_probs = [0 for i in range(len(y_test))]\n",
    "p_fpr, p_tpr, _ = roc_curve(y_test, random_probs, pos_label=1)\n",
    "\n",
    "# matplotlib\n",
    "\n",
    "plt.style.use('seaborn')\n",
    "\n",
    "# plot roc curves\n",
    "plt.plot(fpr1, tpr1, linestyle='--',color='orange', label='Logistic Regression')\n",
    "\n",
    "plt.plot(p_fpr, p_tpr, linestyle='--', color='blue')\n",
    "# title\n",
    "plt.title('ROC curve')\n",
    "# x label\n",
    "plt.xlabel('False Positive Rate')\n",
    "# y label\n",
    "plt.ylabel('True Positive rate')\n",
    "\n",
    "plt.legend(loc='best')\n",
    "plt.savefig('ROC',dpi=300)\n",
    "plt.show();"
   ]
  },
  {
   "cell_type": "code",
   "execution_count": 70,
   "id": "715b2e52",
   "metadata": {},
   "outputs": [],
   "source": [
    "X_important_train= X_train[sorted_featureImportance.keys()]\n",
    "X_important_test = X_test[sorted_featureImportance.keys()]"
   ]
  },
  {
   "cell_type": "code",
   "execution_count": 71,
   "id": "0f002a3d",
   "metadata": {},
   "outputs": [
    {
     "name": "stdout",
     "output_type": "stream",
     "text": [
      "0.8982229402261712\n",
      "[[16675  1882]\n",
      " [    8     5]]\n"
     ]
    }
   ],
   "source": [
    "clf = RandomForestClassifier(max_depth=15, random_state=0)\n",
    "clf.fit(X_important_train, y_train)\n",
    "pred=clf.predict(X_important_test)\n",
    "print(accuracy_score(pred, y_test))\n",
    "print(confusion_matrix(pred, y_test))"
   ]
  },
  {
   "cell_type": "code",
   "execution_count": 72,
   "id": "e21ef373",
   "metadata": {},
   "outputs": [
    {
     "data": {
      "image/png": "[encoded data removed]",
      "text/plain": [
       "<Figure size 576x396 with 1 Axes>"
      ]
     },
     "metadata": {},
     "output_type": "display_data"
    }
   ],
   "source": [
    "#computing AUROC\n",
    "\n",
    "from sklearn.metrics import roc_curve\n",
    "\n",
    "# roc curve for models\n",
    "fpr1, tpr1, thresh1 = roc_curve(y_test, pred, pos_label=1)\n",
    "# roc curve for tpr = fpr \n",
    "random_probs = [0 for i in range(len(y_test))]\n",
    "p_fpr, p_tpr, _ = roc_curve(y_test, random_probs, pos_label=1)\n",
    "\n",
    "# matplotlib\n",
    "\n",
    "plt.style.use('seaborn')\n",
    "\n",
    "# plot roc curves\n",
    "plt.plot(fpr1, tpr1, linestyle='--',color='orange', label='Logistic Regression')\n",
    "\n",
    "plt.plot(p_fpr, p_tpr, linestyle='--', color='blue')\n",
    "# title\n",
    "plt.title('ROC curve')\n",
    "# x label\n",
    "plt.xlabel('False Positive Rate')\n",
    "# y label\n",
    "plt.ylabel('True Positive rate')\n",
    "\n",
    "plt.legend(loc='best')\n",
    "plt.savefig('ROC',dpi=300)\n",
    "plt.show();"
   ]
  },
  {
   "cell_type": "code",
   "execution_count": 73,
   "id": "8959ce2a",
   "metadata": {},
   "outputs": [],
   "source": [
    "#In order to improve the model, we used PCA Analysis to reduce dimention of X\n",
    "y = df[\"ADHD_binary\"]\n",
    "\n",
    "X = df.drop(['ADHD_binary'], axis = 1)\n"
   ]
  },
  {
   "cell_type": "code",
   "execution_count": 74,
   "id": "66e2a492",
   "metadata": {},
   "outputs": [
    {
     "ename": "KeyboardInterrupt",
     "evalue": "",
     "output_type": "error",
     "traceback": [
      "\u001b[0;31m---------------------------------------------------------------------------\u001b[0m",
      "\u001b[0;31mKeyboardInterrupt\u001b[0m                         Traceback (most recent call last)",
      "Input \u001b[0;32mIn [74]\u001b[0m, in \u001b[0;36m<cell line: 4>\u001b[0;34m()\u001b[0m\n\u001b[1;32m      2\u001b[0m \u001b[38;5;28;01mfrom\u001b[39;00m \u001b[38;5;21;01msklearn\u001b[39;00m\u001b[38;5;21;01m.\u001b[39;00m\u001b[38;5;21;01mdecomposition\u001b[39;00m \u001b[38;5;28;01mimport\u001b[39;00m PCA, KernelPCA\n\u001b[1;32m      3\u001b[0m pca \u001b[38;5;241m=\u001b[39m KernelPCA(n_components\u001b[38;5;241m=\u001b[39m\u001b[38;5;241m10\u001b[39m, kernel \u001b[38;5;241m=\u001b[39m \u001b[38;5;124m'\u001b[39m\u001b[38;5;124mlinear\u001b[39m\u001b[38;5;124m'\u001b[39m)\n\u001b[0;32m----> 4\u001b[0m X \u001b[38;5;241m=\u001b[39m \u001b[43mpca\u001b[49m\u001b[38;5;241;43m.\u001b[39;49m\u001b[43mfit_transform\u001b[49m\u001b[43m(\u001b[49m\u001b[43mX\u001b[49m\u001b[43m)\u001b[49m\n\u001b[1;32m      5\u001b[0m X\n",
      "File \u001b[0;32m~/opt/anaconda3/lib/python3.9/site-packages/sklearn/decomposition/_kernel_pca.py:464\u001b[0m, in \u001b[0;36mKernelPCA.fit_transform\u001b[0;34m(self, X, y, **params)\u001b[0m\n\u001b[1;32m    443\u001b[0m \u001b[38;5;28;01mdef\u001b[39;00m \u001b[38;5;21mfit_transform\u001b[39m(\u001b[38;5;28mself\u001b[39m, X, y\u001b[38;5;241m=\u001b[39m\u001b[38;5;28;01mNone\u001b[39;00m, \u001b[38;5;241m*\u001b[39m\u001b[38;5;241m*\u001b[39mparams):\n\u001b[1;32m    444\u001b[0m     \u001b[38;5;124;03m\"\"\"Fit the model from data in X and transform X.\u001b[39;00m\n\u001b[1;32m    445\u001b[0m \n\u001b[1;32m    446\u001b[0m \u001b[38;5;124;03m    Parameters\u001b[39;00m\n\u001b[0;32m   (...)\u001b[0m\n\u001b[1;32m    462\u001b[0m \u001b[38;5;124;03m        Returns the instance itself.\u001b[39;00m\n\u001b[1;32m    463\u001b[0m \u001b[38;5;124;03m    \"\"\"\u001b[39;00m\n\u001b[0;32m--> 464\u001b[0m     \u001b[38;5;28;43mself\u001b[39;49m\u001b[38;5;241;43m.\u001b[39;49m\u001b[43mfit\u001b[49m\u001b[43m(\u001b[49m\u001b[43mX\u001b[49m\u001b[43m,\u001b[49m\u001b[43m \u001b[49m\u001b[38;5;241;43m*\u001b[39;49m\u001b[38;5;241;43m*\u001b[39;49m\u001b[43mparams\u001b[49m\u001b[43m)\u001b[49m\n\u001b[1;32m    466\u001b[0m     \u001b[38;5;66;03m# no need to use the kernel to transform X, use shortcut expression\u001b[39;00m\n\u001b[1;32m    467\u001b[0m     X_transformed \u001b[38;5;241m=\u001b[39m \u001b[38;5;28mself\u001b[39m\u001b[38;5;241m.\u001b[39meigenvectors_ \u001b[38;5;241m*\u001b[39m np\u001b[38;5;241m.\u001b[39msqrt(\u001b[38;5;28mself\u001b[39m\u001b[38;5;241m.\u001b[39meigenvalues_)\n",
      "File \u001b[0;32m~/opt/anaconda3/lib/python3.9/site-packages/sklearn/decomposition/_kernel_pca.py:432\u001b[0m, in \u001b[0;36mKernelPCA.fit\u001b[0;34m(self, X, y)\u001b[0m\n\u001b[1;32m    430\u001b[0m \u001b[38;5;28mself\u001b[39m\u001b[38;5;241m.\u001b[39m_centerer \u001b[38;5;241m=\u001b[39m KernelCenterer()\n\u001b[1;32m    431\u001b[0m K \u001b[38;5;241m=\u001b[39m \u001b[38;5;28mself\u001b[39m\u001b[38;5;241m.\u001b[39m_get_kernel(X)\n\u001b[0;32m--> 432\u001b[0m \u001b[38;5;28;43mself\u001b[39;49m\u001b[38;5;241;43m.\u001b[39;49m\u001b[43m_fit_transform\u001b[49m\u001b[43m(\u001b[49m\u001b[43mK\u001b[49m\u001b[43m)\u001b[49m\n\u001b[1;32m    434\u001b[0m \u001b[38;5;28;01mif\u001b[39;00m \u001b[38;5;28mself\u001b[39m\u001b[38;5;241m.\u001b[39mfit_inverse_transform:\n\u001b[1;32m    435\u001b[0m     \u001b[38;5;66;03m# no need to use the kernel to transform X, use shortcut expression\u001b[39;00m\n\u001b[1;32m    436\u001b[0m     X_transformed \u001b[38;5;241m=\u001b[39m \u001b[38;5;28mself\u001b[39m\u001b[38;5;241m.\u001b[39meigenvectors_ \u001b[38;5;241m*\u001b[39m np\u001b[38;5;241m.\u001b[39msqrt(\u001b[38;5;28mself\u001b[39m\u001b[38;5;241m.\u001b[39meigenvalues_)\n",
      "File \u001b[0;32m~/opt/anaconda3/lib/python3.9/site-packages/sklearn/decomposition/_kernel_pca.py:317\u001b[0m, in \u001b[0;36mKernelPCA._fit_transform\u001b[0;34m(self, K)\u001b[0m\n\u001b[1;32m    315\u001b[0m \u001b[38;5;124;03m\"\"\"Fit's using kernel K\"\"\"\u001b[39;00m\n\u001b[1;32m    316\u001b[0m \u001b[38;5;66;03m# center kernel\u001b[39;00m\n\u001b[0;32m--> 317\u001b[0m K \u001b[38;5;241m=\u001b[39m \u001b[38;5;28;43mself\u001b[39;49m\u001b[38;5;241;43m.\u001b[39;49m\u001b[43m_centerer\u001b[49m\u001b[38;5;241;43m.\u001b[39;49m\u001b[43mfit_transform\u001b[49m\u001b[43m(\u001b[49m\u001b[43mK\u001b[49m\u001b[43m)\u001b[49m\n\u001b[1;32m    319\u001b[0m \u001b[38;5;66;03m# adjust n_components according to user inputs\u001b[39;00m\n\u001b[1;32m    320\u001b[0m \u001b[38;5;28;01mif\u001b[39;00m \u001b[38;5;28mself\u001b[39m\u001b[38;5;241m.\u001b[39mn_components \u001b[38;5;129;01mis\u001b[39;00m \u001b[38;5;28;01mNone\u001b[39;00m:\n",
      "File \u001b[0;32m~/opt/anaconda3/lib/python3.9/site-packages/sklearn/base.py:852\u001b[0m, in \u001b[0;36mTransformerMixin.fit_transform\u001b[0;34m(self, X, y, **fit_params)\u001b[0m\n\u001b[1;32m    848\u001b[0m \u001b[38;5;66;03m# non-optimized default implementation; override when a better\u001b[39;00m\n\u001b[1;32m    849\u001b[0m \u001b[38;5;66;03m# method is possible for a given clustering algorithm\u001b[39;00m\n\u001b[1;32m    850\u001b[0m \u001b[38;5;28;01mif\u001b[39;00m y \u001b[38;5;129;01mis\u001b[39;00m \u001b[38;5;28;01mNone\u001b[39;00m:\n\u001b[1;32m    851\u001b[0m     \u001b[38;5;66;03m# fit method of arity 1 (unsupervised transformation)\u001b[39;00m\n\u001b[0;32m--> 852\u001b[0m     \u001b[38;5;28;01mreturn\u001b[39;00m \u001b[38;5;28;43mself\u001b[39;49m\u001b[38;5;241;43m.\u001b[39;49m\u001b[43mfit\u001b[49m\u001b[43m(\u001b[49m\u001b[43mX\u001b[49m\u001b[43m,\u001b[49m\u001b[43m \u001b[49m\u001b[38;5;241;43m*\u001b[39;49m\u001b[38;5;241;43m*\u001b[39;49m\u001b[43mfit_params\u001b[49m\u001b[43m)\u001b[49m\u001b[38;5;241;43m.\u001b[39;49m\u001b[43mtransform\u001b[49m\u001b[43m(\u001b[49m\u001b[43mX\u001b[49m\u001b[43m)\u001b[49m\n\u001b[1;32m    853\u001b[0m \u001b[38;5;28;01melse\u001b[39;00m:\n\u001b[1;32m    854\u001b[0m     \u001b[38;5;66;03m# fit method of arity 2 (supervised transformation)\u001b[39;00m\n\u001b[1;32m    855\u001b[0m     \u001b[38;5;28;01mreturn\u001b[39;00m \u001b[38;5;28mself\u001b[39m\u001b[38;5;241m.\u001b[39mfit(X, y, \u001b[38;5;241m*\u001b[39m\u001b[38;5;241m*\u001b[39mfit_params)\u001b[38;5;241m.\u001b[39mtransform(X)\n",
      "File \u001b[0;32m~/opt/anaconda3/lib/python3.9/site-packages/sklearn/preprocessing/_data.py:2263\u001b[0m, in \u001b[0;36mKernelCenterer.transform\u001b[0;34m(self, K, copy)\u001b[0m\n\u001b[1;32m   2259\u001b[0m check_is_fitted(\u001b[38;5;28mself\u001b[39m)\n\u001b[1;32m   2261\u001b[0m K \u001b[38;5;241m=\u001b[39m \u001b[38;5;28mself\u001b[39m\u001b[38;5;241m.\u001b[39m_validate_data(K, copy\u001b[38;5;241m=\u001b[39mcopy, dtype\u001b[38;5;241m=\u001b[39mFLOAT_DTYPES, reset\u001b[38;5;241m=\u001b[39m\u001b[38;5;28;01mFalse\u001b[39;00m)\n\u001b[0;32m-> 2263\u001b[0m K_pred_cols \u001b[38;5;241m=\u001b[39m (\u001b[43mnp\u001b[49m\u001b[38;5;241;43m.\u001b[39;49m\u001b[43msum\u001b[49m\u001b[43m(\u001b[49m\u001b[43mK\u001b[49m\u001b[43m,\u001b[49m\u001b[43m \u001b[49m\u001b[43maxis\u001b[49m\u001b[38;5;241;43m=\u001b[39;49m\u001b[38;5;241;43m1\u001b[39;49m\u001b[43m)\u001b[49m \u001b[38;5;241m/\u001b[39m \u001b[38;5;28mself\u001b[39m\u001b[38;5;241m.\u001b[39mK_fit_rows_\u001b[38;5;241m.\u001b[39mshape[\u001b[38;5;241m0\u001b[39m])[:, np\u001b[38;5;241m.\u001b[39mnewaxis]\n\u001b[1;32m   2265\u001b[0m K \u001b[38;5;241m-\u001b[39m\u001b[38;5;241m=\u001b[39m \u001b[38;5;28mself\u001b[39m\u001b[38;5;241m.\u001b[39mK_fit_rows_\n\u001b[1;32m   2266\u001b[0m K \u001b[38;5;241m-\u001b[39m\u001b[38;5;241m=\u001b[39m K_pred_cols\n",
      "File \u001b[0;32m<__array_function__ internals>:5\u001b[0m, in \u001b[0;36msum\u001b[0;34m(*args, **kwargs)\u001b[0m\n",
      "File \u001b[0;32m~/opt/anaconda3/lib/python3.9/site-packages/numpy/core/fromnumeric.py:2259\u001b[0m, in \u001b[0;36msum\u001b[0;34m(a, axis, dtype, out, keepdims, initial, where)\u001b[0m\n\u001b[1;32m   2256\u001b[0m         \u001b[38;5;28;01mreturn\u001b[39;00m out\n\u001b[1;32m   2257\u001b[0m     \u001b[38;5;28;01mreturn\u001b[39;00m res\n\u001b[0;32m-> 2259\u001b[0m \u001b[38;5;28;01mreturn\u001b[39;00m \u001b[43m_wrapreduction\u001b[49m\u001b[43m(\u001b[49m\u001b[43ma\u001b[49m\u001b[43m,\u001b[49m\u001b[43m \u001b[49m\u001b[43mnp\u001b[49m\u001b[38;5;241;43m.\u001b[39;49m\u001b[43madd\u001b[49m\u001b[43m,\u001b[49m\u001b[43m \u001b[49m\u001b[38;5;124;43m'\u001b[39;49m\u001b[38;5;124;43msum\u001b[39;49m\u001b[38;5;124;43m'\u001b[39;49m\u001b[43m,\u001b[49m\u001b[43m \u001b[49m\u001b[43maxis\u001b[49m\u001b[43m,\u001b[49m\u001b[43m \u001b[49m\u001b[43mdtype\u001b[49m\u001b[43m,\u001b[49m\u001b[43m \u001b[49m\u001b[43mout\u001b[49m\u001b[43m,\u001b[49m\u001b[43m \u001b[49m\u001b[43mkeepdims\u001b[49m\u001b[38;5;241;43m=\u001b[39;49m\u001b[43mkeepdims\u001b[49m\u001b[43m,\u001b[49m\n\u001b[1;32m   2260\u001b[0m \u001b[43m                      \u001b[49m\u001b[43minitial\u001b[49m\u001b[38;5;241;43m=\u001b[39;49m\u001b[43minitial\u001b[49m\u001b[43m,\u001b[49m\u001b[43m \u001b[49m\u001b[43mwhere\u001b[49m\u001b[38;5;241;43m=\u001b[39;49m\u001b[43mwhere\u001b[49m\u001b[43m)\u001b[49m\n",
      "File \u001b[0;32m~/opt/anaconda3/lib/python3.9/site-packages/numpy/core/fromnumeric.py:86\u001b[0m, in \u001b[0;36m_wrapreduction\u001b[0;34m(obj, ufunc, method, axis, dtype, out, **kwargs)\u001b[0m\n\u001b[1;32m     83\u001b[0m         \u001b[38;5;28;01melse\u001b[39;00m:\n\u001b[1;32m     84\u001b[0m             \u001b[38;5;28;01mreturn\u001b[39;00m reduction(axis\u001b[38;5;241m=\u001b[39maxis, out\u001b[38;5;241m=\u001b[39mout, \u001b[38;5;241m*\u001b[39m\u001b[38;5;241m*\u001b[39mpasskwargs)\n\u001b[0;32m---> 86\u001b[0m \u001b[38;5;28;01mreturn\u001b[39;00m \u001b[43mufunc\u001b[49m\u001b[38;5;241;43m.\u001b[39;49m\u001b[43mreduce\u001b[49m\u001b[43m(\u001b[49m\u001b[43mobj\u001b[49m\u001b[43m,\u001b[49m\u001b[43m \u001b[49m\u001b[43maxis\u001b[49m\u001b[43m,\u001b[49m\u001b[43m \u001b[49m\u001b[43mdtype\u001b[49m\u001b[43m,\u001b[49m\u001b[43m \u001b[49m\u001b[43mout\u001b[49m\u001b[43m,\u001b[49m\u001b[43m \u001b[49m\u001b[38;5;241;43m*\u001b[39;49m\u001b[38;5;241;43m*\u001b[39;49m\u001b[43mpasskwargs\u001b[49m\u001b[43m)\u001b[49m\n",
      "\u001b[0;31mKeyboardInterrupt\u001b[0m: "
     ]
    }
   ],
   "source": [
    "\n",
    "import numpy as np\n",
    "from sklearn.decomposition import PCA, KernelPCA\n",
    "pca = KernelPCA(n_components=10, kernel = 'linear')\n",
    "X = pca.fit_transform(X)\n",
    "X"
   ]
  },
  {
   "cell_type": "code",
   "execution_count": null,
   "id": "f02b6779",
   "metadata": {},
   "outputs": [],
   "source": [
    "X_train, X_test, y_train, y_test= train_test_split(X, y, test_size=0.50, random_state=123)"
   ]
  },
  {
   "cell_type": "code",
   "execution_count": 158,
   "id": "806c6dfc",
   "metadata": {},
   "outputs": [
    {
     "name": "stdout",
     "output_type": "stream",
     "text": [
      "0.8954227248249865\n",
      "[[16602  1861]\n",
      " [   81    26]]\n"
     ]
    }
   ],
   "source": [
    "clf = RandomForestClassifier(max_depth=20, random_state=0)\n",
    "clf.fit(X_train, y_train)\n",
    "pred=clf.predict(X_test)\n",
    "print(accuracy_score(pred, y_test))\n",
    "print(confusion_matrix(pred, y_test))"
   ]
  },
  {
   "cell_type": "code",
   "execution_count": 159,
   "id": "284c5439",
   "metadata": {},
   "outputs": [
    {
     "data": {
      "image/png": "[encoded data removed]",
      "text/plain": [
       "<Figure size 576x396 with 1 Axes>"
      ]
     },
     "metadata": {},
     "output_type": "display_data"
    }
   ],
   "source": [
    "#computing AUROC\n",
    "\n",
    "from sklearn.metrics import roc_curve\n",
    "\n",
    "# roc curve for models\n",
    "fpr1, tpr1, thresh1 = roc_curve(y_test, pred, pos_label=1)\n",
    "# roc curve for tpr = fpr \n",
    "random_probs = [0 for i in range(len(y_test))]\n",
    "p_fpr, p_tpr, _ = roc_curve(y_test, random_probs, pos_label=1)\n",
    "\n",
    "# matplotlib\n",
    "\n",
    "plt.style.use('seaborn')\n",
    "\n",
    "# plot roc curves\n",
    "plt.plot(fpr1, tpr1, linestyle='--',color='orange', label='Logistic Regression')\n",
    "\n",
    "plt.plot(p_fpr, p_tpr, linestyle='--', color='blue')\n",
    "# title\n",
    "plt.title('ROC curve')\n",
    "# x label\n",
    "plt.xlabel('False Positive Rate')\n",
    "# y label\n",
    "plt.ylabel('True Positive rate')\n",
    "\n",
    "plt.legend(loc='best')\n",
    "plt.savefig('ROC',dpi=300)\n",
    "plt.show();"
   ]
  },
  {
   "cell_type": "code",
   "execution_count": null,
   "id": "607d056b",
   "metadata": {},
   "outputs": [],
   "source": []
  }
 ],
 "metadata": {
  "kernelspec": {
   "display_name": "Python 3 (ipykernel)",
   "language": "python",
   "name": "python3"
  },
  "language_info": {
   "codemirror_mode": {
    "name": "ipython",
    "version": 3
   },
   "file_extension": ".py",
   "mimetype": "text/x-python",
   "name": "python",
   "nbconvert_exporter": "python",
   "pygments_lexer": "ipython3",
   "version": "3.9.12"
  }
 },
 "nbformat": 4,
 "nbformat_minor": 5
}
